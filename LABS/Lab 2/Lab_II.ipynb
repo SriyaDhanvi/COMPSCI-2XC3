{
 "cells": [
  {
   "cell_type": "markdown",
   "metadata": {},
   "source": [
    "# Computer Science 2XC3 - Graded Lab II"
   ]
  },
  {
   "cell_type": "markdown",
   "metadata": {},
   "source": [
    "In this day and age, it is very easy to generate automated solutions to any problem, not necessarily becuase of AI, but because of vast online communities that exist to find solution to popular/common problems. Whether or not that solution is correct and applicable to our context,  can be assessed only if we understand the concepts and can critically evaluate them. The goal of this lab is to motivate you to not only produce the correct solution to problems, but also to reflect about why, how and when your solution will likely succeed/fail. \n",
    "\n",
    "In this lab you will design experiments with sorting and search algorithms. Please read all instructions carefully. Seek the help of TA's if you need clarifications on the task. Do not hard code any results."
   ]
  },
  {
   "cell_type": "code",
   "execution_count": 42,
   "metadata": {},
   "outputs": [],
   "source": [
    "import random\n",
    "import time\n",
    "import timeit \n",
    "import matplotlib.pyplot as plt\n",
    "import numpy as np"
   ]
  },
  {
   "cell_type": "markdown",
   "metadata": {},
   "source": [
    "---\n",
    "---"
   ]
  },
  {
   "cell_type": "markdown",
   "metadata": {},
   "source": [
    "### Part A"
   ]
  },
  {
   "cell_type": "markdown",
   "metadata": {},
   "source": [
    "##### A1. Implement three classes with the following sorting algorithms:\n",
    "- Bubble Sort\n",
    "- Insertion Sort\n",
    "- Selection Sort"
   ]
  },
  {
   "cell_type": "code",
   "execution_count": 43,
   "metadata": {},
   "outputs": [],
   "source": [
    "class BubbleSort:\n",
    "    def __init__(self, items_to_sort):\n",
    "        self.items = items_to_sort\n",
    "        self.sorted_items=[]\n",
    "\n",
    "       ### your implementation for bubble sort goes here\n",
    "    def bubble_sort(data):\n",
    "        no_more_swap =True\n",
    "        while no_more_swap:\n",
    "            no_more_swap = False\n",
    "            for iteration in range(len(data)-1, 0, -1):\n",
    "                for index in range(iteration):\n",
    "                    if data[index] > data[index+1]:\n",
    "                        data[index],data[index+1]=data[index+1],data[index]\n",
    "        return data\n",
    "                            \n",
    "    def get_sorted(self,):\n",
    "        return self.sorted_itemsorted_items"
   ]
  },
  {
   "cell_type": "code",
   "execution_count": 44,
   "metadata": {},
   "outputs": [],
   "source": [
    "class InsertionSort:\n",
    "    def __init__(self, items_to_sort):\n",
    "        self.items = items_to_sort\n",
    "        self.sorted_items=[]\n",
    "\n",
    "    def insertion_sort_I(data):\n",
    "        for index in range(1, len(data)):\n",
    "            while index > 0 and data[index] < data[index-1]:\n",
    "                data[index],data[index-1]=data[index-1],data[index]\n",
    "                index -= 1\n",
    "        return data\n",
    "\n",
    "       ### your implementation for insertion sort goes here \n",
    "\n",
    "    def get_sorted(self,):\n",
    "        return self.sorted_items"
   ]
  },
  {
   "cell_type": "code",
   "execution_count": 45,
   "metadata": {},
   "outputs": [],
   "source": [
    "class SelectionSort:\n",
    "    def __init__(self, items_to_sort):\n",
    "        self.items = items_to_sort\n",
    "        self.sorted_items=[]\n",
    "\n",
    "       ### your implementation for selection sort goes here\n",
    "    def selection_sort(data):\n",
    "        for index in range(len(data)):\n",
    "            min_index = index\n",
    "\n",
    "            for j in range(index + 1, len(data)):\n",
    "                if data[j] < data[min_index]:\n",
    "                    min_index = j \n",
    "            \n",
    "            (data[index], data[min_index]) = (data[min_index], data[index])\n",
    "        return data\n",
    "\n",
    "    def get_sorted(self,):\n",
    "        return self.sorted_items"
   ]
  },
  {
   "cell_type": "markdown",
   "metadata": {},
   "source": [
    "___"
   ]
  },
  {
   "cell_type": "markdown",
   "metadata": {},
   "source": [
    "##### A2. Compute the performance of above 3 algorithms on a single list of real numbers.\n",
    "\n",
    "First generate a custom random list using function <code> create_custom_list()</code>. Execute each of the above algorithm for N trials ( select N >= 75) on the list and plot the timing of each execution on a bar chart. Also calculate the average execution time for the entire batch of N trials ( you can either display it on the chart or simply <code> print()</code> it). For larger values of N, consider breaking N trials into mini batches of n executions and plotting execution times for each mini batch. For instance, if you select N=1000, to plot execution timings for 1000 trials, you may break them into mini batch of n=10 trials and display average of each mini batch. This will reduce clutter in your bar charts while still enabling you to perform extensive testing with higher N.\n",
    "\n",
    "Execute each of the above algorithm on the same set of integers. The outcome of your code should be 3 charts for each algorithm run on your list N times. Few utility functions are given below. You do not have to necessarily use the <code> draw_plot()</code> function. You can plot your timings using an excel sheet and paste the image of your timings here. Refer to [Markdown Guide](https://www.markdownguide.org/basic-syntax/) on how to add images in the jupyter notebook or ask your TA."
   ]
  },
  {
   "cell_type": "code",
   "execution_count": 46,
   "metadata": {},
   "outputs": [],
   "source": [
    "def create_custom_list(length, max_value, item=None, item_index=None):\n",
    "    random_list = [random.randint(0,max_value) for i in range(length)]\n",
    "    if item!= None:\n",
    "        random_list.insert(item_index,item)\n",
    "    return random_list"
   ]
  },
  {
   "cell_type": "code",
   "execution_count": 47,
   "metadata": {},
   "outputs": [],
   "source": [
    "def draw_plot(run_arr):\n",
    "    x = np.arange(0, len(run_arr),1)\n",
    "    fig=plt.figure(figsize=(20,8))\n",
    "    plt.bar(x,run_arr)\n",
    "    plt.axhline(np.mean(run_arr),color=\"red\",linestyle=\"--\",label=\"Avg\")\n",
    "    plt.xlabel(\"Iterations\")\n",
    "    plt.ylabel(\"Run time in ms order of 1e-6\")\n",
    "    plt.title(\"Run time for retrieval\")\n",
    "    plt.show()"
   ]
  },
  {
   "cell_type": "code",
   "execution_count": 48,
   "metadata": {},
   "outputs": [
    {
     "name": "stdout",
     "output_type": "stream",
     "text": [
      "[611, 123, 1077, 385, 621, 57, 437, 626, 1711, 798]\n"
     ]
    }
   ],
   "source": [
    "my_list = create_custom_list(10, 2000)\n",
    "list1 = my_list\n",
    "list2 = my_list\n",
    "list3 = my_list\n",
    "print(my_list)"
   ]
  },
  {
   "cell_type": "code",
   "execution_count": 49,
   "metadata": {},
   "outputs": [
    {
     "name": "stdout",
     "output_type": "stream",
     "text": [
      "[611, 123, 1077, 385, 621, 57, 437, 626, 1711, 798]\n"
     ]
    },
    {
     "ename": "AttributeError",
     "evalue": "type object 'BubbleSort' has no attribute 'bubble_sort'",
     "output_type": "error",
     "traceback": [
      "\u001b[1;31m---------------------------------------------------------------------------\u001b[0m",
      "\u001b[1;31mAttributeError\u001b[0m                            Traceback (most recent call last)",
      "Cell \u001b[1;32mIn[49], line 8\u001b[0m\n\u001b[0;32m      6\u001b[0m \u001b[38;5;28;01mfor\u001b[39;00m _ \u001b[38;5;129;01min\u001b[39;00m \u001b[38;5;28mrange\u001b[39m(runs):\n\u001b[0;32m      7\u001b[0m     start \u001b[38;5;241m=\u001b[39m timeit\u001b[38;5;241m.\u001b[39mdefault_timer()\n\u001b[1;32m----> 8\u001b[0m     \u001b[43mBubbleSort\u001b[49m\u001b[38;5;241;43m.\u001b[39;49m\u001b[43mbubble_sort\u001b[49m(list1)\n\u001b[0;32m      9\u001b[0m     \u001b[38;5;66;03m#found = BubbleSort.bubble_sort(list1)\u001b[39;00m\n\u001b[0;32m     10\u001b[0m     stop \u001b[38;5;241m=\u001b[39m timeit\u001b[38;5;241m.\u001b[39mdefault_timer()\n",
      "\u001b[1;31mAttributeError\u001b[0m: type object 'BubbleSort' has no attribute 'bubble_sort'"
     ]
    }
   ],
   "source": [
    "### Bubble sort experiment code goes here\n",
    "runs = 100\n",
    "run_times = []\n",
    "#list1 = my_list\n",
    "print(list1)\n",
    "for _ in range(runs):\n",
    "    start = timeit.default_timer()\n",
    "    BubbleSort.bubble_sort(list1)\n",
    "    #found = BubbleSort.bubble_sort(list1)\n",
    "    stop = timeit.default_timer()\n",
    "    run_times.append(stop-start)\n",
    "print(list1)\n",
    "\n",
    "draw_plot(run_times)"
   ]
  },
  {
   "cell_type": "code",
   "execution_count": null,
   "metadata": {},
   "outputs": [],
   "source": [
    "### Insertion sort experiment code goes here\n",
    "runs = 100\n",
    "run_times = []\n",
    "#list2 = my_list\n",
    "print(list2)\n",
    "for _ in range(runs):\n",
    "    start = timeit.default_timer()\n",
    "    InsertionSort.insertion_sort(list2)\n",
    "    stop = timeit.default_timer()\n",
    "    run_times.append(stop-start)\n",
    "print(list2)\n",
    "\n",
    "draw_plot(run_times)"
   ]
  },
  {
   "cell_type": "code",
   "execution_count": null,
   "metadata": {},
   "outputs": [],
   "source": [
    "### Selection sort experiment code goes here\n",
    "runs = 100\n",
    "run_times = []\n",
    "#list3 = my_list\n",
    "print(list3)\n",
    "for _ in range(runs):\n",
    "    start = timeit.default_timer()\n",
    "    SelectionSort.selection_sort(list3)\n",
    "    stop = timeit.default_timer()\n",
    "    run_times.append(stop-start)\n",
    "print(list3)\n",
    "\n",
    "draw_plot(run_times)"
   ]
  },
  {
   "cell_type": "markdown",
   "metadata": {},
   "source": [
    "You would notice that certain sorting algorithms have better time complexity (or performance) than others. Write below a reflection of your observations. Can you confidently compare the performance across the 3 algorithms? Why does certain algorithm perform better than the other? What are the various factors impacting the best performing and the worst performing algorithm. Write a few sentences answering each of the above questions. Also describe any other observation you found important.\n",
    "\n",
    "**Reflection**:\n"
   ]
  },
  {
   "cell_type": "markdown",
   "metadata": {},
   "source": [
    "---"
   ]
  },
  {
   "cell_type": "markdown",
   "metadata": {},
   "source": [
    "##### A3. Compute the performance of above 3 algorithms on a different list sizes.\n",
    "\n",
    "The <code> create_custom_list()</code> helps you create lists of varying lengths and range of numbers. Plot a **line chart** that shows the performance of each algorithm on different list sizes ranging between 1 - 100,000 integers. If you think about this question, you are essentially plotting the time complexity on various list sizes. "
   ]
  },
  {
   "cell_type": "code",
   "execution_count": null,
   "metadata": {},
   "outputs": [],
   "source": [
    "### Bubble sort experiment code goes here"
   ]
  },
  {
   "cell_type": "code",
   "execution_count": null,
   "metadata": {},
   "outputs": [],
   "source": [
    "### Insertion sort experiment code goes here"
   ]
  },
  {
   "cell_type": "code",
   "execution_count": null,
   "metadata": {},
   "outputs": [],
   "source": [
    "### Selection sort experiment code goes here"
   ]
  },
  {
   "cell_type": "markdown",
   "metadata": {},
   "source": [
    "Describe you results here. What did you observe when comparing the charts? Which algorithm was more performant and why?\n",
    "\n",
    "**Reflection** :"
   ]
  },
  {
   "cell_type": "markdown",
   "metadata": {},
   "source": [
    "---"
   ]
  },
  {
   "cell_type": "markdown",
   "metadata": {},
   "source": [
    "##### A4. Compute the performance of above 3 algorithms on a different list \"states\".\n",
    "\n",
    "Using the same above list generation function (or writing a function of your own), create two different lists states: \n",
    "\n",
    "- A state where the list is **near** sorted.\n",
    "- A state where the list is completely unsorted.\n",
    "\n",
    "HINTS: \n",
    "\n",
    "- You can implement a \"controlled\" Quicksort algorithm for such a function. While you can find many implementations of such a function online, significant number of those solutions originate from this psuedocode [Generating Sorted Lists of Random Numbers](https://dl.acm.org/doi/pdf/10.1145/355900.355907). \n",
    "\n",
    "- You can modify the list generation code given above to create the above list examples.\n",
    "\n",
    "Compare the performance of all 3 sorting algorithms on these two lists. Plot their performance on bar chart and display them here. "
   ]
  },
  {
   "cell_type": "code",
   "execution_count": null,
   "metadata": {},
   "outputs": [
    {
     "data": {
      "text/plain": [
       "'need to create 6 combinations\\n   try to see if we can quantify when a list is 60, 70 or 80% sorted\\n   \\n'"
      ]
     },
     "execution_count": 20,
     "metadata": {},
     "output_type": "execute_result"
    }
   ],
   "source": [
    "\"\"\"need to create 6 combinations\n",
    "   try to see if we can quantify when a list is 60, 70 or 80% sorted\n",
    "   \n",
    "\"\"\""
   ]
  },
  {
   "cell_type": "code",
   "execution_count": null,
   "metadata": {},
   "outputs": [],
   "source": [
    "### Bubble sort experiment code goes here"
   ]
  },
  {
   "cell_type": "code",
   "execution_count": null,
   "metadata": {},
   "outputs": [],
   "source": [
    "### Selection sort experiment code goes here"
   ]
  },
  {
   "cell_type": "code",
   "execution_count": null,
   "metadata": {},
   "outputs": [],
   "source": [
    "### Insertion sort experiment code goes here"
   ]
  },
  {
   "cell_type": "markdown",
   "metadata": {},
   "source": [
    "Describe you observations here. Which algorithm performs best / worst for sorted/near sorted lists and why? Does the performance vary significantly? Describe which runs times were higher and why do you think that is? You woul\n",
    "\n",
    "**Reflection** :"
   ]
  },
  {
   "cell_type": "markdown",
   "metadata": {},
   "source": [
    "---\n",
    "---"
   ]
  },
  {
   "cell_type": "markdown",
   "metadata": {},
   "source": [
    "### Part B"
   ]
  },
  {
   "cell_type": "markdown",
   "metadata": {},
   "source": [
    "In the class, we discussed three implementations of Binary Search. "
   ]
  },
  {
   "cell_type": "code",
   "execution_count": null,
   "metadata": {},
   "outputs": [],
   "source": [
    "def binary_search_1(item_list, to_find):\n",
    "    lower=0\n",
    "    upper=len(item_list)-1\n",
    "    while lower < upper:\n",
    "        mid = (lower+upper)//2\n",
    "        if item_list[mid] == to_find:\n",
    "            return True\n",
    "        if item_list[mid] < to_find:\n",
    "            lower = mid+1\n",
    "        else:\n",
    "            upper=mid\n",
    "    return item_list[lower]==to_find"
   ]
  },
  {
   "cell_type": "code",
   "execution_count": null,
   "metadata": {},
   "outputs": [],
   "source": [
    "def binary_search_2(item_list, to_find):\n",
    "    lower=0\n",
    "    upper=len(item_list)-1\n",
    "    while lower <= upper:\n",
    "        mid = (lower+upper)//2\n",
    "        if item_list[mid] == to_find:\n",
    "            return True\n",
    "        if item_list[mid] < to_find:\n",
    "            lower = mid+1\n",
    "        else:\n",
    "            upper=mid-1\n",
    "    return item_list[lower]==to_find"
   ]
  },
  {
   "cell_type": "code",
   "execution_count": null,
   "metadata": {},
   "outputs": [],
   "source": [
    "def binary_search_3(item_list, to_find):\n",
    "    left=0\n",
    "    right=len(item_list)-1\n",
    "    while left != right:\n",
    "        mid = (left+right)//2\n",
    "        if item_list[mid] < to_find:\n",
    "            left = mid+1\n",
    "        elif item_list[mid] > to_find:\n",
    "            right = mid\n",
    "        else:\n",
    "            return True\n",
    "    return item_list[left]==to_find"
   ]
  },
  {
   "cell_type": "markdown",
   "metadata": {},
   "source": [
    "Compare the performance of each implementation (or variation) with two lists:\n",
    "\n",
    "1. List is odd numbered (minimum 1000 integers)\n",
    "1. List is even numbered (minimum 1000 integers)\n",
    "\n",
    "Run the above experiments when the item to be found is:\n",
    "1. At the begining of the list.\n",
    "1. Towards the end of the list.\n",
    "1. Right at the middle of the list.\n",
    "\n",
    "The above three combinations would yield 3X2 experiments. Provide detailed outline of the experiments, plots, and a brief description of the observations in the reflections section."
   ]
  },
  {
   "cell_type": "code",
   "execution_count": null,
   "metadata": {},
   "outputs": [
    {
     "name": "stdout",
     "output_type": "stream",
     "text": [
      "Even list:  [1991, 984, 550, 889, 720, 376, 1830, 993, 168, 1377, 13, 1739, 1768, 1581, 455, 1460, 1513, 935, 1460, 1181, 1051, 86, 1628, 394, 340, 1402, 1718, 850, 198, 1463, 669, 350, 1542, 1189, 1507, 958, 1516, 1059, 1882, 1613, 627, 1461, 686, 1180, 1210, 1214, 1493, 1525, 1922, 1499, 1232, 1086, 1744, 796, 1685, 221, 649, 776, 1878, 1383, 1624, 1992, 1003, 836, 798, 974, 1578, 1656, 1413, 1300, 1188, 518, 1990, 584, 952, 659, 948, 1468, 242, 1480, 1398, 6, 803, 972, 1052, 819, 645, 810, 540, 1736, 156, 1841, 1230, 978, 1852, 823, 1980, 105, 673, 548, 8, 761, 20, 229, 1119, 933, 663, 875, 585, 564, 1961, 1693, 293, 535, 1621, 1634, 1937, 2, 900, 963, 683, 669, 631, 670, 1388, 1044, 1877, 1594, 1863, 746, 399, 1841, 1940, 664, 259, 1160, 1967, 1232, 1258, 1216, 1775, 987, 1123, 575, 362, 86, 480, 1978, 661, 250, 1065, 1857, 1964, 225, 1088, 1978, 1554, 1498, 1141, 1526, 370, 1496, 416, 497, 495, 970, 1355, 78, 573, 1982, 1046, 667, 960, 427, 404, 429, 1504, 1444, 17, 62, 267, 614, 1624, 611, 1534, 357, 96, 290, 942, 1843, 216, 667, 736, 1084, 1853, 336, 1531, 992, 970, 99, 1579, 295, 1428, 257, 1035, 1899, 1878, 967, 1525, 296, 774, 642, 1493, 1905, 1339, 858, 721, 200, 1081, 74, 680, 177, 1750, 718, 1231, 724, 610, 1871, 471, 1180, 598, 698, 357, 515, 1394, 1112, 1547, 973, 1892, 1412, 1471, 644, 419, 476, 305, 869, 1264, 1073, 400, 434, 1519, 43, 770, 1643, 22, 393, 710, 701, 1252, 1102, 1394, 1322, 1037, 1663, 766, 417, 325, 1948, 695, 190, 50, 1085, 1745, 1712, 39, 991, 1114, 651, 380, 297, 929, 989, 1295, 922, 1951, 1732, 894, 1591, 1149, 443, 975, 1283, 716, 1866, 358, 361, 1816, 1484, 440, 1115, 315, 1100, 985, 1181, 484, 893, 257, 311, 736, 743, 280, 10, 1161, 163, 816, 254, 1636, 572, 1147, 1750, 29, 1663, 845, 1029, 894, 529, 210, 1859, 908, 1739, 1522, 1307, 151, 1967, 1531, 363, 332, 1019, 561, 1238, 1847, 1385, 59, 951, 1637, 802, 125, 1642, 918, 1752, 687, 202, 754, 1490, 534, 1680, 562, 1652, 1116, 692, 2, 827, 1031, 1641, 736, 1082, 628, 387, 1059, 705, 1968, 319, 23, 1674, 100, 1034, 1205, 114, 1898, 1880, 449, 1035, 1097, 924, 1677, 1556, 1913, 79, 161, 139, 181, 1017, 1669, 644, 693, 969, 1965, 222, 1317, 223, 331, 1810, 385, 1346, 380, 634, 868, 1335, 1087, 557, 848, 193, 932, 721, 1006, 1191, 1466, 1311, 1509, 894, 804, 1015, 1217, 128, 872, 1280, 535, 1700, 192, 651, 1675, 725, 1333, 1984, 491, 1466, 1665, 811, 1430, 780, 613, 1488, 1177, 365, 790, 699, 1576, 505, 1578, 1513, 1136, 926, 1184, 860, 1378, 1893, 1960, 1472, 364, 253, 1532, 743, 719, 1045, 685, 342, 1471, 935, 1899, 650, 903, 1430, 593, 790, 604, 1113, 814, 735, 1555, 1049, 1904, 492, 813, 501, 1476, 1126, 389, 632, 1503, 839, 1284, 225, 612, 943, 800, 1685, 554, 765, 1809, 1532, 1789, 930, 1446, 166, 625, 677, 1767, 1426, 1157, 1218, 1463, 270, 1372, 1470, 1898, 1559, 1490, 1725, 484, 1263, 4, 1369, 520, 1562, 1604, 106, 1148, 987, 1888, 849, 784, 690, 1109, 1228, 1398, 278, 1467, 1080, 43, 1749, 574, 1487, 907, 1291, 783, 718, 871, 897, 1767, 618, 442, 908, 1875, 1759, 33, 941, 1047, 1041, 1828, 142, 1357, 1564, 1792, 293, 1211, 254, 1224, 1605, 1520, 1577, 1881, 227, 1205, 388, 1706, 1016, 1819, 240, 298, 570, 1674, 791, 1194, 756, 1943, 523, 304, 1473, 1964, 953, 1805, 271, 30, 1588, 1362, 517, 1803, 1704, 144, 1673, 280, 1351, 1885, 796, 93, 1037, 1109, 620, 967, 919, 1225, 1878, 1529, 1086, 1802, 980, 322, 1587, 103, 1981, 429, 195, 78, 1354, 1502, 1735, 1620, 1681, 735, 36, 720, 1227, 572, 1294, 1900, 98, 1726, 211, 1516, 593, 62, 1746, 952, 860, 281, 395, 537, 984, 1455, 1929, 1298, 119, 916, 1559, 794, 716, 1173, 104, 898, 1396, 1401, 1469, 7, 635, 385, 1894, 108, 1972, 920, 959, 1331, 1244, 477, 1736, 1608, 1314, 146, 145, 60, 977, 1565, 1339, 1849, 1802, 1266, 574, 388, 62, 89, 401, 1347, 980, 274, 556, 1899, 838, 521, 639, 550, 651, 340, 436, 1473, 1625, 1262, 1244, 485, 756, 39, 1834, 1126, 1567, 1790, 1410, 670, 1523, 841, 1927, 113, 1049, 1596, 1482, 630, 139, 245, 1767, 969, 854, 1493, 1138, 911, 296, 1282, 1614, 1330, 1719, 1816, 1536, 332, 986, 1719, 435, 913, 1701, 181, 376, 1168, 1714, 1109, 1880, 1065, 909, 1789, 749, 150, 1475, 557, 730, 1272, 940, 1648, 1959, 1517, 998, 394, 552, 850, 1103, 659, 1649, 1623, 1179, 1334, 1687, 630, 1385, 1194, 1952, 1183, 1616, 1735, 47, 1181, 1785, 961, 377, 167, 500, 1939, 1987, 1708, 1779, 697, 742, 1954, 1558, 336, 1505, 1762, 49, 1666, 978, 312, 331, 839, 1613, 1371, 930, 7, 812, 1962, 1028, 573, 1925, 1402, 1348, 855, 1949, 482, 1496, 1998, 1619, 271, 578, 609, 211, 173, 71, 1386, 1198, 1199, 319, 1683, 111, 1436, 523, 1649, 1561, 1083, 1834, 1065, 1060, 384, 649, 746, 1842, 1138, 300, 1553, 1009, 363, 285, 128, 1853, 1691, 867, 205, 1551, 1536, 1662, 989, 193, 929, 100, 920, 1111, 996, 1193, 155, 382, 661, 1439, 1697, 1074, 667, 168, 1500, 1938, 1903, 1540, 811, 198, 1803, 84, 1295, 56, 1023, 480, 308, 1854, 1136, 628, 1928, 722, 1397, 969, 649, 1176, 1839, 722, 1538, 549, 1048, 1315, 870, 620, 339, 1567, 1944, 71, 1226, 731, 998, 620, 70, 243, 94, 423, 1939, 949, 768, 1043, 849, 819, 1294, 1841, 294, 1517, 356, 1318, 1984, 108, 943, 1695, 118, 849, 592, 1865, 1924, 972, 243, 1635, 738, 1866, 1883, 355, 458, 1421, 1251, 1837, 1158, 426, 568, 1517, 1423, 397, 1593, 1663, 1270, 1526, 1577, 1343, 265, 1267, 1190, 1466, 41, 995, 1193, 162, 797, 1299, 1773, 651, 186, 1671, 1266, 1518, 757, 1585, 1112, 357, 1646, 898, 284, 1662, 1701, 1210, 1048, 1323, 280, 149, 250, 1960, 1861, 1673, 819, 1118, 1336, 430, 453, 1470]\n",
      "Odd list:  [376, 1559, 177, 1268, 1978, 1696, 1048, 727, 326, 665, 958, 233, 1351, 1317, 148, 1709, 1382, 1127, 1867, 78, 1078, 395, 1663, 552, 285, 1586, 1389, 524, 1215, 459, 610, 1574, 352, 1390, 544, 932, 858, 167, 1244, 823, 365, 1030, 1588, 1522, 1687, 429, 1767, 1917, 858, 1845, 541, 737, 824, 1156, 1785, 313, 1355, 498, 177, 538, 585, 270, 2000, 1358, 1311, 1082, 1124, 833, 1053, 1532, 24, 1207, 1274, 70, 416, 1783, 1029, 93, 1944, 1335, 1678, 429, 1822, 1213, 430, 1127, 1458, 388, 675, 1150, 1449, 1419, 1404, 1166, 440, 554, 788, 1145, 1917, 482, 1488, 1519, 592, 1212, 1652, 840, 634, 1553, 800, 1077, 239, 1125, 341, 1619, 709, 1490, 177, 868, 1499, 1622, 1197, 717, 1418, 1405, 862, 1230, 800, 752, 11, 1698, 804, 364, 1895, 1765, 865, 1991, 730, 1033, 1843, 998, 629, 1842, 867, 1174, 412, 1405, 1906, 1609, 624, 1587, 1245, 1736, 434, 1399, 1493, 1434, 1875, 266, 809, 564, 38, 499, 719, 287, 854, 1733, 1981, 1694, 1190, 1380, 1835, 1446, 1336, 766, 1288, 910, 539, 1478, 563, 1472, 113, 32, 1266, 224, 256, 595, 1111, 472, 1840, 1599, 1024, 1194, 1324, 1746, 226, 81, 1667, 1655, 1941, 1641, 879, 1470, 1123, 1260, 549, 1425, 467, 1851, 557, 1733, 107, 1369, 376, 1921, 1046, 687, 996, 309, 1335, 175, 1484, 1703, 1942, 551, 214, 249, 1189, 177, 125, 237, 1187, 1786, 1236, 1637, 643, 387, 1485, 1672, 193, 548, 632, 1329, 1293, 1257, 1606, 1387, 444, 783, 619, 971, 251, 1455, 685, 1106, 1169, 789, 1561, 1008, 235, 252, 471, 1809, 1279, 1659, 1515, 607, 825, 96, 568, 1338, 1911, 580, 825, 1820, 1321, 1800, 1072, 1689, 583, 599, 664, 471, 1754, 1460, 1832, 1253, 1712, 926, 596, 699, 616, 201, 965, 193, 1073, 380, 1695, 1853, 1985, 1160, 408, 1345, 122, 591, 1009, 451, 1439, 923, 1258, 19, 574, 1458, 1968, 424, 399, 1400, 1646, 1598, 1364, 1099, 593, 1151, 1579, 1395, 1012, 771, 1236, 228, 1304, 1515, 1987, 1101, 1545, 1635, 1995, 521, 1902, 502, 622, 1530, 1266, 1324, 438, 404, 944, 1794, 1232, 1027, 375, 685, 972, 1627, 1372, 1071, 345, 1275, 359, 264, 1515, 413, 802, 178, 1165, 1897, 87, 358, 1907, 963, 1925, 937, 816, 1419, 39, 399, 135, 1852, 1300, 144, 1918, 1259, 296, 142, 1950, 1318, 68, 1101, 1379, 1218, 1975, 903, 4, 1711, 27, 613, 426, 192, 1075, 1296, 261, 1674, 1928, 621, 129, 917, 109, 1013, 1669, 195, 1437, 1366, 233, 1378, 1730, 1987, 372, 1026, 1224, 967, 1630, 1919, 207, 82, 1797, 1213, 1852, 1663, 1001, 1098, 962, 1118, 839, 802, 35, 270, 1996, 1024, 55, 1382, 1646, 441, 838, 30, 1532, 293, 702, 1700, 1993, 600, 1924, 872, 403, 789, 87, 1112, 488, 885, 565, 349, 765, 85, 33, 1019, 1145, 1393, 1554, 1187, 12, 431, 1196, 847, 507, 1097, 481, 1066, 1837, 519, 1062, 350, 1537, 1637, 641, 1771, 1130, 1198, 1256, 707, 454, 1029, 1270, 481, 1543, 1559, 1298, 1171, 1133, 1143, 1647, 334, 19, 2000, 1367, 1064, 568, 1826, 1310, 1817, 1987, 145, 268, 344, 759, 789, 1297, 1374, 984, 558, 1966, 1460, 1734, 429, 940, 713, 114, 1623, 612, 240, 195, 1420, 1709, 995, 549, 1470, 1821, 1890, 545, 624, 1330, 1676, 994, 234, 1302, 980, 1422, 563, 559, 1423, 480, 328, 1356, 300, 1299, 576, 1815, 1502, 214, 1993, 71, 721, 883, 90, 1306, 17, 625, 1387, 456, 315, 1410, 1031, 1310, 75, 1605, 1886, 1939, 1556, 249, 1338, 671, 140, 1238, 161, 867, 376, 551, 1724, 1219, 748, 308, 135, 1450, 1139, 205, 1599, 1411, 1571, 272, 998, 1360, 1623, 996, 588, 418, 244, 1141, 848, 1361, 1041, 986, 1240, 1694, 696, 1273, 1672, 609, 1718, 1751, 1594, 730, 1198, 96, 675, 214, 623, 446, 571, 1091, 1119, 906, 925, 1745, 948, 159, 1484, 1056, 176, 707, 351, 458, 1209, 1528, 887, 651, 458, 1363, 1345, 1625, 696, 1180, 1717, 1846, 1137, 420, 556, 1025, 1924, 457, 1979, 1466, 486, 1758, 221, 315, 1494, 894, 1472, 1099, 304, 968, 0, 1902, 1964, 777, 385, 653, 1550, 954, 1648, 408, 1642, 956, 1799, 491, 1849, 490, 576, 1906, 1103, 1432, 801, 231, 875, 1776, 20, 1632, 870, 1517, 107, 1421, 119, 942, 1222, 218, 1135, 1446, 4, 392, 1892, 1530, 1935, 1858, 1287, 1413, 1774, 544, 1517, 1268, 1570, 562, 1654, 418, 1565, 221, 1559, 1698, 453, 1400, 153, 286, 1431, 1900, 161, 1924, 463, 185, 1212, 1498, 596, 1490, 1483, 300, 1833, 697, 415, 1353, 751, 688, 1467, 1344, 864, 334, 1977, 1886, 1349, 1939, 65, 1439, 816, 1207, 1456, 786, 1663, 956, 1780, 1172, 906, 1915, 1032, 1920, 885, 1876, 1970, 532, 1434, 1717, 1573, 868, 1569, 1362, 692, 1876, 1376, 697, 441, 738, 1534, 1924, 987, 348, 1359, 726, 1920, 170, 1936, 842, 528, 1718, 1043, 814, 522, 830, 298, 1239, 404, 1883, 1592, 625, 1096, 1387, 536, 10, 672, 1831, 1587, 1330, 1857, 480, 1704, 1197, 761, 1789, 1140, 997, 317, 992, 214, 1139, 1329, 912, 1849, 427, 858, 1064, 488, 381, 590, 1652, 1094, 684, 692, 140, 1251, 1025, 1094, 968, 1394, 1466, 819, 414, 934, 579, 872, 1407, 903, 780, 1171, 1610, 1749, 4, 1922, 897, 1573, 521, 144, 717, 679, 901, 290, 633, 1566, 1033, 1880, 1727, 351, 107, 1853, 670, 463, 1382, 1655, 1451, 98, 1117, 422, 58, 239, 1399, 1355, 406, 1798, 110, 341, 497, 791, 392, 1221, 182, 203, 70, 1488, 1029, 743, 249, 1447, 447, 1482, 653, 780, 688, 1420, 626, 845, 713, 1503, 487, 1304, 932, 125, 617, 1522, 603, 68, 885, 515, 1211, 1394, 1858, 200, 887, 806, 44, 694, 1253, 701, 1759, 168, 465, 1764, 1726, 1272, 1480, 1479, 81, 848, 780, 396, 706, 61, 308, 587, 642, 111, 1728, 1660, 1687, 89, 1285, 1378, 1731, 1570, 855, 1097, 1965, 1512, 137, 1276, 84, 1101, 814, 887, 433, 314, 1530, 782, 1648, 1340, 512, 1148, 1965, 1486, 1526, 1611, 1772, 508, 206, 1686, 1337, 1964, 1744, 1794, 266, 1558, 1962, 1776, 411, 741, 1936, 1388, 212, 969, 46, 810, 683]\n"
     ]
    }
   ],
   "source": [
    "## you experiment code goes here\n",
    "even_list = create_custom_list(1002, 2000, item=None, item_index=None)\n",
    "odd_list = create_custom_list(1001, 2000, item=None, item_index=None)\n",
    "\n",
    "print (\"Even list: \",even_list)\n",
    "print (\"Odd list: \", odd_list)"
   ]
  },
  {
   "cell_type": "code",
   "execution_count": null,
   "metadata": {},
   "outputs": [],
   "source": [
    "#using EVEN numbered list with item to be found at the BEGINNING of the list"
   ]
  },
  {
   "cell_type": "code",
   "execution_count": null,
   "metadata": {},
   "outputs": [],
   "source": [
    "#using EVEN numbered list with item to be found towards the END of the list"
   ]
  },
  {
   "cell_type": "code",
   "execution_count": null,
   "metadata": {},
   "outputs": [],
   "source": [
    "#using EVEN numbered list with item to be found in the MIDDLE of the list"
   ]
  },
  {
   "cell_type": "code",
   "execution_count": null,
   "metadata": {},
   "outputs": [],
   "source": [
    "#using ODD numbered list with item to be found at the BEGINNING of the list"
   ]
  },
  {
   "cell_type": "code",
   "execution_count": null,
   "metadata": {},
   "outputs": [],
   "source": [
    "#using ODD numbered list with item to be found towards the END of the list"
   ]
  },
  {
   "cell_type": "code",
   "execution_count": null,
   "metadata": {},
   "outputs": [],
   "source": [
    "#using ODD numbered list with item to be found in the MIDDLE of the list"
   ]
  },
  {
   "cell_type": "markdown",
   "metadata": {},
   "source": [
    "**Reflection**:"
   ]
  },
  {
   "cell_type": "markdown",
   "metadata": {},
   "source": [
    "---\n",
    "---"
   ]
  },
  {
   "cell_type": "markdown",
   "metadata": {},
   "source": [
    "### Part C"
   ]
  },
  {
   "cell_type": "markdown",
   "metadata": {},
   "source": [
    "Recall that I discussed in the class, the possibility of \"reducing the comparisons\" in Binary Search implementation. One solution came up is to remove the comparison with \"mid\". If you design an experiment to test this, you will soon realize that while this speeds up the execution time by reducing the number of comparisons needed, it fails when the element to be searched is right in the middle.  So are there any ways to improve the speed of Binary Search that is not dependent on data? The answer is recursion! In this section, implement a Binary Search recursively."
   ]
  },
  {
   "cell_type": "code",
   "execution_count": null,
   "metadata": {},
   "outputs": [],
   "source": [
    "def binary_search_4(item_list, to_find):\n",
    "    return False"
   ]
  },
  {
   "cell_type": "markdown",
   "metadata": {},
   "source": [
    "Run all the experiments in Part B comapring all 4 implementations under all 6 cases. Plot the timings, and describe the results in the below section. Write a short description of your observation; why is recursion better in this case?"
   ]
  },
  {
   "cell_type": "code",
   "execution_count": null,
   "metadata": {},
   "outputs": [],
   "source": [
    "# your implementation and experiments go here."
   ]
  },
  {
   "cell_type": "markdown",
   "metadata": {},
   "source": [
    "##### Result Discussion:"
   ]
  },
  {
   "cell_type": "markdown",
   "metadata": {},
   "source": [
    "---\n",
    "---"
   ]
  },
  {
   "cell_type": "markdown",
   "metadata": {},
   "source": [
    "### PART D"
   ]
  },
  {
   "cell_type": "markdown",
   "metadata": {},
   "source": [
    "Now that you are comfortable in designing experiments, in this section, use the implementations of **Heap**, **Merge**, and **Quick** sort discussed in class and run suitable experiments to compare the runtimes of these three algorithms. \n",
    "\n",
    "Hint: it should become clear where Quick sort gets its name."
   ]
  },
  {
   "cell_type": "code",
   "execution_count": null,
   "metadata": {},
   "outputs": [],
   "source": [
    "# your implementation and experiments go here."
   ]
  },
  {
   "cell_type": "markdown",
   "metadata": {},
   "source": [
    "In this section, provide a detailed outline of:\n",
    "- The experiments you ran, length values of the list you chose, number of runs, etc.\n",
    "- The plots showing the run times corresponding to each algorithm.\n",
    "- A brief discussion and conclusion regarding the results. A few sentences are fine here."
   ]
  },
  {
   "cell_type": "markdown",
   "metadata": {},
   "source": [
    "---\n",
    "---"
   ]
  },
  {
   "cell_type": "markdown",
   "metadata": {},
   "source": [
    "### PART E"
   ]
  },
  {
   "cell_type": "markdown",
   "metadata": {},
   "source": [
    "E1. In previous experiments you also saw that not all algorithms are suitable for all scenarios. For instance, Merge Sort is better than Quick sort for certain situations. In this section, design a experiment to compare the scenarios where Merge Sort is better/worse than Quick Sort. You can use the traditional version of Merge Sort or use improved version ( maybe via recursion) to compare this performance."
   ]
  },
  {
   "cell_type": "code",
   "execution_count": null,
   "metadata": {},
   "outputs": [],
   "source": [
    "# your implementation and experiments go here."
   ]
  },
  {
   "cell_type": "markdown",
   "metadata": {},
   "source": [
    "In this section, provide a detailed outline of:\n",
    "- The experiments you ran, length values of the list you chose, number of runs, etc.\n",
    "- The plots showing the run times corresponding to each algorithm.\n",
    "- A brief discussion and conclusion regarding the results. A few sentences are fine here."
   ]
  },
  {
   "cell_type": "markdown",
   "metadata": {},
   "source": [
    "---"
   ]
  },
  {
   "cell_type": "markdown",
   "metadata": {},
   "source": [
    "E2. Recall that on the first day of class I asked which two algorithms have similar complexity - Merge Sort and Quick Sort under (O(nlogn)) are likely to perform similar under average cases. However, under worst case, the complexity of quick sort is much worse (O(n^2). Design an experiment to show this behavior. Plot this behavior on a bar/line chart. \n",
    "\n",
    "Next, count the number of \"swaps\" after which Quick sort starts behaving comparable to Merge sort. \n",
    "\n",
    "HINT: This will be a threshold at which the quick sort algorithm picks up again.\n"
   ]
  },
  {
   "cell_type": "code",
   "execution_count": null,
   "metadata": {},
   "outputs": [],
   "source": [
    "## your implementation and code goes here"
   ]
  },
  {
   "cell_type": "markdown",
   "metadata": {},
   "source": [
    "In this section, provide a detailed outline of:\n",
    "- The experiments you ran and the rationale behind your worst case scenario.\n",
    "- The plots showing the run times.\n",
    "\n",
    "Further explain how you computed the swaps and verify that you calculation is correct, by applying it on a diifferent list under same experimental conditions."
   ]
  },
  {
   "cell_type": "markdown",
   "metadata": {},
   "source": [
    "**Reflection**:"
   ]
  },
  {
   "cell_type": "markdown",
   "metadata": {},
   "source": [
    "---\n",
    "---"
   ]
  },
  {
   "cell_type": "markdown",
   "metadata": {},
   "source": [
    "### PART F"
   ]
  },
  {
   "cell_type": "markdown",
   "metadata": {},
   "source": [
    "Traditionally, Insertion Sort is worst than Heap Sort and Merge Sort. Now that you are a master at critical evaluation of sorting and searching algorithms, design an experiment to show that this may not be universally true. That is, there maybe scenarios where insertion sort is better than merge and heap sort.\n",
    "\n",
    "HINT: Think about the Best Case of insertion sort.\n",
    "\n",
    "Again, provide:\n",
    "- An explicit outline of the experiments you ran. That is, list length values, how many “runs”, etc.\n",
    "- A graph of list length vs time displaying the appropriate three curves showing. List lengths should be small here.\n",
    "- A brief discussion and conclusion regarding the results. A few sentences are fine here.\n",
    "- Reflect on why these are experiments are important. \n",
    "\n",
    "HINT: Can you create some sort of \"hybrid\" sort that would be better?"
   ]
  },
  {
   "cell_type": "code",
   "execution_count": null,
   "metadata": {},
   "outputs": [],
   "source": [
    "## your implementation and code goes here"
   ]
  },
  {
   "cell_type": "markdown",
   "metadata": {},
   "source": [
    "**Reflection**:"
   ]
  },
  {
   "cell_type": "markdown",
   "metadata": {},
   "source": [
    "---\n",
    "---"
   ]
  },
  {
   "cell_type": "markdown",
   "metadata": {},
   "source": [
    "**Team Contributions**: In below section describe in detail how you distributed the workload and contributions of each member in the task."
   ]
  },
  {
   "cell_type": "markdown",
   "metadata": {},
   "source": []
  },
  {
   "cell_type": "markdown",
   "metadata": {},
   "source": [
    "---\n",
    "---"
   ]
  },
  {
   "cell_type": "markdown",
   "metadata": {},
   "source": []
  }
 ],
 "metadata": {
  "kernelspec": {
   "display_name": "base",
   "language": "python",
   "name": "python3"
  },
  "language_info": {
   "codemirror_mode": {
    "name": "ipython",
    "version": 3
   },
   "file_extension": ".py",
   "mimetype": "text/x-python",
   "name": "python",
   "nbconvert_exporter": "python",
   "pygments_lexer": "ipython3",
   "version": "3.11.1"
  }
 },
 "nbformat": 4,
 "nbformat_minor": 2
}
