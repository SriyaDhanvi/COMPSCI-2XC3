{
 "cells": [
  {
   "cell_type": "markdown",
   "metadata": {},
   "source": [
    "# Computer Science 2XC3 - Graded Lab II"
   ]
  },
  {
   "cell_type": "markdown",
   "metadata": {},
   "source": [
    "In this day and age, it is very easy to generate automated solutions to any problem, not necessarily becuase of AI, but because of vast online communities that exist to find solution to popular/common problems. Whether or not that solution is correct and applicable to our context,  can be assessed only if we understand the concepts and can critically evaluate them. The goal of this lab is to motivate you to not only produce the correct solution to problems, but also to reflect about why, how and when your solution will likely succeed/fail. \n",
    "\n",
    "In this lab you will design experiments with sorting and search algorithms. Please read all instructions carefully. Seek the help of TA's if you need clarifications on the task. Do not hard code any results."
   ]
  },
  {
   "cell_type": "code",
   "execution_count": 92,
   "metadata": {},
   "outputs": [],
   "source": [
    "import random\n",
    "import time\n",
    "import timeit \n",
    "import matplotlib.pyplot as plt\n",
    "import numpy as np"
   ]
  },
  {
   "cell_type": "markdown",
   "metadata": {},
   "source": [
    "---\n",
    "---"
   ]
  },
  {
   "cell_type": "markdown",
   "metadata": {},
   "source": [
    "### Part A"
   ]
  },
  {
   "cell_type": "markdown",
   "metadata": {},
   "source": [
    "##### A1. Implement three classes with the following sorting algorithms:\n",
    "- Bubble Sort\n",
    "- Insertion Sort\n",
    "- Selection Sort"
   ]
  },
  {
   "cell_type": "code",
   "execution_count": 60,
   "metadata": {},
   "outputs": [],
   "source": [
    "class BubbleSort:\n",
    "    def __init__(self, items_to_sort):\n",
    "        self.items = items_to_sort\n",
    "        self.sorted_items=[]\n",
    "\n",
    "       ### your implementation for bubble sort goes here\n",
    "    def bubble_sort(data):\n",
    "        no_more_swap =True\n",
    "        while no_more_swap:\n",
    "            no_more_swap = False\n",
    "            for iteration in range(len(data)-1, 0, -1):\n",
    "                for index in range(iteration):\n",
    "                    if data[index] > data[index+1]:\n",
    "                        data[index],data[index+1]=data[index+1],data[index]\n",
    "        return data\n",
    "                            \n",
    "    def get_sorted(self,):\n",
    "        return self.sorted_itemsorted_items"
   ]
  },
  {
   "cell_type": "code",
   "execution_count": 61,
   "metadata": {},
   "outputs": [],
   "source": [
    "class InsertionSort:\n",
    "    def __init__(self, items_to_sort):\n",
    "        self.items = items_to_sort\n",
    "        self.sorted_items=[]\n",
    "\n",
    "    def insertion_sort(data):\n",
    "        for index in range(1, len(data)):\n",
    "            while index > 0 and data[index] < data[index-1]:\n",
    "                data[index],data[index-1]=data[index-1],data[index]\n",
    "                index -= 1\n",
    "        return data\n",
    "\n",
    "       ### your implementation for insertion sort goes here \n",
    "\n",
    "    def get_sorted(self,):\n",
    "        return self.sorted_items"
   ]
  },
  {
   "cell_type": "code",
   "execution_count": 62,
   "metadata": {},
   "outputs": [],
   "source": [
    "class SelectionSort:\n",
    "    def __init__(self, items_to_sort):\n",
    "        self.items = items_to_sort\n",
    "        self.sorted_items=[]\n",
    "\n",
    "       ### your implementation for selection sort goes here\n",
    "    def selection_sort(data):\n",
    "        for index in range(len(data)):\n",
    "            min_index = index\n",
    "\n",
    "            for j in range(index + 1, len(data)):\n",
    "                if data[j] < data[min_index]:\n",
    "                    min_index = j \n",
    "            \n",
    "            (data[index], data[min_index]) = (data[min_index], data[index])\n",
    "        return data\n",
    "\n",
    "    def get_sorted(self,):\n",
    "        return self.sorted_items"
   ]
  },
  {
   "cell_type": "markdown",
   "metadata": {},
   "source": [
    "___"
   ]
  },
  {
   "cell_type": "markdown",
   "metadata": {},
   "source": [
    "##### A2. Compute the performance of above 3 algorithms on a single list of real numbers.\n",
    "\n",
    "First generate a custom random list using function <code> create_custom_list()</code>. Execute each of the above algorithm for N trials ( select N >= 75) on the list and plot the timing of each execution on a bar chart. Also calculate the average execution time for the entire batch of N trials ( you can either display it on the chart or simply <code> print()</code> it). For larger values of N, consider breaking N trials into mini batches of n executions and plotting execution times for each mini batch. For instance, if you select N=1000, to plot execution timings for 1000 trials, you may break them into mini batch of n=10 trials and display average of each mini batch. This will reduce clutter in your bar charts while still enabling you to perform extensive testing with higher N.\n",
    "\n",
    "Execute each of the above algorithm on the same set of integers. The outcome of your code should be 3 charts for each algorithm run on your list N times. Few utility functions are given below. You do not have to necessarily use the <code> draw_plot()</code> function. You can plot your timings using an excel sheet and paste the image of your timings here. Refer to [Markdown Guide](https://www.markdownguide.org/basic-syntax/) on how to add images in the jupyter notebook or ask your TA."
   ]
  },
  {
   "cell_type": "code",
   "execution_count": 63,
   "metadata": {},
   "outputs": [],
   "source": [
    "def create_custom_list(length, max_value, item=None, item_index=None):\n",
    "    random_list = [random.randint(0,max_value) for i in range(length)]\n",
    "    if item!= None:\n",
    "        random_list.insert(item_index,item)\n",
    "    return random_list"
   ]
  },
  {
   "cell_type": "code",
   "execution_count": 64,
   "metadata": {},
   "outputs": [],
   "source": [
    "def draw_plot(run_arr):\n",
    "    x = np.arange(0, len(run_arr),1)\n",
    "    fig=plt.figure(figsize=(20,8))\n",
    "    plt.bar(x,run_arr)\n",
    "    plt.axhline(np.mean(run_arr),color=\"red\",linestyle=\"--\",label=\"Avg\")\n",
    "    plt.xlabel(\"Iterations\")\n",
    "    plt.ylabel(\"Run time in ms order of 1e-6\")\n",
    "    plt.title(\"Run time for retrieval\")\n",
    "    plt.show()"
   ]
  },
  {
   "cell_type": "code",
   "execution_count": 65,
   "metadata": {},
   "outputs": [
    {
     "name": "stdout",
     "output_type": "stream",
     "text": [
      "[881, 1266, 204, 1695, 1061, 322, 686, 1117, 1720, 398]\n"
     ]
    }
   ],
   "source": [
    "my_list = create_custom_list(10, 2000)\n",
    "list1 = my_list\n",
    "list2 = my_list\n",
    "list3 = my_list\n",
    "print(my_list)"
   ]
  },
  {
   "cell_type": "code",
   "execution_count": 66,
   "metadata": {},
   "outputs": [
    {
     "name": "stdout",
     "output_type": "stream",
     "text": [
      "[881, 1266, 204, 1695, 1061, 322, 686, 1117, 1720, 398]\n",
      "[204, 322, 398, 686, 881, 1061, 1117, 1266, 1695, 1720]\n"
     ]
    },
    {
     "data": {
      "image/png": "[encoded data removed]",
      "text/plain": [
       "<Figure size 2000x800 with 1 Axes>"
      ]
     },
     "metadata": {},
     "output_type": "display_data"
    }
   ],
   "source": [
    "### Bubble sort experiment code goes here\n",
    "runs = 100\n",
    "run_times = []\n",
    "#list1 = my_list\n",
    "print(list1)\n",
    "for _ in range(runs):\n",
    "    start = timeit.default_timer()\n",
    "    BubbleSort.bubble_sort(list1)\n",
    "    #found = BubbleSort.bubble_sort(list1)\n",
    "    stop = timeit.default_timer()\n",
    "    run_times.append(stop-start)\n",
    "print(list1)\n",
    "\n",
    "draw_plot(run_times)"
   ]
  },
  {
   "cell_type": "code",
   "execution_count": 67,
   "metadata": {},
   "outputs": [
    {
     "name": "stdout",
     "output_type": "stream",
     "text": [
      "[204, 322, 398, 686, 881, 1061, 1117, 1266, 1695, 1720]\n",
      "[204, 322, 398, 686, 881, 1061, 1117, 1266, 1695, 1720]\n"
     ]
    },
    {
     "data": {
      "image/png": "[encoded data removed]",
      "text/plain": [
       "<Figure size 2000x800 with 1 Axes>"
      ]
     },
     "metadata": {},
     "output_type": "display_data"
    }
   ],
   "source": [
    "### Insertion sort experiment code goes here\n",
    "runs = 100\n",
    "run_times = []\n",
    "#list2 = my_list\n",
    "print(list2)\n",
    "for _ in range(runs):\n",
    "    start = timeit.default_timer()\n",
    "    InsertionSort.insertion_sort(list2)\n",
    "    stop = timeit.default_timer()\n",
    "    run_times.append(stop-start)\n",
    "print(list2)\n",
    "\n",
    "draw_plot(run_times)"
   ]
  },
  {
   "cell_type": "code",
   "execution_count": 68,
   "metadata": {},
   "outputs": [
    {
     "name": "stdout",
     "output_type": "stream",
     "text": [
      "[204, 322, 398, 686, 881, 1061, 1117, 1266, 1695, 1720]\n",
      "[204, 322, 398, 686, 881, 1061, 1117, 1266, 1695, 1720]\n"
     ]
    },
    {
     "data": {
      "image/png": "[encoded data removed]",
      "text/plain": [
       "<Figure size 2000x800 with 1 Axes>"
      ]
     },
     "metadata": {},
     "output_type": "display_data"
    }
   ],
   "source": [
    "### Selection sort experiment code goes here\n",
    "runs = 100\n",
    "run_times = []\n",
    "#list3 = my_list\n",
    "print(list3)\n",
    "for _ in range(runs):\n",
    "    start = timeit.default_timer()\n",
    "    SelectionSort.selection_sort(list3)\n",
    "    stop = timeit.default_timer()\n",
    "    run_times.append(stop-start)\n",
    "print(list3)\n",
    "\n",
    "draw_plot(run_times)"
   ]
  },
  {
   "cell_type": "markdown",
   "metadata": {},
   "source": [
    "You would notice that certain sorting algorithms have better time complexity (or performance) than others. Write below a reflection of your observations. Can you confidently compare the performance across the 3 algorithms? Why does certain algorithm perform better than the other? What are the various factors impacting the best performing and the worst performing algorithm. Write a few sentences answering each of the above questions. Also describe any other observation you found important.\n",
    "\n",
    "**Reflection**:\n"
   ]
  },
  {
   "cell_type": "markdown",
   "metadata": {},
   "source": [
    "---"
   ]
  },
  {
   "cell_type": "markdown",
   "metadata": {},
   "source": [
    "##### A3. Compute the performance of above 3 algorithms on a different list sizes.\n",
    "\n",
    "The <code> create_custom_list()</code> helps you create lists of varying lengths and range of numbers. Plot a **line chart** that shows the performance of each algorithm on different list sizes ranging between 1 - 100,000 integers. If you think about this question, you are essentially plotting the time complexity on various list sizes. "
   ]
  },
  {
   "cell_type": "code",
   "execution_count": 69,
   "metadata": {},
   "outputs": [],
   "source": [
    "### Bubble sort experiment code goes here"
   ]
  },
  {
   "cell_type": "code",
   "execution_count": 70,
   "metadata": {},
   "outputs": [],
   "source": [
    "### Insertion sort experiment code goes here"
   ]
  },
  {
   "cell_type": "code",
   "execution_count": 71,
   "metadata": {},
   "outputs": [],
   "source": [
    "### Selection sort experiment code goes here"
   ]
  },
  {
   "cell_type": "markdown",
   "metadata": {},
   "source": [
    "Describe you results here. What did you observe when comparing the charts? Which algorithm was more performant and why?\n",
    "\n",
    "**Reflection** :"
   ]
  },
  {
   "cell_type": "markdown",
   "metadata": {},
   "source": [
    "---"
   ]
  },
  {
   "cell_type": "markdown",
   "metadata": {},
   "source": [
    "##### A4. Compute the performance of above 3 algorithms on a different list \"states\".\n",
    "\n",
    "Using the same above list generation function (or writing a function of your own), create two different lists states: \n",
    "\n",
    "- A state where the list is **near** sorted.\n",
    "- A state where the list is completely unsorted.\n",
    "\n",
    "HINTS: \n",
    "\n",
    "- You can implement a \"controlled\" Quicksort algorithm for such a function. While you can find many implementations of such a function online, significant number of those solutions originate from this psuedocode [Generating Sorted Lists of Random Numbers](https://dl.acm.org/doi/pdf/10.1145/355900.355907). \n",
    "\n",
    "- You can modify the list generation code given above to create the above list examples.\n",
    "\n",
    "Compare the performance of all 3 sorting algorithms on these two lists. Plot their performance on bar chart and display them here. "
   ]
  },
  {
   "cell_type": "code",
   "execution_count": 72,
   "metadata": {},
   "outputs": [
    {
     "data": {
      "text/plain": [
       "'need to create 6 combinations\\n   try to see if we can quantify when a list is 60, 70 or 80% sorted\\n   \\n'"
      ]
     },
     "execution_count": 72,
     "metadata": {},
     "output_type": "execute_result"
    }
   ],
   "source": [
    "\"\"\"need to create 6 combinations\n",
    "   try to see if we can quantify when a list is 60, 70 or 80% sorted\n",
    "   \n",
    "\"\"\""
   ]
  },
  {
   "cell_type": "code",
   "execution_count": 73,
   "metadata": {},
   "outputs": [],
   "source": [
    "### Bubble sort experiment code goes here"
   ]
  },
  {
   "cell_type": "code",
   "execution_count": 74,
   "metadata": {},
   "outputs": [],
   "source": [
    "### Selection sort experiment code goes here"
   ]
  },
  {
   "cell_type": "code",
   "execution_count": 75,
   "metadata": {},
   "outputs": [],
   "source": [
    "### Insertion sort experiment code goes here"
   ]
  },
  {
   "cell_type": "markdown",
   "metadata": {},
   "source": [
    "Describe you observations here. Which algorithm performs best / worst for sorted/near sorted lists and why? Does the performance vary significantly? Describe which runs times were higher and why do you think that is? You woul\n",
    "\n",
    "**Reflection** :"
   ]
  },
  {
   "cell_type": "markdown",
   "metadata": {},
   "source": [
    "---\n",
    "---"
   ]
  },
  {
   "cell_type": "markdown",
   "metadata": {},
   "source": [
    "### Part B"
   ]
  },
  {
   "cell_type": "markdown",
   "metadata": {},
   "source": [
    "In the class, we discussed three implementations of Binary Search. "
   ]
  },
  {
   "cell_type": "code",
   "execution_count": 76,
   "metadata": {},
   "outputs": [],
   "source": [
    "def binary_search_1(item_list, to_find):\n",
    "    lower=0\n",
    "    upper=len(item_list)-1\n",
    "    while lower < upper:\n",
    "        mid = (lower+upper)//2\n",
    "        if item_list[mid] == to_find:\n",
    "            return True\n",
    "        if item_list[mid] < to_find:\n",
    "            lower = mid+1\n",
    "        else:\n",
    "            upper=mid\n",
    "    return item_list[lower]==to_find"
   ]
  },
  {
   "cell_type": "code",
   "execution_count": 77,
   "metadata": {},
   "outputs": [],
   "source": [
    "def binary_search_2(item_list, to_find):\n",
    "    lower=0\n",
    "    upper=len(item_list)-1\n",
    "    while lower <= upper:\n",
    "        mid = (lower+upper)//2\n",
    "        if item_list[mid] == to_find:\n",
    "            return True\n",
    "        if item_list[mid] < to_find:\n",
    "            lower = mid+1\n",
    "        else:\n",
    "            upper=mid-1\n",
    "    return item_list[lower]==to_find"
   ]
  },
  {
   "cell_type": "code",
   "execution_count": 78,
   "metadata": {},
   "outputs": [],
   "source": [
    "def binary_search_3(item_list, to_find):\n",
    "    left=0\n",
    "    right=len(item_list)-1\n",
    "    while left != right:\n",
    "        mid = (left+right)//2\n",
    "        if item_list[mid] < to_find:\n",
    "            left = mid+1\n",
    "        elif item_list[mid] > to_find:\n",
    "            right = mid\n",
    "        else:\n",
    "            return True\n",
    "    return item_list[left]==to_find"
   ]
  },
  {
   "cell_type": "markdown",
   "metadata": {},
   "source": [
    "Compare the performance of each implementation (or variation) with two lists:\n",
    "\n",
    "1. List is odd numbered (minimum 1000 integers)\n",
    "1. List is even numbered (minimum 1000 integers)\n",
    "\n",
    "Run the above experiments when the item to be found is:\n",
    "1. At the begining of the list.\n",
    "1. Towards the end of the list.\n",
    "1. Right at the middle of the list.\n",
    "\n",
    "The above three combinations would yield 3X2 experiments. Provide detailed outline of the experiments, plots, and a brief description of the observations in the reflections section."
   ]
  },
  {
   "cell_type": "code",
   "execution_count": 79,
   "metadata": {},
   "outputs": [
    {
     "name": "stdout",
     "output_type": "stream",
     "text": [
      "Even list:  [1949, 811, 1690, 241, 1207, 602, 1319, 554, 1883, 1841, 1719, 1178, 1003, 694, 270, 1948, 491, 1780, 1672, 427, 1873, 1432, 358, 140, 1829, 17, 581, 362, 1675, 1032, 1836, 993, 1192, 442, 156, 94, 821, 1393, 69, 1676, 282, 76, 180, 1376, 1219, 1746, 1875, 334, 416, 85, 479, 1623, 562, 299, 612, 610, 1273, 1309, 1556, 1864, 1493, 363, 1775, 308, 704, 415, 1443, 1292, 78, 1304, 457, 998, 1885, 102, 1470, 723, 549, 1468, 705, 885, 1577, 1238, 223, 623, 439, 795, 1946, 1889, 1358, 554, 874, 831, 18, 1741, 426, 986, 185, 1301, 268, 424, 560, 808, 694, 812, 623, 862, 466, 1421, 85, 1138, 1230, 1634, 621, 1298, 1825, 1913, 1504, 1408, 729, 1652, 1823, 107, 228, 469, 1738, 1748, 1313, 1939, 1718, 1585, 1974, 579, 1859, 605, 1413, 1399, 453, 1268, 822, 918, 1881, 1612, 1829, 627, 456, 1600, 365, 1714, 626, 241, 1692, 890, 667, 743, 1631, 235, 901, 1615, 273, 121, 1700, 920, 1642, 1330, 1529, 1307, 787, 1058, 1438, 456, 1410, 1822, 958, 1275, 1356, 1572, 1437, 1203, 1947, 1507, 1549, 754, 1647, 1978, 1652, 1472, 1638, 739, 1857, 1770, 317, 1704, 271, 1336, 172, 1895, 802, 456, 1560, 1242, 1817, 1560, 1503, 641, 537, 874, 1665, 1838, 1040, 1739, 1587, 1853, 512, 937, 856, 964, 312, 1938, 695, 1554, 1597, 1530, 1633, 1608, 378, 1579, 1837, 1480, 1076, 1045, 1631, 920, 1722, 1057, 1107, 893, 1591, 1569, 598, 267, 1395, 1663, 1716, 1304, 59, 1476, 286, 1268, 824, 843, 286, 455, 92, 210, 1290, 815, 916, 1765, 241, 1, 1563, 1156, 434, 1901, 1714, 306, 322, 512, 791, 728, 1804, 1874, 815, 528, 376, 384, 1001, 870, 887, 1708, 829, 328, 1096, 1135, 1160, 390, 1092, 869, 1605, 1089, 1000, 1620, 465, 1297, 1047, 1421, 814, 1011, 1099, 1999, 1845, 740, 463, 1536, 1567, 366, 393, 1726, 1842, 809, 185, 735, 465, 1842, 656, 44, 1002, 1941, 95, 1767, 591, 882, 871, 1175, 1051, 1885, 74, 1198, 1050, 1204, 1248, 265, 1728, 1954, 1194, 710, 470, 156, 1868, 694, 725, 1325, 921, 856, 372, 235, 1565, 677, 203, 1571, 1066, 1630, 1612, 506, 1033, 72, 1233, 63, 777, 1309, 432, 1251, 740, 35, 31, 1917, 1632, 1871, 1069, 1880, 929, 660, 1832, 156, 552, 1504, 886, 1189, 1243, 213, 1490, 725, 1853, 1679, 438, 1318, 1515, 115, 882, 661, 47, 903, 10, 86, 980, 1862, 324, 355, 1941, 1546, 310, 413, 1912, 1086, 1589, 1272, 383, 424, 673, 1863, 1726, 1118, 154, 1421, 1951, 1636, 696, 1759, 1845, 1165, 460, 3, 1568, 1313, 1499, 350, 906, 1019, 727, 1139, 516, 406, 399, 1229, 1516, 142, 1249, 637, 1829, 97, 973, 1529, 156, 432, 1190, 484, 1330, 926, 1125, 1099, 335, 241, 1480, 711, 569, 86, 639, 1763, 444, 215, 649, 1747, 129, 618, 1239, 86, 180, 930, 1751, 701, 52, 398, 87, 30, 24, 1351, 677, 1746, 219, 537, 332, 1824, 1606, 320, 1794, 272, 1702, 1886, 505, 1100, 1803, 63, 707, 1084, 178, 837, 517, 1577, 1989, 825, 582, 932, 729, 701, 166, 976, 511, 750, 1296, 1257, 27, 231, 1499, 427, 1763, 375, 1817, 1595, 292, 114, 1148, 518, 1044, 363, 1817, 962, 770, 293, 1546, 74, 1600, 1876, 291, 322, 256, 1662, 449, 630, 1077, 1061, 772, 1953, 76, 674, 68, 1955, 781, 1583, 1182, 1741, 655, 1858, 888, 885, 456, 1305, 1145, 1374, 375, 1492, 783, 1959, 205, 243, 731, 1769, 842, 270, 421, 1253, 227, 599, 1849, 388, 1827, 1450, 1523, 721, 1891, 1181, 1394, 374, 1079, 1352, 575, 1414, 1621, 1995, 1491, 1280, 1211, 1556, 928, 542, 1346, 683, 1339, 1732, 351, 1231, 182, 791, 1923, 1167, 137, 1480, 791, 1562, 946, 1443, 1805, 1726, 1637, 1889, 1284, 1650, 1704, 759, 1987, 992, 962, 687, 572, 1633, 1314, 1063, 1395, 1383, 334, 1548, 578, 229, 1486, 1396, 1233, 1380, 1664, 684, 375, 55, 73, 234, 530, 691, 404, 1905, 1971, 1102, 1640, 1483, 1026, 1943, 1365, 1950, 1266, 20, 902, 392, 1910, 486, 410, 133, 1738, 782, 1553, 1652, 1263, 637, 732, 1735, 1140, 1235, 1413, 206, 1189, 1674, 1090, 706, 1223, 790, 1118, 1867, 694, 1296, 68, 753, 1526, 247, 1039, 326, 1210, 234, 1171, 66, 1646, 1757, 531, 130, 134, 124, 1928, 666, 16, 722, 1752, 296, 1592, 174, 1459, 1640, 1839, 1834, 352, 225, 315, 25, 1923, 1391, 186, 551, 780, 465, 1479, 347, 1239, 835, 915, 655, 576, 741, 1756, 199, 1786, 1488, 939, 755, 553, 1007, 610, 924, 784, 1615, 268, 209, 1371, 1595, 751, 1312, 1712, 1062, 1029, 157, 849, 274, 82, 435, 787, 1923, 373, 1397, 1010, 1524, 1923, 660, 1553, 1743, 296, 1181, 1955, 1274, 1314, 55, 319, 665, 843, 140, 1329, 969, 437, 196, 1716, 1736, 81, 1744, 1906, 787, 940, 480, 722, 1587, 452, 1042, 1810, 306, 1405, 1728, 1363, 102, 2000, 525, 224, 1434, 1871, 106, 1603, 950, 562, 488, 1994, 1168, 139, 610, 846, 504, 373, 1054, 1891, 1171, 769, 1248, 896, 1634, 823, 1013, 16, 372, 1087, 1038, 976, 1046, 1500, 1439, 1681, 1191, 1692, 672, 1884, 889, 1732, 1515, 1862, 1493, 183, 144, 294, 1613, 1920, 1268, 1612, 1905, 306, 636, 175, 1132, 1204, 1542, 1401, 55, 1124, 773, 118, 319, 134, 976, 378, 1021, 945, 1318, 1657, 851, 932, 113, 1631, 1863, 600, 418, 750, 1405, 574, 1674, 1506, 1091, 812, 1948, 316, 1470, 1982, 1905, 512, 264, 1702, 1637, 671, 147, 176, 703, 1779, 1575, 973, 1579, 27, 1788, 55, 862, 1220, 630, 826, 170, 731, 768, 933, 952, 470, 35, 1210, 1077, 440, 1513, 672, 1217, 1505, 1040, 1207, 443, 515, 138, 322, 1435, 566, 1795, 54, 925, 1413, 252, 1831, 931, 48, 1320, 54, 878, 1107, 804, 881, 1345, 4, 1991, 283, 276, 664, 998, 730, 476, 1886, 551, 1063, 1759, 985, 318, 1879, 1146, 599, 900, 324, 942, 1036, 913, 1456, 16, 663, 1052, 52, 1072, 1992, 89, 1133, 1213, 1353, 848, 178, 536, 1876, 539, 1941, 229, 1598, 1098, 1182, 827, 911, 203, 1612, 785, 472, 531, 1077, 613, 759, 353, 1551, 1696, 37, 1263]\n",
      "Odd list:  [1686, 1781, 1763, 1049, 502, 411, 360, 611, 1436, 1070, 1133, 885, 911, 31, 524, 239, 819, 1391, 682, 1094, 1990, 1873, 779, 723, 1093, 1804, 900, 1773, 777, 71, 1713, 317, 889, 1916, 1325, 133, 1449, 153, 1437, 1243, 545, 693, 1269, 408, 1721, 1379, 678, 841, 1719, 966, 123, 607, 728, 1343, 657, 1086, 1771, 1302, 1598, 1750, 1840, 1179, 502, 871, 682, 1972, 870, 520, 724, 1934, 782, 55, 825, 1361, 538, 363, 2000, 1827, 1978, 789, 390, 1000, 1069, 496, 1298, 710, 1058, 809, 313, 204, 1134, 518, 1805, 163, 1144, 529, 1455, 159, 229, 1651, 1468, 1357, 638, 1233, 1016, 410, 1130, 1849, 921, 1190, 331, 401, 1631, 179, 1948, 1766, 556, 948, 46, 1283, 1796, 1991, 1960, 261, 595, 502, 1137, 1712, 496, 1703, 1533, 1156, 1561, 542, 774, 1247, 794, 738, 84, 473, 1649, 712, 831, 950, 1765, 917, 1013, 1726, 1044, 1840, 88, 800, 1899, 1861, 140, 947, 1793, 1895, 1278, 368, 1153, 376, 925, 396, 587, 257, 1671, 1350, 1147, 604, 1744, 1503, 1020, 829, 574, 1573, 333, 163, 618, 839, 276, 1308, 1784, 965, 1881, 476, 907, 1465, 1957, 726, 986, 176, 9, 1670, 381, 733, 300, 968, 683, 930, 1225, 600, 1296, 496, 46, 105, 1349, 849, 228, 1501, 756, 1229, 266, 385, 444, 243, 146, 827, 407, 1962, 742, 936, 1351, 734, 837, 589, 406, 703, 1610, 1701, 1724, 671, 464, 1349, 181, 559, 1711, 1380, 982, 1155, 1715, 1140, 1573, 1229, 1445, 1510, 1324, 1763, 1575, 1295, 1305, 264, 603, 984, 1825, 1977, 635, 999, 1083, 628, 256, 1144, 1856, 1614, 1753, 349, 1528, 775, 246, 398, 165, 290, 1529, 1132, 1111, 561, 209, 1368, 359, 1886, 281, 498, 222, 1910, 411, 175, 899, 566, 1202, 652, 915, 677, 947, 1081, 1310, 998, 1432, 490, 940, 1512, 482, 567, 1157, 680, 261, 246, 1387, 113, 451, 1271, 1392, 968, 1377, 580, 185, 386, 1128, 453, 89, 553, 936, 1098, 1108, 815, 762, 817, 1658, 1381, 1249, 1427, 1401, 1460, 740, 1649, 1431, 1070, 892, 845, 552, 200, 537, 1025, 148, 138, 1597, 1276, 122, 12, 1276, 1518, 1400, 826, 1979, 1322, 465, 1211, 1497, 1070, 1908, 780, 287, 36, 873, 901, 1347, 1732, 1307, 1193, 17, 530, 602, 1351, 718, 1475, 929, 1890, 918, 426, 1445, 1283, 845, 843, 119, 159, 1451, 1665, 287, 1509, 1656, 1136, 1193, 749, 95, 1130, 506, 628, 773, 958, 836, 818, 351, 1303, 636, 1440, 822, 1792, 1022, 1398, 94, 1730, 850, 17, 785, 957, 266, 1462, 1420, 1511, 76, 638, 920, 452, 1174, 1080, 1226, 1345, 1423, 299, 1433, 661, 1795, 823, 539, 1464, 533, 1206, 1961, 1102, 568, 671, 958, 1832, 104, 1377, 103, 54, 1938, 306, 335, 801, 739, 1488, 855, 281, 1384, 380, 1784, 1710, 356, 1596, 1584, 100, 568, 1479, 1940, 949, 182, 1623, 988, 1464, 921, 1609, 98, 1538, 747, 1621, 986, 1071, 362, 412, 788, 1032, 1153, 1266, 400, 1358, 909, 535, 1847, 1670, 142, 454, 581, 1698, 513, 1496, 954, 940, 1225, 1513, 1568, 129, 384, 1926, 1129, 1707, 750, 94, 887, 108, 631, 771, 268, 814, 420, 39, 1172, 645, 838, 960, 1456, 1443, 1519, 686, 1267, 529, 1798, 1922, 1952, 371, 436, 1621, 977, 1121, 1978, 388, 1679, 175, 1146, 92, 713, 880, 1531, 1027, 1764, 369, 976, 1397, 1953, 1278, 585, 127, 1544, 357, 1548, 1041, 847, 28, 739, 1439, 491, 1022, 268, 1243, 1929, 1836, 1254, 764, 1020, 1285, 38, 545, 1756, 1586, 1633, 564, 639, 547, 1348, 108, 95, 1115, 566, 1035, 1701, 1349, 1677, 755, 1760, 1575, 797, 918, 959, 1906, 1687, 1687, 692, 356, 476, 904, 535, 1609, 777, 1046, 783, 861, 17, 1043, 966, 1903, 1296, 979, 900, 576, 364, 1536, 168, 481, 1138, 1057, 1352, 1407, 1108, 987, 1163, 415, 1205, 763, 394, 1203, 1339, 1928, 1491, 1360, 1168, 113, 230, 1984, 612, 1914, 263, 987, 1337, 210, 1471, 1660, 1369, 1701, 568, 45, 1163, 313, 99, 1950, 211, 1650, 639, 1251, 1960, 1779, 263, 446, 605, 209, 869, 1194, 361, 1980, 1990, 173, 650, 640, 1919, 1243, 1958, 1563, 414, 1371, 604, 1859, 852, 559, 651, 1926, 564, 1459, 141, 1171, 396, 1857, 1005, 347, 729, 1298, 1304, 1184, 530, 170, 583, 274, 1019, 461, 1403, 1, 888, 480, 1742, 1605, 1855, 1175, 1042, 742, 1256, 952, 101, 204, 1280, 385, 1785, 1671, 1581, 1966, 1969, 1990, 698, 1174, 191, 1903, 1369, 532, 1676, 1773, 377, 546, 564, 98, 1562, 218, 204, 1582, 1933, 1547, 1808, 779, 735, 1241, 749, 637, 246, 1, 1515, 1512, 596, 1823, 1738, 1482, 1962, 506, 702, 976, 292, 39, 1052, 550, 1071, 404, 986, 1743, 952, 732, 1657, 1680, 862, 1403, 1483, 1, 1682, 1163, 1695, 1144, 116, 1874, 1804, 1557, 1645, 1483, 842, 1578, 124, 349, 230, 130, 680, 977, 1435, 525, 1750, 604, 154, 633, 1589, 889, 1856, 314, 1365, 1592, 1734, 1127, 1681, 1277, 331, 579, 1793, 1043, 1709, 18, 1081, 1768, 1410, 387, 1913, 604, 1392, 1409, 1753, 244, 1409, 1976, 547, 1726, 1726, 1199, 884, 1395, 125, 440, 594, 1184, 1808, 1141, 620, 130, 1188, 371, 740, 482, 872, 1351, 991, 1471, 1257, 1598, 463, 1050, 1556, 1802, 1016, 1062, 716, 1421, 1387, 1573, 1866, 159, 9, 387, 619, 1493, 1242, 1206, 60, 830, 1598, 1033, 912, 430, 476, 303, 1817, 1675, 966, 459, 1377, 236, 1102, 1878, 1188, 1270, 1058, 3, 1884, 1412, 350, 1152, 386, 1565, 972, 1385, 1371, 1316, 1182, 1120, 415, 525, 469, 590, 759, 957, 82, 122, 1744, 663, 942, 421, 167, 283, 26, 1761, 507, 101, 1013, 1072, 1528, 296, 420, 199, 1981, 1164, 748, 611, 1359, 1411, 1765, 1791, 652, 1799, 1588, 169, 1172, 1693, 94, 127, 1154, 1898, 1429, 793, 1085, 39, 1406, 1190, 1750, 1525, 1065, 941, 888, 1013, 1365, 1602, 1811, 614, 1125, 1087, 514, 1018, 1156, 798, 877, 1459, 732, 1218, 163, 634, 1739, 361, 579, 179, 351, 1682, 1638, 337, 1913, 622, 1797, 1198, 1655, 105, 1120, 1805, 1627, 1746, 1533, 494, 1528, 397, 1958, 1756, 299, 1336, 1507, 829, 149]\n"
     ]
    }
   ],
   "source": [
    "## you experiment code goes here\n",
    "even_list = create_custom_list(1002, 2000, item=None, item_index=None)\n",
    "odd_list = create_custom_list(1001, 2000, item=None, item_index=None)\n",
    "\n",
    "print (\"Even list: \",even_list)\n",
    "print (\"Odd list: \", odd_list)"
   ]
  },
  {
   "cell_type": "code",
   "execution_count": 80,
   "metadata": {},
   "outputs": [],
   "source": [
    "#using EVEN numbered list with item to be found at the BEGINNING of the list"
   ]
  },
  {
   "cell_type": "code",
   "execution_count": 81,
   "metadata": {},
   "outputs": [],
   "source": [
    "#using EVEN numbered list with item to be found towards the END of the list"
   ]
  },
  {
   "cell_type": "code",
   "execution_count": 82,
   "metadata": {},
   "outputs": [],
   "source": [
    "#using EVEN numbered list with item to be found in the MIDDLE of the list"
   ]
  },
  {
   "cell_type": "code",
   "execution_count": 83,
   "metadata": {},
   "outputs": [],
   "source": [
    "#using ODD numbered list with item to be found at the BEGINNING of the list"
   ]
  },
  {
   "cell_type": "code",
   "execution_count": 84,
   "metadata": {},
   "outputs": [],
   "source": [
    "#using ODD numbered list with item to be found towards the END of the list"
   ]
  },
  {
   "cell_type": "code",
   "execution_count": 85,
   "metadata": {},
   "outputs": [],
   "source": [
    "#using ODD numbered list with item to be found in the MIDDLE of the list"
   ]
  },
  {
   "cell_type": "markdown",
   "metadata": {},
   "source": [
    "**Reflection**:"
   ]
  },
  {
   "cell_type": "markdown",
   "metadata": {},
   "source": [
    "---\n",
    "---"
   ]
  },
  {
   "cell_type": "markdown",
   "metadata": {},
   "source": [
    "### Part C"
   ]
  },
  {
   "cell_type": "markdown",
   "metadata": {},
   "source": [
    "Recall that I discussed in the class, the possibility of \"reducing the comparisons\" in Binary Search implementation. One solution came up is to remove the comparison with \"mid\". If you design an experiment to test this, you will soon realize that while this speeds up the execution time by reducing the number of comparisons needed, it fails when the element to be searched is right in the middle.  So are there any ways to improve the speed of Binary Search that is not dependent on data? The answer is recursion! In this section, implement a Binary Search recursively."
   ]
  },
  {
   "cell_type": "code",
   "execution_count": 86,
   "metadata": {},
   "outputs": [],
   "source": [
    "def binary_search_4(item_list, to_find):\n",
    "    return False"
   ]
  },
  {
   "cell_type": "markdown",
   "metadata": {},
   "source": [
    "Run all the experiments in Part B comapring all 4 implementations under all 6 cases. Plot the timings, and describe the results in the below section. Write a short description of your observation; why is recursion better in this case?"
   ]
  },
  {
   "cell_type": "code",
   "execution_count": 87,
   "metadata": {},
   "outputs": [],
   "source": [
    "# your implementation and experiments go here."
   ]
  },
  {
   "cell_type": "markdown",
   "metadata": {},
   "source": [
    "##### Result Discussion:"
   ]
  },
  {
   "cell_type": "markdown",
   "metadata": {},
   "source": [
    "---\n",
    "---"
   ]
  },
  {
   "cell_type": "markdown",
   "metadata": {},
   "source": [
    "### PART D"
   ]
  },
  {
   "cell_type": "markdown",
   "metadata": {},
   "source": [
    "Now that you are comfortable in designing experiments, in this section, use the implementations of **Heap**, **Merge**, and **Quick** sort discussed in class and run suitable experiments to compare the runtimes of these three algorithms. \n",
    "\n",
    "Hint: it should become clear where Quick sort gets its name."
   ]
  },
  {
   "cell_type": "code",
   "execution_count": 88,
   "metadata": {},
   "outputs": [],
   "source": [
    "# your implementation and experiments go here."
   ]
  },
  {
   "cell_type": "markdown",
   "metadata": {},
   "source": [
    "In this section, provide a detailed outline of:\n",
    "- The experiments you ran, length values of the list you chose, number of runs, etc.\n",
    "- The plots showing the run times corresponding to each algorithm.\n",
    "- A brief discussion and conclusion regarding the results. A few sentences are fine here."
   ]
  },
  {
   "cell_type": "markdown",
   "metadata": {},
   "source": [
    "---\n",
    "---"
   ]
  },
  {
   "cell_type": "markdown",
   "metadata": {},
   "source": [
    "### PART E"
   ]
  },
  {
   "cell_type": "markdown",
   "metadata": {},
   "source": [
    "E1. In previous experiments you also saw that not all algorithms are suitable for all scenarios. For instance, Merge Sort is better than Quick sort for certain situations. In this section, design a experiment to compare the scenarios where Merge Sort is better/worse than Quick Sort. You can use the traditional version of Merge Sort or use improved version ( maybe via recursion) to compare this performance."
   ]
  },
  {
   "cell_type": "code",
   "execution_count": 89,
   "metadata": {},
   "outputs": [],
   "source": [
    "# your implementation and experiments go here."
   ]
  },
  {
   "cell_type": "markdown",
   "metadata": {},
   "source": [
    "In this section, provide a detailed outline of:\n",
    "- The experiments you ran, length values of the list you chose, number of runs, etc.\n",
    "- The plots showing the run times corresponding to each algorithm.\n",
    "- A brief discussion and conclusion regarding the results. A few sentences are fine here."
   ]
  },
  {
   "cell_type": "markdown",
   "metadata": {},
   "source": [
    "---"
   ]
  },
  {
   "cell_type": "markdown",
   "metadata": {},
   "source": [
    "E2. Recall that on the first day of class I asked which two algorithms have similar complexity - Merge Sort and Quick Sort under (O(nlogn)) are likely to perform similar under average cases. However, under worst case, the complexity of quick sort is much worse (O(n^2). Design an experiment to show this behavior. Plot this behavior on a bar/line chart. \n",
    "\n",
    "Next, count the number of \"swaps\" after which Quick sort starts behaving comparable to Merge sort. \n",
    "\n",
    "HINT: This will be a threshold at which the quick sort algorithm picks up again.\n"
   ]
  },
  {
   "cell_type": "code",
   "execution_count": 90,
   "metadata": {},
   "outputs": [],
   "source": [
    "## your implementation and code goes here"
   ]
  },
  {
   "cell_type": "markdown",
   "metadata": {},
   "source": [
    "In this section, provide a detailed outline of:\n",
    "- The experiments you ran and the rationale behind your worst case scenario.\n",
    "- The plots showing the run times.\n",
    "\n",
    "Further explain how you computed the swaps and verify that you calculation is correct, by applying it on a diifferent list under same experimental conditions."
   ]
  },
  {
   "cell_type": "markdown",
   "metadata": {},
   "source": [
    "**Reflection**:"
   ]
  },
  {
   "cell_type": "markdown",
   "metadata": {},
   "source": [
    "---\n",
    "---"
   ]
  },
  {
   "cell_type": "markdown",
   "metadata": {},
   "source": [
    "### PART F"
   ]
  },
  {
   "cell_type": "markdown",
   "metadata": {},
   "source": [
    "Traditionally, Insertion Sort is worst than Heap Sort and Merge Sort. Now that you are a master at critical evaluation of sorting and searching algorithms, design an experiment to show that this may not be universally true. That is, there maybe scenarios where insertion sort is better than merge and heap sort.\n",
    "\n",
    "HINT: Think about the Best Case of insertion sort.\n",
    "\n",
    "Again, provide:\n",
    "- An explicit outline of the experiments you ran. That is, list length values, how many “runs”, etc.\n",
    "- A graph of list length vs time displaying the appropriate three curves showing. List lengths should be small here.\n",
    "- A brief discussion and conclusion regarding the results. A few sentences are fine here.\n",
    "- Reflect on why these are experiments are important. \n",
    "\n",
    "HINT: Can you create some sort of \"hybrid\" sort that would be better?"
   ]
  },
  {
   "cell_type": "code",
   "execution_count": 91,
   "metadata": {},
   "outputs": [],
   "source": [
    "## your implementation and code goes here"
   ]
  },
  {
   "cell_type": "markdown",
   "metadata": {},
   "source": [
    "**Reflection**:"
   ]
  },
  {
   "cell_type": "markdown",
   "metadata": {},
   "source": [
    "---\n",
    "---"
   ]
  },
  {
   "cell_type": "markdown",
   "metadata": {},
   "source": [
    "**Team Contributions**: In below section describe in detail how you distributed the workload and contributions of each member in the task."
   ]
  },
  {
   "cell_type": "markdown",
   "metadata": {},
   "source": []
  },
  {
   "cell_type": "markdown",
   "metadata": {},
   "source": [
    "---\n",
    "---"
   ]
  },
  {
   "cell_type": "markdown",
   "metadata": {},
   "source": []
  }
 ],
 "metadata": {
  "kernelspec": {
   "display_name": "base",
   "language": "python",
   "name": "python3"
  },
  "language_info": {
   "codemirror_mode": {
    "name": "ipython",
    "version": 3
   },
   "file_extension": ".py",
   "mimetype": "text/x-python",
   "name": "python",
   "nbconvert_exporter": "python",
   "pygments_lexer": "ipython3",
   "version": "3.11.1"
  }
 },
 "nbformat": 4,
 "nbformat_minor": 2
}
