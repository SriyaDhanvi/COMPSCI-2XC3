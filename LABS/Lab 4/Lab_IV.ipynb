{
 "cells": [
  {
   "cell_type": "code",
   "execution_count": 1,
   "metadata": {},
   "outputs": [],
   "source": [
    "import random\n",
    "import time\n",
    "import matplotlib.pyplot as plt\n",
    "import numpy as np"
   ]
  },
  {
   "cell_type": "code",
   "execution_count": 2,
   "metadata": {},
   "outputs": [],
   "source": [
    "class RBNode:\n",
    "\n",
    "    def __init__(self, value):\n",
    "        self.value = value\n",
    "        self.left = None\n",
    "        self.right = None\n",
    "        self.parent = None\n",
    "        self.colour = \"R\"\n",
    "\n",
    "    def get_uncle(self):\n",
    "        return\n",
    "\n",
    "    def is_leaf(self):\n",
    "        return self.left == None and self.right == None\n",
    "\n",
    "    def is_left_child(self):\n",
    "        return self == self.parent.left\n",
    "\n",
    "    def is_right_child(self):\n",
    "        return not self.is_left_child()\n",
    "\n",
    "    def is_red(self):\n",
    "        return self.colour == \"R\"\n",
    "\n",
    "    def is_black(self):\n",
    "        return not self.is_red()\n",
    "\n",
    "    def make_black(self):\n",
    "        self.colour = \"B\"\n",
    "\n",
    "    def make_red(self):\n",
    "        self.colour = \"R\"\n",
    "\n",
    "    def get_brother(self):\n",
    "        if self.parent.right == self:\n",
    "            return self.parent.left\n",
    "        return self.parent.right\n",
    "\n",
    "    def get_uncle(self):\n",
    "        return self.parent.get_brother()\n",
    "\n",
    "    def uncle_is_black(self):\n",
    "        if self.get_uncle() == None:\n",
    "            return True\n",
    "        return self.get_uncle().is_black()\n",
    "\n",
    "    def __str__(self):\n",
    "        return \"(\" + str(self.value) + \",\" + self.colour + \")\"\n",
    "\n",
    "    def __repr__(self):\n",
    "         return \"(\" + str(self.value) + \",\" + self.colour + \")\"\n",
    "\n",
    "    def rotate_right(self):\n",
    "        #TODO\n",
    "        return 0\n",
    "\n",
    "    def rotate_left(self):\n",
    "        #TODO\n",
    "        return 0\n",
    "                    \n",
    "        \n",
    "    "
   ]
  },
  {
   "cell_type": "code",
   "execution_count": 3,
   "metadata": {},
   "outputs": [
    {
     "ename": "IndentationError",
     "evalue": "expected an indented block after 'while' statement on line 46 (87019639.py, line 48)",
     "output_type": "error",
     "traceback": [
      "\u001b[1;36m  Cell \u001b[1;32mIn[3], line 48\u001b[1;36m\u001b[0m\n\u001b[1;33m    self.root.make_black()\u001b[0m\n\u001b[1;37m    ^\u001b[0m\n\u001b[1;31mIndentationError\u001b[0m\u001b[1;31m:\u001b[0m expected an indented block after 'while' statement on line 46\n"
     ]
    }
   ],
   "source": [
    "class RBTree:\n",
    "\n",
    "    def __init__(self,):\n",
    "        self.root = None\n",
    "\n",
    "    def is_empty(self,):\n",
    "        return self.root == None\n",
    "\n",
    "    def get_height(self,):\n",
    "        if self.is_empty():\n",
    "            return 0\n",
    "        return self.__get_height(self.root)\n",
    "\n",
    "    def __get_height(self, node):\n",
    "        if node == None:\n",
    "            return 0\n",
    "        return 1 + max(self.__get_height(node.left), self.__get_height(node.right))\n",
    "\n",
    "    def insert(self, value):\n",
    "        if self.is_empty():\n",
    "            self.root = RBNode(value)\n",
    "            self.root.make_black()\n",
    "        else:\n",
    "            self.__insert(self.root, value)\n",
    "\n",
    "    def __insert(self, node, value):\n",
    "        if value < node.value:\n",
    "            if node.left == None:\n",
    "                node.left = RBNode(value)\n",
    "                node.left.parent = node\n",
    "                self.fix(node.left)\n",
    "            else:\n",
    "                self.__insert(node.left, value)\n",
    "        else:\n",
    "            if node.right == None:\n",
    "                node.right = RBNode(value)\n",
    "                node.right.parent = node\n",
    "                self.fix(node.right)\n",
    "            else:\n",
    "                self.__insert(node.right, value)\n",
    "\n",
    "    def fix(self, node):\n",
    "        #You may alter code in this method if you wish, it's merely a guide.\n",
    "        if node.parent == None:\n",
    "            node.make_black()\n",
    "        while node != None and node.parent != None and node.parent.is_red(): \n",
    "            #TODO\n",
    "        self.root.make_black()\n",
    "\n",
    "    def __str__(self):\n",
    "        if self.is_empty():\n",
    "            return \"[]\"\n",
    "        return \"[\" + self.__str_helper(self.root) + \"]\"\n",
    "\n",
    "    def __str_helper(self, node):\n",
    "        if node.is_leaf():\n",
    "            return \"[\" + str(node) + \"]\"\n",
    "        if node.left == None:\n",
    "            return \"[\" + str(node) + \" -> \" + self.__str_helper(node.right) + \"]\"\n",
    "        if node.right == None:\n",
    "            return \"[\" +  self.__str_helper(node.left) + \" <- \" + str(node) + \"]\"\n",
    "        return \"[\" + self.__str_helper(node.left) + \" <- \" + str(node) + \" -> \" + self.__str_helper(node.right) + \"]\"\n"
   ]
  },
  {
   "cell_type": "markdown",
   "metadata": {},
   "source": [
    "### Part 2: Binary Search Using Dynamic Programming"
   ]
  },
  {
   "cell_type": "markdown",
   "metadata": {},
   "source": [
    "#### Part 2.1: Implementation of Dynamic Binary Search (SEARCH, INSERT, DELETE operations)"
   ]
  },
  {
   "cell_type": "code",
   "execution_count": 4,
   "metadata": {},
   "outputs": [],
   "source": [
    "# traditional binary search\n",
    "def binary_search_5(item_list, to_find):\n",
    "    left = 0\n",
    "    right = len(item_list) - 1\n",
    "    while left <= right:\n",
    "        mid = (left + right) // 2\n",
    "        if item_list[mid] == to_find:\n",
    "            return mid\n",
    "        elif item_list[mid] < to_find:\n",
    "            left = mid + 1\n",
    "        else:\n",
    "            right = mid - 1\n",
    "    return -1  # Element not found"
   ]
  },
  {
   "cell_type": "code",
   "execution_count": 5,
   "metadata": {},
   "outputs": [],
   "source": [
    "# helper function to find bits to represent length of list in binary\n",
    "def find_list_index(n):\n",
    "    k = n.bit_length()  # Number of bits required to represent n\n",
    "    return k - 1"
   ]
  },
  {
   "cell_type": "code",
   "execution_count": 6,
   "metadata": {},
   "outputs": [],
   "source": [
    "# search function\n",
    "def search(lists, to_find):\n",
    "    list_index = find_list_index(sum(len(sub_list) for sub_list in lists))\n",
    "    for i in range(list_index + 1):\n",
    "        sub_list = lists[i]\n",
    "        if sub_list:\n",
    "            idx = binary_search_5(sub_list, to_find)\n",
    "            if idx != -1:\n",
    "                return idx + sum(len(sub_list) for sub_list in lists[:i])\n",
    "    return -1  # Element not found"
   ]
  },
  {
   "cell_type": "code",
   "execution_count": 7,
   "metadata": {},
   "outputs": [],
   "source": [
    "# insert function\n",
    "def insert(lists, element):\n",
    "    list_index = find_list_index(sum(len(sub_list) for sub_list in lists) + 1)\n",
    "    idx = search(lists, element)\n",
    "    if idx == -1:\n",
    "        lists[0] = [element]  # Insert in the first list\n",
    "    else:\n",
    "        while list_index >= 0:\n",
    "            if lists[list_index]:  # If list is not empty\n",
    "                lists[list_index].append(element)\n",
    "                lists[list_index].sort()\n",
    "                break\n",
    "            else:\n",
    "                list_index -= 1"
   ]
  },
  {
   "cell_type": "code",
   "execution_count": 8,
   "metadata": {},
   "outputs": [],
   "source": [
    "# delete function\n",
    "def delete(lists, element):\n",
    "    idx = search(lists, element)\n",
    "    if idx != -1:\n",
    "        list_index = find_list_index(sum(len(sub_list) for sub_list in lists))\n",
    "        while list_index >= 0:\n",
    "            if lists[list_index]:  # If list is not empty\n",
    "                if element in lists[list_index]:\n",
    "                    lists[list_index].remove(element)\n",
    "                    return\n",
    "            list_index -= 1\n",
    "    else:\n",
    "        print(\"Element not found.\")"
   ]
  },
  {
   "cell_type": "code",
   "execution_count": 9,
   "metadata": {},
   "outputs": [
    {
     "name": "stdout",
     "output_type": "stream",
     "text": [
      "Lists: [[15], [], [], []]\n",
      "Search for 8: -1\n",
      "Search for 20: -1\n",
      "Element not found.\n",
      "Lists after deleting 8: [[15], [], [], []]\n"
     ]
    }
   ],
   "source": [
    "# testing\n",
    "lists = [[] for _ in range(4)]  # Initialize with 4 empty lists\n",
    "elements = [2, 5, 8, 10, 15]\n",
    "for elem in elements:\n",
    "    insert(lists, elem)\n",
    "\n",
    "print(\"Lists:\", lists)\n",
    "print(\"Search for 8:\", search(lists, 8))  # Output: 6 (index of 8)\n",
    "print(\"Search for 20:\", search(lists, 20))  # Output: -1 (not found)\n",
    "\n",
    "delete(lists, 8)\n",
    "print(\"Lists after deleting 8:\", lists)"
   ]
  },
  {
   "cell_type": "markdown",
   "metadata": {},
   "source": [
    "#### Part 2.2: Experiment to Compare Performance"
   ]
  },
  {
   "cell_type": "code",
   "execution_count": 10,
   "metadata": {},
   "outputs": [],
   "source": [
    "def binary_search_1(item_list, to_find):\n",
    "    lower = 0\n",
    "    upper = len(item_list) - 1\n",
    "    count = 0\n",
    "    while lower < upper:\n",
    "        count += 1\n",
    "        mid = (lower + upper) // 2\n",
    "        if item_list[mid] == to_find:\n",
    "            return True, count\n",
    "        if item_list[mid] < to_find:\n",
    "            lower = mid + 1\n",
    "        else:\n",
    "            upper = mid\n",
    "    return item_list[lower] == to_find, count"
   ]
  },
  {
   "cell_type": "code",
   "execution_count": 11,
   "metadata": {},
   "outputs": [],
   "source": [
    "def binary_search_2(item_list, to_find):\n",
    "    lower = 0\n",
    "    upper = len(item_list) - 1\n",
    "    count = 0\n",
    "    while lower <= upper:\n",
    "        count += 1\n",
    "        mid = (lower + upper) // 2\n",
    "        if item_list[mid] == to_find:\n",
    "            return True, count\n",
    "        if item_list[mid] < to_find:\n",
    "            lower = mid + 1\n",
    "        else:\n",
    "            upper = mid - 1\n",
    "    return item_list[lower] == to_find, count"
   ]
  },
  {
   "cell_type": "code",
   "execution_count": 12,
   "metadata": {},
   "outputs": [],
   "source": [
    "def binary_search_3(item_list, to_find):\n",
    "    left = 0\n",
    "    right = len(item_list) - 1\n",
    "    count = 0\n",
    "    while left != right:\n",
    "        count += 1\n",
    "        mid = (left + right) // 2\n",
    "        if item_list[mid] < to_find:\n",
    "            left = mid + 1\n",
    "        elif item_list[mid] > to_find:\n",
    "            right = mid\n",
    "        else:\n",
    "            return True, count\n",
    "    return item_list[left] == to_find, count"
   ]
  },
  {
   "cell_type": "code",
   "execution_count": 16,
   "metadata": {},
   "outputs": [],
   "source": [
    "def binary_search_4(item_list, to_find):\n",
    "    def recursive_search(low, high, count=0):\n",
    "        if high - low <= 1:\n",
    "            return (item_list[low] == to_find or item_list[high] == to_find, count)\n",
    "\n",
    "        mid = low + (high - low) // 2\n",
    "\n",
    "        if to_find < item_list[mid]:\n",
    "            return recursive_search(low, mid - 1, count + 1)\n",
    "        elif to_find > item_list[mid]:\n",
    "            return recursive_search(mid + 1, high, count + 1)\n",
    "        else:\n",
    "            return (True, count)\n",
    "\n",
    "    return recursive_search(0, len(item_list) - 1)"
   ]
  },
  {
   "cell_type": "code",
   "execution_count": 14,
   "metadata": {},
   "outputs": [],
   "source": [
    "# Generate random list of given size\n",
    "def generate_random_list(size):\n",
    "    return sorted(random.sample(range(10 * size), size))\n",
    "\n",
    "# Experiment parameters\n",
    "list_sizes = [100, 1000, 10000, 100000, 1000000, 10000000]\n",
    "num_trials = 100"
   ]
  },
  {
   "cell_type": "code",
   "execution_count": 17,
   "metadata": {},
   "outputs": [
    {
     "ename": "TypeError",
     "evalue": "'<' not supported between instances of 'list' and 'int'",
     "output_type": "error",
     "traceback": [
      "\u001b[1;31m---------------------------------------------------------------------------\u001b[0m",
      "\u001b[1;31mTypeError\u001b[0m                                 Traceback (most recent call last)",
      "Cell \u001b[1;32mIn[17], line 30\u001b[0m\n\u001b[0;32m     27\u001b[0m search_times[\u001b[38;5;241m3\u001b[39m]\u001b[38;5;241m.\u001b[39mappend((end_time \u001b[38;5;241m-\u001b[39m start_time) \u001b[38;5;241m*\u001b[39m \u001b[38;5;241m1000\u001b[39m)  \u001b[38;5;66;03m# Convert to milliseconds\u001b[39;00m\n\u001b[0;32m     29\u001b[0m start_time \u001b[38;5;241m=\u001b[39m time\u001b[38;5;241m.\u001b[39mtime()\n\u001b[1;32m---> 30\u001b[0m \u001b[43mbinary_search_5\u001b[49m\u001b[43m(\u001b[49m\u001b[43m[\u001b[49m\u001b[43mitem_list\u001b[49m\u001b[43m]\u001b[49m\u001b[43m,\u001b[49m\u001b[43m \u001b[49m\u001b[43mtarget\u001b[49m\u001b[43m)\u001b[49m\n\u001b[0;32m     31\u001b[0m end_time \u001b[38;5;241m=\u001b[39m time\u001b[38;5;241m.\u001b[39mtime()\n\u001b[0;32m     32\u001b[0m search_times[\u001b[38;5;241m4\u001b[39m]\u001b[38;5;241m.\u001b[39mappend((end_time \u001b[38;5;241m-\u001b[39m start_time) \u001b[38;5;241m*\u001b[39m \u001b[38;5;241m1000\u001b[39m)  \u001b[38;5;66;03m# Convert to milliseconds\u001b[39;00m\n",
      "Cell \u001b[1;32mIn[4], line 9\u001b[0m, in \u001b[0;36mbinary_search_5\u001b[1;34m(item_list, to_find)\u001b[0m\n\u001b[0;32m      7\u001b[0m \u001b[38;5;28;01mif\u001b[39;00m item_list[mid] \u001b[38;5;241m==\u001b[39m to_find:\n\u001b[0;32m      8\u001b[0m     \u001b[38;5;28;01mreturn\u001b[39;00m mid\n\u001b[1;32m----> 9\u001b[0m \u001b[38;5;28;01melif\u001b[39;00m \u001b[43mitem_list\u001b[49m\u001b[43m[\u001b[49m\u001b[43mmid\u001b[49m\u001b[43m]\u001b[49m\u001b[43m \u001b[49m\u001b[38;5;241;43m<\u001b[39;49m\u001b[43m \u001b[49m\u001b[43mto_find\u001b[49m:\n\u001b[0;32m     10\u001b[0m     left \u001b[38;5;241m=\u001b[39m mid \u001b[38;5;241m+\u001b[39m \u001b[38;5;241m1\u001b[39m\n\u001b[0;32m     11\u001b[0m \u001b[38;5;28;01melse\u001b[39;00m:\n",
      "\u001b[1;31mTypeError\u001b[0m: '<' not supported between instances of 'list' and 'int'"
     ]
    }
   ],
   "source": [
    "# Perform experiment\n",
    "search_times = [[] for _ in range(5)]\n",
    "\n",
    "for size in list_sizes:\n",
    "    item_list = generate_random_list(size)\n",
    "    target = random.choice(item_list)\n",
    "    \n",
    "    for i in range(num_trials):\n",
    "        start_time = time.time()\n",
    "        binary_search_1(item_list, target)\n",
    "        end_time = time.time()\n",
    "        search_times[0].append((end_time - start_time) * 1000)  # Convert to milliseconds\n",
    "\n",
    "        start_time = time.time()\n",
    "        binary_search_2(item_list, target)\n",
    "        end_time = time.time()\n",
    "        search_times[1].append((end_time - start_time) * 1000)  # Convert to milliseconds\n",
    "\n",
    "        start_time = time.time()\n",
    "        binary_search_3(item_list, target)\n",
    "        end_time = time.time()\n",
    "        search_times[2].append((end_time - start_time) * 1000)  # Convert to milliseconds\n",
    "\n",
    "        start_time = time.time()\n",
    "        binary_search_4(item_list, target)\n",
    "        end_time = time.time()\n",
    "        search_times[3].append((end_time - start_time) * 1000)  # Convert to milliseconds\n",
    "\n",
    "        start_time = time.time()\n",
    "        binary_search_5([item_list], target)\n",
    "        end_time = time.time()\n",
    "        search_times[4].append((end_time - start_time) * 1000)  # Convert to milliseconds\n"
   ]
  },
  {
   "cell_type": "code",
   "execution_count": 18,
   "metadata": {},
   "outputs": [
    {
     "ename": "ValueError",
     "evalue": "shape mismatch: objects cannot be broadcast to a single shape.  Mismatch is between arg 0 with shape (6,) and arg 1 with shape (0,).",
     "output_type": "error",
     "traceback": [
      "\u001b[1;31m---------------------------------------------------------------------------\u001b[0m",
      "\u001b[1;31mValueError\u001b[0m                                Traceback (most recent call last)",
      "Cell \u001b[1;32mIn[18], line 7\u001b[0m\n\u001b[0;32m      5\u001b[0m plt\u001b[38;5;241m.\u001b[39mfigure(figsize\u001b[38;5;241m=\u001b[39m(\u001b[38;5;241m10\u001b[39m, \u001b[38;5;241m6\u001b[39m))\n\u001b[0;32m      6\u001b[0m \u001b[38;5;28;01mfor\u001b[39;00m i \u001b[38;5;129;01min\u001b[39;00m \u001b[38;5;28mrange\u001b[39m(\u001b[38;5;241m5\u001b[39m):\n\u001b[1;32m----> 7\u001b[0m     \u001b[43mplt\u001b[49m\u001b[38;5;241;43m.\u001b[39;49m\u001b[43mbar\u001b[49m\u001b[43m(\u001b[49m\u001b[43m[\u001b[49m\u001b[38;5;28;43mstr\u001b[39;49m\u001b[43m(\u001b[49m\u001b[43msize\u001b[49m\u001b[43m)\u001b[49m\u001b[43m \u001b[49m\u001b[38;5;28;43;01mfor\u001b[39;49;00m\u001b[43m \u001b[49m\u001b[43msize\u001b[49m\u001b[43m \u001b[49m\u001b[38;5;129;43;01min\u001b[39;49;00m\u001b[43m \u001b[49m\u001b[43mlist_sizes\u001b[49m\u001b[43m]\u001b[49m\u001b[43m,\u001b[49m\u001b[43m \u001b[49m\u001b[43m[\u001b[49m\u001b[38;5;28;43msum\u001b[39;49m\u001b[43m(\u001b[49m\u001b[43msearch_times\u001b[49m\u001b[43m[\u001b[49m\u001b[43mi\u001b[49m\u001b[43m]\u001b[49m\u001b[43m[\u001b[49m\u001b[43mj\u001b[49m\u001b[43m:\u001b[49m\u001b[43mj\u001b[49m\u001b[38;5;241;43m+\u001b[39;49m\u001b[43mnum_trials\u001b[49m\u001b[43m]\u001b[49m\u001b[43m)\u001b[49m\u001b[43m \u001b[49m\u001b[38;5;241;43m/\u001b[39;49m\u001b[43m \u001b[49m\u001b[43mnum_trials\u001b[49m\u001b[43m \u001b[49m\u001b[38;5;28;43;01mfor\u001b[39;49;00m\u001b[43m \u001b[49m\u001b[43mj\u001b[49m\u001b[43m \u001b[49m\u001b[38;5;129;43;01min\u001b[39;49;00m\u001b[43m \u001b[49m\u001b[38;5;28;43mrange\u001b[39;49m\u001b[43m(\u001b[49m\u001b[38;5;241;43m0\u001b[39;49m\u001b[43m,\u001b[49m\u001b[43m \u001b[49m\u001b[38;5;28;43mlen\u001b[39;49m\u001b[43m(\u001b[49m\u001b[43msearch_times\u001b[49m\u001b[43m[\u001b[49m\u001b[43mi\u001b[49m\u001b[43m]\u001b[49m\u001b[43m)\u001b[49m\u001b[43m,\u001b[49m\u001b[43m \u001b[49m\u001b[43mnum_trials\u001b[49m\u001b[43m)\u001b[49m\u001b[43m]\u001b[49m\u001b[43m,\u001b[49m\u001b[43m \u001b[49m\u001b[43mlabel\u001b[49m\u001b[38;5;241;43m=\u001b[39;49m\u001b[43mlabels\u001b[49m\u001b[43m[\u001b[49m\u001b[43mi\u001b[49m\u001b[43m]\u001b[49m\u001b[43m,\u001b[49m\u001b[43m \u001b[49m\u001b[43mcolor\u001b[49m\u001b[38;5;241;43m=\u001b[39;49m\u001b[43mcolors\u001b[49m\u001b[43m[\u001b[49m\u001b[43mi\u001b[49m\u001b[43m]\u001b[49m\u001b[43m)\u001b[49m\n\u001b[0;32m      9\u001b[0m plt\u001b[38;5;241m.\u001b[39mxlabel(\u001b[38;5;124m\"\u001b[39m\u001b[38;5;124mList Size\u001b[39m\u001b[38;5;124m\"\u001b[39m)\n\u001b[0;32m     10\u001b[0m plt\u001b[38;5;241m.\u001b[39mylabel(\u001b[38;5;124m\"\u001b[39m\u001b[38;5;124mAverage Search Time (ms)\u001b[39m\u001b[38;5;124m\"\u001b[39m)\n",
      "File \u001b[1;32mc:\\Users\\Sriya dhanvi\\AppData\\Local\\Programs\\Python\\Python311\\Lib\\site-packages\\matplotlib\\pyplot.py:2739\u001b[0m, in \u001b[0;36mbar\u001b[1;34m(x, height, width, bottom, align, data, **kwargs)\u001b[0m\n\u001b[0;32m   2728\u001b[0m \u001b[38;5;129m@_copy_docstring_and_deprecators\u001b[39m(Axes\u001b[38;5;241m.\u001b[39mbar)\n\u001b[0;32m   2729\u001b[0m \u001b[38;5;28;01mdef\u001b[39;00m \u001b[38;5;21mbar\u001b[39m(\n\u001b[0;32m   2730\u001b[0m     x: \u001b[38;5;28mfloat\u001b[39m \u001b[38;5;241m|\u001b[39m ArrayLike,\n\u001b[1;32m   (...)\u001b[0m\n\u001b[0;32m   2737\u001b[0m     \u001b[38;5;241m*\u001b[39m\u001b[38;5;241m*\u001b[39mkwargs,\n\u001b[0;32m   2738\u001b[0m ) \u001b[38;5;241m-\u001b[39m\u001b[38;5;241m>\u001b[39m BarContainer:\n\u001b[1;32m-> 2739\u001b[0m     \u001b[38;5;28;01mreturn\u001b[39;00m \u001b[43mgca\u001b[49m\u001b[43m(\u001b[49m\u001b[43m)\u001b[49m\u001b[38;5;241;43m.\u001b[39;49m\u001b[43mbar\u001b[49m\u001b[43m(\u001b[49m\n\u001b[0;32m   2740\u001b[0m \u001b[43m        \u001b[49m\u001b[43mx\u001b[49m\u001b[43m,\u001b[49m\n\u001b[0;32m   2741\u001b[0m \u001b[43m        \u001b[49m\u001b[43mheight\u001b[49m\u001b[43m,\u001b[49m\n\u001b[0;32m   2742\u001b[0m \u001b[43m        \u001b[49m\u001b[43mwidth\u001b[49m\u001b[38;5;241;43m=\u001b[39;49m\u001b[43mwidth\u001b[49m\u001b[43m,\u001b[49m\n\u001b[0;32m   2743\u001b[0m \u001b[43m        \u001b[49m\u001b[43mbottom\u001b[49m\u001b[38;5;241;43m=\u001b[39;49m\u001b[43mbottom\u001b[49m\u001b[43m,\u001b[49m\n\u001b[0;32m   2744\u001b[0m \u001b[43m        \u001b[49m\u001b[43malign\u001b[49m\u001b[38;5;241;43m=\u001b[39;49m\u001b[43malign\u001b[49m\u001b[43m,\u001b[49m\n\u001b[0;32m   2745\u001b[0m \u001b[43m        \u001b[49m\u001b[38;5;241;43m*\u001b[39;49m\u001b[38;5;241;43m*\u001b[39;49m\u001b[43m(\u001b[49m\u001b[43m{\u001b[49m\u001b[38;5;124;43m\"\u001b[39;49m\u001b[38;5;124;43mdata\u001b[39;49m\u001b[38;5;124;43m\"\u001b[39;49m\u001b[43m:\u001b[49m\u001b[43m \u001b[49m\u001b[43mdata\u001b[49m\u001b[43m}\u001b[49m\u001b[43m \u001b[49m\u001b[38;5;28;43;01mif\u001b[39;49;00m\u001b[43m \u001b[49m\u001b[43mdata\u001b[49m\u001b[43m \u001b[49m\u001b[38;5;129;43;01mis\u001b[39;49;00m\u001b[43m \u001b[49m\u001b[38;5;129;43;01mnot\u001b[39;49;00m\u001b[43m \u001b[49m\u001b[38;5;28;43;01mNone\u001b[39;49;00m\u001b[43m \u001b[49m\u001b[38;5;28;43;01melse\u001b[39;49;00m\u001b[43m \u001b[49m\u001b[43m{\u001b[49m\u001b[43m}\u001b[49m\u001b[43m)\u001b[49m\u001b[43m,\u001b[49m\n\u001b[0;32m   2746\u001b[0m \u001b[43m        \u001b[49m\u001b[38;5;241;43m*\u001b[39;49m\u001b[38;5;241;43m*\u001b[39;49m\u001b[43mkwargs\u001b[49m\u001b[43m,\u001b[49m\n\u001b[0;32m   2747\u001b[0m \u001b[43m    \u001b[49m\u001b[43m)\u001b[49m\n",
      "File \u001b[1;32mc:\\Users\\Sriya dhanvi\\AppData\\Local\\Programs\\Python\\Python311\\Lib\\site-packages\\matplotlib\\__init__.py:1478\u001b[0m, in \u001b[0;36m_preprocess_data.<locals>.inner\u001b[1;34m(ax, data, *args, **kwargs)\u001b[0m\n\u001b[0;32m   1475\u001b[0m \u001b[38;5;129m@functools\u001b[39m\u001b[38;5;241m.\u001b[39mwraps(func)\n\u001b[0;32m   1476\u001b[0m \u001b[38;5;28;01mdef\u001b[39;00m \u001b[38;5;21minner\u001b[39m(ax, \u001b[38;5;241m*\u001b[39margs, data\u001b[38;5;241m=\u001b[39m\u001b[38;5;28;01mNone\u001b[39;00m, \u001b[38;5;241m*\u001b[39m\u001b[38;5;241m*\u001b[39mkwargs):\n\u001b[0;32m   1477\u001b[0m     \u001b[38;5;28;01mif\u001b[39;00m data \u001b[38;5;129;01mis\u001b[39;00m \u001b[38;5;28;01mNone\u001b[39;00m:\n\u001b[1;32m-> 1478\u001b[0m         \u001b[38;5;28;01mreturn\u001b[39;00m \u001b[43mfunc\u001b[49m\u001b[43m(\u001b[49m\u001b[43max\u001b[49m\u001b[43m,\u001b[49m\u001b[43m \u001b[49m\u001b[38;5;241;43m*\u001b[39;49m\u001b[38;5;28;43mmap\u001b[39;49m\u001b[43m(\u001b[49m\u001b[43msanitize_sequence\u001b[49m\u001b[43m,\u001b[49m\u001b[43m \u001b[49m\u001b[43margs\u001b[49m\u001b[43m)\u001b[49m\u001b[43m,\u001b[49m\u001b[43m \u001b[49m\u001b[38;5;241;43m*\u001b[39;49m\u001b[38;5;241;43m*\u001b[39;49m\u001b[43mkwargs\u001b[49m\u001b[43m)\u001b[49m\n\u001b[0;32m   1480\u001b[0m     bound \u001b[38;5;241m=\u001b[39m new_sig\u001b[38;5;241m.\u001b[39mbind(ax, \u001b[38;5;241m*\u001b[39margs, \u001b[38;5;241m*\u001b[39m\u001b[38;5;241m*\u001b[39mkwargs)\n\u001b[0;32m   1481\u001b[0m     auto_label \u001b[38;5;241m=\u001b[39m (bound\u001b[38;5;241m.\u001b[39marguments\u001b[38;5;241m.\u001b[39mget(label_namer)\n\u001b[0;32m   1482\u001b[0m                   \u001b[38;5;129;01mor\u001b[39;00m bound\u001b[38;5;241m.\u001b[39mkwargs\u001b[38;5;241m.\u001b[39mget(label_namer))\n",
      "File \u001b[1;32mc:\\Users\\Sriya dhanvi\\AppData\\Local\\Programs\\Python\\Python311\\Lib\\site-packages\\matplotlib\\axes\\_axes.py:2457\u001b[0m, in \u001b[0;36mAxes.bar\u001b[1;34m(self, x, height, width, bottom, align, **kwargs)\u001b[0m\n\u001b[0;32m   2454\u001b[0m     \u001b[38;5;28;01mif\u001b[39;00m yerr \u001b[38;5;129;01mis\u001b[39;00m \u001b[38;5;129;01mnot\u001b[39;00m \u001b[38;5;28;01mNone\u001b[39;00m:\n\u001b[0;32m   2455\u001b[0m         yerr \u001b[38;5;241m=\u001b[39m \u001b[38;5;28mself\u001b[39m\u001b[38;5;241m.\u001b[39m_convert_dx(yerr, y0, y, \u001b[38;5;28mself\u001b[39m\u001b[38;5;241m.\u001b[39mconvert_yunits)\n\u001b[1;32m-> 2457\u001b[0m x, height, width, y, linewidth, hatch \u001b[38;5;241m=\u001b[39m \u001b[43mnp\u001b[49m\u001b[38;5;241;43m.\u001b[39;49m\u001b[43mbroadcast_arrays\u001b[49m\u001b[43m(\u001b[49m\n\u001b[0;32m   2458\u001b[0m \u001b[43m    \u001b[49m\u001b[38;5;66;43;03m# Make args iterable too.\u001b[39;49;00m\n\u001b[0;32m   2459\u001b[0m \u001b[43m    \u001b[49m\u001b[43mnp\u001b[49m\u001b[38;5;241;43m.\u001b[39;49m\u001b[43matleast_1d\u001b[49m\u001b[43m(\u001b[49m\u001b[43mx\u001b[49m\u001b[43m)\u001b[49m\u001b[43m,\u001b[49m\u001b[43m \u001b[49m\u001b[43mheight\u001b[49m\u001b[43m,\u001b[49m\u001b[43m \u001b[49m\u001b[43mwidth\u001b[49m\u001b[43m,\u001b[49m\u001b[43m \u001b[49m\u001b[43my\u001b[49m\u001b[43m,\u001b[49m\u001b[43m \u001b[49m\u001b[43mlinewidth\u001b[49m\u001b[43m,\u001b[49m\u001b[43m \u001b[49m\u001b[43mhatch\u001b[49m\u001b[43m)\u001b[49m\n\u001b[0;32m   2461\u001b[0m \u001b[38;5;66;03m# Now that units have been converted, set the tick locations.\u001b[39;00m\n\u001b[0;32m   2462\u001b[0m \u001b[38;5;28;01mif\u001b[39;00m orientation \u001b[38;5;241m==\u001b[39m \u001b[38;5;124m'\u001b[39m\u001b[38;5;124mvertical\u001b[39m\u001b[38;5;124m'\u001b[39m:\n",
      "File \u001b[1;32mc:\\Users\\Sriya dhanvi\\AppData\\Local\\Programs\\Python\\Python311\\Lib\\site-packages\\numpy\\lib\\stride_tricks.py:540\u001b[0m, in \u001b[0;36mbroadcast_arrays\u001b[1;34m(subok, *args)\u001b[0m\n\u001b[0;32m    533\u001b[0m \u001b[38;5;66;03m# nditer is not used here to avoid the limit of 32 arrays.\u001b[39;00m\n\u001b[0;32m    534\u001b[0m \u001b[38;5;66;03m# Otherwise, something like the following one-liner would suffice:\u001b[39;00m\n\u001b[0;32m    535\u001b[0m \u001b[38;5;66;03m# return np.nditer(args, flags=['multi_index', 'zerosize_ok'],\u001b[39;00m\n\u001b[0;32m    536\u001b[0m \u001b[38;5;66;03m#                  order='C').itviews\u001b[39;00m\n\u001b[0;32m    538\u001b[0m args \u001b[38;5;241m=\u001b[39m [np\u001b[38;5;241m.\u001b[39marray(_m, copy\u001b[38;5;241m=\u001b[39m\u001b[38;5;28;01mFalse\u001b[39;00m, subok\u001b[38;5;241m=\u001b[39msubok) \u001b[38;5;28;01mfor\u001b[39;00m _m \u001b[38;5;129;01min\u001b[39;00m args]\n\u001b[1;32m--> 540\u001b[0m shape \u001b[38;5;241m=\u001b[39m \u001b[43m_broadcast_shape\u001b[49m\u001b[43m(\u001b[49m\u001b[38;5;241;43m*\u001b[39;49m\u001b[43margs\u001b[49m\u001b[43m)\u001b[49m\n\u001b[0;32m    542\u001b[0m \u001b[38;5;28;01mif\u001b[39;00m \u001b[38;5;28mall\u001b[39m(array\u001b[38;5;241m.\u001b[39mshape \u001b[38;5;241m==\u001b[39m shape \u001b[38;5;28;01mfor\u001b[39;00m array \u001b[38;5;129;01min\u001b[39;00m args):\n\u001b[0;32m    543\u001b[0m     \u001b[38;5;66;03m# Common case where nothing needs to be broadcasted.\u001b[39;00m\n\u001b[0;32m    544\u001b[0m     \u001b[38;5;28;01mreturn\u001b[39;00m args\n",
      "File \u001b[1;32mc:\\Users\\Sriya dhanvi\\AppData\\Local\\Programs\\Python\\Python311\\Lib\\site-packages\\numpy\\lib\\stride_tricks.py:422\u001b[0m, in \u001b[0;36m_broadcast_shape\u001b[1;34m(*args)\u001b[0m\n\u001b[0;32m    417\u001b[0m \u001b[38;5;250m\u001b[39m\u001b[38;5;124;03m\"\"\"Returns the shape of the arrays that would result from broadcasting the\u001b[39;00m\n\u001b[0;32m    418\u001b[0m \u001b[38;5;124;03msupplied arrays against each other.\u001b[39;00m\n\u001b[0;32m    419\u001b[0m \u001b[38;5;124;03m\"\"\"\u001b[39;00m\n\u001b[0;32m    420\u001b[0m \u001b[38;5;66;03m# use the old-iterator because np.nditer does not handle size 0 arrays\u001b[39;00m\n\u001b[0;32m    421\u001b[0m \u001b[38;5;66;03m# consistently\u001b[39;00m\n\u001b[1;32m--> 422\u001b[0m b \u001b[38;5;241m=\u001b[39m \u001b[43mnp\u001b[49m\u001b[38;5;241;43m.\u001b[39;49m\u001b[43mbroadcast\u001b[49m\u001b[43m(\u001b[49m\u001b[38;5;241;43m*\u001b[39;49m\u001b[43margs\u001b[49m\u001b[43m[\u001b[49m\u001b[43m:\u001b[49m\u001b[38;5;241;43m32\u001b[39;49m\u001b[43m]\u001b[49m\u001b[43m)\u001b[49m\n\u001b[0;32m    423\u001b[0m \u001b[38;5;66;03m# unfortunately, it cannot handle 32 or more arguments directly\u001b[39;00m\n\u001b[0;32m    424\u001b[0m \u001b[38;5;28;01mfor\u001b[39;00m pos \u001b[38;5;129;01min\u001b[39;00m \u001b[38;5;28mrange\u001b[39m(\u001b[38;5;241m32\u001b[39m, \u001b[38;5;28mlen\u001b[39m(args), \u001b[38;5;241m31\u001b[39m):\n\u001b[0;32m    425\u001b[0m     \u001b[38;5;66;03m# ironically, np.broadcast does not properly handle np.broadcast\u001b[39;00m\n\u001b[0;32m    426\u001b[0m     \u001b[38;5;66;03m# objects (it treats them as scalars)\u001b[39;00m\n\u001b[0;32m    427\u001b[0m     \u001b[38;5;66;03m# use broadcasting to avoid allocating the full array\u001b[39;00m\n",
      "\u001b[1;31mValueError\u001b[0m: shape mismatch: objects cannot be broadcast to a single shape.  Mismatch is between arg 0 with shape (6,) and arg 1 with shape (0,)."
     ]
    },
    {
     "data": {
      "image/png": "[encoded data removed]",
      "text/plain": [
       "<Figure size 1000x600 with 1 Axes>"
      ]
     },
     "metadata": {},
     "output_type": "display_data"
    }
   ],
   "source": [
    "# Plotting\n",
    "labels = [\"Binary Search 1\", \"Binary Search 2\", \"Binary Search 3\", \"Binary Search 4\", \"Binary Search 5\"]\n",
    "colors = [\"blue\", \"orange\", \"green\", \"red\", \"purple\"]\n",
    "\n",
    "plt.figure(figsize=(10, 6))\n",
    "for i in range(5):\n",
    "    plt.bar([str(size) for size in list_sizes], [sum(search_times[i][j:j+num_trials]) / num_trials for j in range(0, len(search_times[i]), num_trials)], label=labels[i], color=colors[i])\n",
    "\n",
    "plt.xlabel(\"List Size\")\n",
    "plt.ylabel(\"Average Search Time (ms)\")\n",
    "plt.title(\"Comparison of Binary Search Implementations\")\n",
    "plt.legend()\n",
    "plt.xticks(rotation=45)\n",
    "plt.tight_layout()\n",
    "plt.show()"
   ]
  }
 ],
 "metadata": {
  "kernelspec": {
   "display_name": "base",
   "language": "python",
   "name": "python3"
  },
  "language_info": {
   "codemirror_mode": {
    "name": "ipython",
    "version": 3
   },
   "file_extension": ".py",
   "mimetype": "text/x-python",
   "name": "python",
   "nbconvert_exporter": "python",
   "pygments_lexer": "ipython3",
   "version": "3.11.1"
  }
 },
 "nbformat": 4,
 "nbformat_minor": 2
}
