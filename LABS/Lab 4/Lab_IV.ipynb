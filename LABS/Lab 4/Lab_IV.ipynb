{
 "cells": [
  {
   "cell_type": "code",
   "execution_count": 1,
   "metadata": {},
   "outputs": [],
   "source": [
<<<<<<< HEAD
    "import random\n",
    "import time\n",
    "import matplotlib.pyplot as plt\n",
    "import numpy as np"
   ]
  },
  {
   "cell_type": "code",
   "execution_count": 2,
   "metadata": {},
   "outputs": [],
   "source": [
=======
>>>>>>> ce4d678a3419c280f68738e015bb02a2cbb6add5
    "class RBNode:\n",
    "\n",
    "    def __init__(self, value):\n",
    "        self.value = value\n",
    "        self.left = None\n",
    "        self.right = None\n",
    "        self.parent = None\n",
    "        self.colour = \"R\"\n",
    "\n",
    "    def get_uncle(self):\n",
    "        return\n",
    "\n",
    "    def is_leaf(self):\n",
    "        return self.left == None and self.right == None\n",
    "\n",
    "    def is_left_child(self):\n",
    "        return self == self.parent.left\n",
    "\n",
    "    def is_right_child(self):\n",
    "        return not self.is_left_child()\n",
    "\n",
    "    def is_red(self):\n",
    "        return self.colour == \"R\"\n",
    "\n",
    "    def is_black(self):\n",
    "        return not self.is_red()\n",
    "\n",
    "    def make_black(self):\n",
    "        self.colour = \"B\"\n",
    "\n",
    "    def make_red(self):\n",
    "        self.colour = \"R\"\n",
    "\n",
    "    def get_brother(self):\n",
    "        if self.parent.right == self:\n",
    "            return self.parent.left\n",
    "        return self.parent.right\n",
    "\n",
    "    def get_uncle(self):\n",
    "        return self.parent.get_brother()\n",
    "\n",
    "    def uncle_is_black(self):\n",
    "        if self.get_uncle() == None:\n",
    "            return True\n",
    "        return self.get_uncle().is_black()\n",
    "\n",
    "    def __str__(self):\n",
    "        return \"(\" + str(self.value) + \",\" + self.colour + \")\"\n",
    "\n",
    "    def __repr__(self):\n",
    "         return \"(\" + str(self.value) + \",\" + self.colour + \")\"\n",
    "\n",
    "    def rotate_right(self):\n",
    "        #TODO\n",
    "        return 0\n",
    "\n",
    "    def rotate_left(self):\n",
    "        #TODO\n",
    "        return 0\n",
    "                    \n",
    "        \n",
    "    "
   ]
  },
  {
   "cell_type": "code",
<<<<<<< HEAD
   "execution_count": 3,
   "metadata": {},
   "outputs": [
    {
     "ename": "IndentationError",
     "evalue": "expected an indented block after 'while' statement on line 46 (87019639.py, line 48)",
     "output_type": "error",
     "traceback": [
      "\u001b[1;36m  Cell \u001b[1;32mIn[3], line 48\u001b[1;36m\u001b[0m\n\u001b[1;33m    self.root.make_black()\u001b[0m\n\u001b[1;37m    ^\u001b[0m\n\u001b[1;31mIndentationError\u001b[0m\u001b[1;31m:\u001b[0m expected an indented block after 'while' statement on line 46\n"
     ]
    }
   ],
=======
   "execution_count": null,
   "metadata": {},
   "outputs": [],
>>>>>>> ce4d678a3419c280f68738e015bb02a2cbb6add5
   "source": [
    "class RBTree:\n",
    "\n",
    "    def __init__(self,):\n",
    "        self.root = None\n",
    "\n",
    "    def is_empty(self,):\n",
    "        return self.root == None\n",
    "\n",
    "    def get_height(self,):\n",
    "        if self.is_empty():\n",
    "            return 0\n",
    "        return self.__get_height(self.root)\n",
    "\n",
    "    def __get_height(self, node):\n",
    "        if node == None:\n",
    "            return 0\n",
    "        return 1 + max(self.__get_height(node.left), self.__get_height(node.right))\n",
    "\n",
    "    def insert(self, value):\n",
    "        if self.is_empty():\n",
    "            self.root = RBNode(value)\n",
    "            self.root.make_black()\n",
    "        else:\n",
    "            self.__insert(self.root, value)\n",
    "\n",
    "    def __insert(self, node, value):\n",
    "        if value < node.value:\n",
    "            if node.left == None:\n",
    "                node.left = RBNode(value)\n",
    "                node.left.parent = node\n",
    "                self.fix(node.left)\n",
    "            else:\n",
    "                self.__insert(node.left, value)\n",
    "        else:\n",
    "            if node.right == None:\n",
    "                node.right = RBNode(value)\n",
    "                node.right.parent = node\n",
    "                self.fix(node.right)\n",
    "            else:\n",
    "                self.__insert(node.right, value)\n",
    "\n",
    "    def fix(self, node):\n",
    "        #You may alter code in this method if you wish, it's merely a guide.\n",
    "        if node.parent == None:\n",
    "            node.make_black()\n",
    "        while node != None and node.parent != None and node.parent.is_red(): \n",
    "            #TODO\n",
    "        self.root.make_black()\n",
    "\n",
    "    def __str__(self):\n",
    "        if self.is_empty():\n",
    "            return \"[]\"\n",
    "        return \"[\" + self.__str_helper(self.root) + \"]\"\n",
    "\n",
    "    def __str_helper(self, node):\n",
    "        if node.is_leaf():\n",
    "            return \"[\" + str(node) + \"]\"\n",
    "        if node.left == None:\n",
    "            return \"[\" + str(node) + \" -> \" + self.__str_helper(node.right) + \"]\"\n",
    "        if node.right == None:\n",
    "            return \"[\" +  self.__str_helper(node.left) + \" <- \" + str(node) + \"]\"\n",
    "        return \"[\" + self.__str_helper(node.left) + \" <- \" + str(node) + \" -> \" + self.__str_helper(node.right) + \"]\"\n"
   ]
<<<<<<< HEAD
  },
  {
   "cell_type": "markdown",
   "metadata": {},
   "source": [
    "### Part 2: Binary Search Using Dynamic Programming"
   ]
  },
  {
   "cell_type": "markdown",
   "metadata": {},
   "source": [
    "#### Part 2.1: Implementation of Dynamic Binary Search (SEARCH, INSERT, DELETE operations)"
   ]
  },
  {
   "cell_type": "code",
   "execution_count": 27,
   "metadata": {},
   "outputs": [],
   "source": [
    "# traditional binary search\n",
    "def binary_search_5(item_list, to_find):\n",
    "    left = 0\n",
    "    right = len(item_list) - 1\n",
    "    while left <= right:\n",
    "        mid = (left + right) // 2\n",
    "        if item_list[mid] == to_find:\n",
    "            return mid\n",
    "        elif item_list[mid] < to_find:\n",
    "            left = mid + 1\n",
    "        else:\n",
    "            right = mid - 1\n",
    "    return -1  # Element not found"
   ]
  },
  {
   "cell_type": "code",
   "execution_count": 28,
   "metadata": {},
   "outputs": [],
   "source": [
    "# helper function to find bits to represent length of list in binary\n",
    "def find_list_index(n):\n",
    "    k = n.bit_length()  # Number of bits required to represent n\n",
    "    return k - 1"
   ]
  },
  {
   "cell_type": "code",
   "execution_count": 29,
   "metadata": {},
   "outputs": [],
   "source": [
    "# search function\n",
    "def search(lists, to_find):\n",
    "    list_index = find_list_index(sum(len(sub_list) for sub_list in lists))\n",
    "    for i in range(list_index + 1):\n",
    "        sub_list = lists[i]\n",
    "        if sub_list:\n",
    "            idx = binary_search_5(sub_list, to_find)\n",
    "            if idx != -1:\n",
    "                return idx + sum(len(sub_list) for sub_list in lists[:i])\n",
    "    return -1  # Element not found"
   ]
  },
  {
   "cell_type": "code",
   "execution_count": 31,
   "metadata": {},
   "outputs": [],
   "source": [
    "# insert function\n",
    "def insert(lists, element):\n",
    "    list_index = find_list_index(sum(len(sub_list) for sub_list in lists) + 1)\n",
    "    idx = search(lists, element)\n",
    "    if idx == -1:\n",
    "        lists[0] = [element]  # Insert in the first list\n",
    "    else:\n",
    "        while list_index >= 0:\n",
    "            if lists[list_index]:  # If list is not empty\n",
    "                lists[list_index].append(element)\n",
    "                lists[list_index].sort()\n",
    "                break\n",
    "            else:\n",
    "                list_index -= 1"
   ]
  },
  {
   "cell_type": "code",
   "execution_count": 32,
   "metadata": {},
   "outputs": [],
   "source": [
    "# delete function\n",
    "def delete(lists, element):\n",
    "    idx = search(lists, element)\n",
    "    if idx != -1:\n",
    "        list_index = find_list_index(sum(len(sub_list) for sub_list in lists))\n",
    "        while list_index >= 0:\n",
    "            if lists[list_index]:  # If list is not empty\n",
    "                if element in lists[list_index]:\n",
    "                    lists[list_index].remove(element)\n",
    "                    return\n",
    "            list_index -= 1\n",
    "    else:\n",
    "        print(\"Element not found.\")"
   ]
  },
  {
   "cell_type": "code",
   "execution_count": 33,
   "metadata": {},
   "outputs": [
    {
     "name": "stdout",
     "output_type": "stream",
     "text": [
      "Lists: [[15], [], [], []]\n",
      "Search for 8: -1\n",
      "Search for 20: -1\n",
      "Element not found.\n",
      "Lists after deleting 8: [[15], [], [], []]\n"
     ]
    }
   ],
   "source": [
    "# testing\n",
    "lists = [[] for _ in range(4)]  # Initialize with 4 empty lists\n",
    "elements = [2, 5, 8, 10, 15]\n",
    "for elem in elements:\n",
    "    insert(lists, elem)\n",
    "\n",
    "print(\"Lists:\", lists)\n",
    "print(\"Search for 8:\", search(lists, 8))  # Output: 6 (index of 8)\n",
    "print(\"Search for 20:\", search(lists, 20))  # Output: -1 (not found)\n",
    "\n",
    "delete(lists, 8)\n",
    "print(\"Lists after deleting 8:\", lists)"
   ]
  },
  {
   "cell_type": "markdown",
   "metadata": {},
   "source": [
    "#### Part 2.2: Experiment to Compare Performance"
   ]
=======
>>>>>>> ce4d678a3419c280f68738e015bb02a2cbb6add5
  }
 ],
 "metadata": {
  "kernelspec": {
   "display_name": "base",
   "language": "python",
   "name": "python3"
  },
  "language_info": {
   "codemirror_mode": {
    "name": "ipython",
    "version": 3
   },
   "file_extension": ".py",
   "mimetype": "text/x-python",
   "name": "python",
   "nbconvert_exporter": "python",
   "pygments_lexer": "ipython3",
<<<<<<< HEAD
   "version": "3.11.1"
=======
   "version": "3.9.12"
>>>>>>> ce4d678a3419c280f68738e015bb02a2cbb6add5
  }
 },
 "nbformat": 4,
 "nbformat_minor": 2
}
