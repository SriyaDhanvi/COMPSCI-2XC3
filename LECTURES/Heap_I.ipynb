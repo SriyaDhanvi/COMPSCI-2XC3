{
 "cells": [
  {
   "cell_type": "code",
   "execution_count": 1,
   "metadata": {},
   "outputs": [
    {
     "name": "stdout",
     "output_type": "stream",
     "text": [
      "Requirement already satisfied: PrettyPrint in c:\\users\\sriya dhanvi\\appdata\\local\\programs\\python\\python311\\lib\\site-packages (0.1.5)\n",
      "Note: you may need to restart the kernel to use updated packages.\n"
     ]
    }
   ],
   "source": [
    "pip install PrettyPrint"
   ]
  },
  {
   "cell_type": "markdown",
   "metadata": {},
   "source": [
    "### assignment due on 4th feb\n",
    "### submit notebook and its pdf\n",
    "### midterm on 29th feb \n",
    "### final exam is a complete project with individual and group components will have a 1 whole month"
   ]
  },
  {
   "cell_type": "code",
   "execution_count": 2,
   "metadata": {},
   "outputs": [],
   "source": [
    "import os\n",
    "import math\n",
    "import random\n",
    "from PrettyPrint import PrettyPrintTree\n",
    "from colorama import Back,Style,Fore"
   ]
  },
  {
   "cell_type": "markdown",
   "metadata": {},
   "source": [
    "### Display Heap as Binary Tree"
   ]
  },
  {
   "cell_type": "code",
   "execution_count": 3,
   "metadata": {},
   "outputs": [],
   "source": [
    "class Tree:\n",
    "    def __init__(self, value):\n",
    "        self.val = value\n",
    "        self.children = []\n",
    "\n",
    "    def add_child(self, child):\n",
    "        self.children.append(child)\n",
    "        return child\n",
    "    \n",
    "    def get_children(self,):\n",
    "        return len(self.children)"
   ]
  },
  {
   "cell_type": "markdown",
   "metadata": {},
   "source": [
    "- heap needs to  be a COMPLETE binary tree\n",
    "- max heap: \n",
    "    parent node >= children node\n",
    "    swim down = heapify"
   ]
  },
  {
   "cell_type": "code",
   "execution_count": 4,
   "metadata": {},
   "outputs": [],
   "source": [
    "def show_heap(items):\n",
    "    pt = PrettyPrintTree(lambda x: x.children, lambda x: x.val,color=Back.CYAN+Fore.BLACK)\n",
    "    tree = Tree(items[0])\n",
    "    \n",
    "    child_nodes = [tree.add_child(Tree(items[1])),tree.add_child(Tree(items[2]))]\n",
    "    i=3\n",
    "    while i<len(items):\n",
    "        new_child_nodes=[]\n",
    "        for child_node in child_nodes:\n",
    "            if i<len(items):\n",
    "                new_child_nodes.append(child_node.add_child(Tree(items[i])))\n",
    "            if i+1<len(items):\n",
    "                new_child_nodes.append(child_node.add_child(Tree(items[i+1])))\n",
    "            i+=2\n",
    "        child_nodes = [node for node in new_child_nodes]\n",
    "    pt(tree)"
   ]
  },
  {
   "cell_type": "code",
   "execution_count": 5,
   "metadata": {},
   "outputs": [
    {
     "name": "stdout",
     "output_type": "stream",
     "text": [
      "             \u001b[46m\u001b[30m 1 \u001b[0m\n",
      "       ┌──────┴──────┐\n",
      "      \u001b[46m\u001b[30m 9 \u001b[0m           \u001b[46m\u001b[30m 3 \u001b[0m  \n",
      "   ┌───┴───┐       ┌─┴─┐ \n",
      "  \u001b[46m\u001b[30m 6 \u001b[0m     \u001b[46m\u001b[30m 5 \u001b[0m     \u001b[46m\u001b[30m 6 \u001b[0m \u001b[46m\u001b[30m 7 \u001b[0m\n",
      " ┌─┴─┐   ┌─┴──┐          \n",
      "\u001b[46m\u001b[30m 8 \u001b[0m \u001b[46m\u001b[30m 9 \u001b[0m \u001b[46m\u001b[30m 10 \u001b[0m \u001b[46m\u001b[30m 11 \u001b[0m\n"
     ]
    }
   ],
   "source": [
    "data=[1,9,3,6,5,6,7,8,9,10,11]\n",
    "show_heap(data)"
   ]
  },
  {
   "cell_type": "markdown",
   "metadata": {},
   "source": [
    "### Create random list"
   ]
  },
  {
   "cell_type": "code",
   "execution_count": 11,
   "metadata": {},
   "outputs": [],
   "source": [
    "class Heap:\n",
    "\n",
    "    def __init__(self, data):\n",
    "        self.items = data\n",
    "        self.length = len(data) # keeping track of length\n",
    "        self.build_heap() # creating a map which identifies the location each item is supposed to be in\n",
    "    \n",
    "    def find_left_index(self,index):\n",
    "        return 2 * (index + 1) - 1\n",
    "\n",
    "    def find_right_index(self,index):\n",
    "        return 2 * (index + 1)\n",
    "\n",
    "    def find_parent_index(self,index):\n",
    "        return (index + 1) // 2 - 1  \n",
    "\n",
    "    def heapify(self,index): \n",
    "        largest_known_index = index #assume this is the largest node\n",
    "        left_index = self.find_left_index(index)\n",
    "        right_index = self.find_right_index(index)\n",
    "\n",
    "        # is current index item < left index\n",
    "        if left_index < self.length and self.items[left_index] > self.items[index]:\n",
    "            largest_known_index = left_index\n",
    "        if right_index < self.length and self.items[right_index] > self.items[largest_known_index]:\n",
    "            largest_known_index = right_index\n",
    "        # found the largest item index => do the swap\n",
    "        if largest_known_index != index:\n",
    "            self.items[index], self.items[largest_known_index] = self.items[largest_known_index], self.items[index]\n",
    "            self.heapify(largest_known_index)\n",
    "\n",
    "    def build_heap(self,):\n",
    "        print (\"Before heapify:\")\n",
    "        show_heap(self.items)\n",
    "\n",
    "        #starting with half the tree height and eventually go all the way up(actually performing heapify that went up)\n",
    "        for i in range(self.length // 2 - 1, -1, -1): \n",
    "            self.heapify(i)\n",
    "\n",
    "        print(\"\\n\")\n",
    "        print (\"After heapify:\")\n",
    "        show_heap(self.items)     \n",
    "\n",
    "    \n",
    "    def bubble_up(self,index):\n",
    "        parent_index = self.find_parent_index(index)\n",
    "        \n",
    "        # if index == 0: #base case\n",
    "        #     return 0\n",
    "        # if index>0 and self.items[index] > self.items[parent_index]: \n",
    "        #     self.items[index],self.items[parent_index] = self.items[parent_index],self.items[index]\n",
    "        #     self.bubble_up(parent_index)\n",
    "\n",
    "        while index>0 and self.items[index] > self.items[parent_index]: #while loop covers for the base case\n",
    "            self.items[index],self.items[parent_index] = self.items[parent_index],self.items[index]\n",
    "            self.bubble_up(parent_index) #recursive part\n",
    "\n",
    "    def insert_value(self,value):\n",
    "        if self.length == len(self.items):\n",
    "            self.items.append(value)\n",
    "        else:\n",
    "            self.items[self.length -1]\n",
    "        self.length +=1\n",
    "        print(\"Before Bubble Up\")\n",
    "        show_heap(self.items)\n",
    "        self.bubble_up(self.length-1)\n",
    "\n",
    "        print(\"After Bubble Up\")\n",
    "        show_heap(self.items)\n",
    "\n",
    "    def extract_max(self,):\n",
    "        self.items[0],self.items[self.length -1] = self.items[self.length-1],self.items[0]\n",
    "        max_value = self.items[self.length-1]\n",
    "        self.length -=1\n",
    "        self.heapify(0)\n",
    "        return max_value\n",
    "    \n",
    "    def contains(self, value):\n",
    "        return value in self.items\n",
    "\n",
    "            "
   ]
  },
  {
   "cell_type": "markdown",
   "metadata": {},
   "source": [
    "we can optimise heapify by including swim up and swim down in the same function but that is also not very helpful. only helpful when we're swimming up and down way too many times"
   ]
  },
  {
   "cell_type": "code",
   "execution_count": 12,
   "metadata": {},
   "outputs": [
    {
     "data": {
      "text/plain": [
       "[477, 780, 529, 906, 911, 517, 624, 177, 869, 353]"
      ]
     },
     "execution_count": 12,
     "metadata": {},
     "output_type": "execute_result"
    }
   ],
   "source": [
    "def create_list_custom(length, max_value, item=None, item_index=None):\n",
    "    random_list = [random.randint(0,max_value) for i in range(length)]\n",
    "    if item!= None:\n",
    "        random_list.insert(item_index,item)\n",
    "    return random_list\n",
    "\n",
    "data = create_list_custom(10,1000)\n",
    "data"
   ]
  },
  {
   "cell_type": "code",
   "execution_count": 8,
   "metadata": {},
   "outputs": [
    {
     "name": "stdout",
     "output_type": "stream",
     "text": [
      "Before heapify:\n",
      "             \u001b[46m\u001b[30m 365 \u001b[0m\n",
      "         ┌─────┴──────┐\n",
      "        \u001b[46m\u001b[30m 91 \u001b[0m        \u001b[46m\u001b[30m 688 \u001b[0m   \n",
      "     ┌───┴────┐    ┌──┴──┐  \n",
      "   \u001b[46m\u001b[30m 689 \u001b[0m    \u001b[46m\u001b[30m 622 \u001b[0m \u001b[46m\u001b[30m 77 \u001b[0m \u001b[46m\u001b[30m 799 \u001b[0m\n",
      "  ┌──┴──┐     |             \n",
      "\u001b[46m\u001b[30m 477 \u001b[0m \u001b[46m\u001b[30m 700 \u001b[0m \u001b[46m\u001b[30m 152 \u001b[0m\n",
      "\n",
      "\n",
      "After heapify:\n",
      "            \u001b[46m\u001b[30m 799 \u001b[0m\n",
      "        ┌─────┴──────┐\n",
      "      \u001b[46m\u001b[30m 700 \u001b[0m        \u001b[46m\u001b[30m 688 \u001b[0m   \n",
      "    ┌───┴────┐    ┌──┴──┐  \n",
      "  \u001b[46m\u001b[30m 689 \u001b[0m    \u001b[46m\u001b[30m 622 \u001b[0m \u001b[46m\u001b[30m 77 \u001b[0m \u001b[46m\u001b[30m 365 \u001b[0m\n",
      "  ┌─┴──┐     |             \n",
      "\u001b[46m\u001b[30m 477 \u001b[0m \u001b[46m\u001b[30m 91 \u001b[0m \u001b[46m\u001b[30m 152 \u001b[0m\n"
     ]
    }
   ],
   "source": [
    "heap = Heap(data)"
   ]
  },
  {
   "cell_type": "code",
   "execution_count": 9,
   "metadata": {},
   "outputs": [
    {
     "name": "stdout",
     "output_type": "stream",
     "text": [
      "Before Bubble Up\n",
      "                 \u001b[46m\u001b[30m 799 \u001b[0m\n",
      "          ┌────────┴────────┐\n",
      "        \u001b[46m\u001b[30m 700 \u001b[0m             \u001b[46m\u001b[30m 688 \u001b[0m   \n",
      "    ┌─────┴─────┐        ┌──┴──┐  \n",
      "  \u001b[46m\u001b[30m 689 \u001b[0m       \u001b[46m\u001b[30m 622 \u001b[0m     \u001b[46m\u001b[30m 77 \u001b[0m \u001b[46m\u001b[30m 365 \u001b[0m\n",
      "  ┌─┴──┐     ┌──┴──┐              \n",
      "\u001b[46m\u001b[30m 477 \u001b[0m \u001b[46m\u001b[30m 91 \u001b[0m \u001b[46m\u001b[30m 152 \u001b[0m \u001b[46m\u001b[30m 1000 \u001b[0m\n",
      "After Bubble Up\n",
      "                \u001b[46m\u001b[30m 1000 \u001b[0m\n",
      "          ┌───────┴────────┐\n",
      "        \u001b[46m\u001b[30m 799 \u001b[0m            \u001b[46m\u001b[30m 688 \u001b[0m   \n",
      "    ┌─────┴─────┐       ┌──┴──┐  \n",
      "  \u001b[46m\u001b[30m 689 \u001b[0m       \u001b[46m\u001b[30m 700 \u001b[0m    \u001b[46m\u001b[30m 77 \u001b[0m \u001b[46m\u001b[30m 365 \u001b[0m\n",
      "  ┌─┴──┐     ┌──┴──┐             \n",
      "\u001b[46m\u001b[30m 477 \u001b[0m \u001b[46m\u001b[30m 91 \u001b[0m \u001b[46m\u001b[30m 152 \u001b[0m \u001b[46m\u001b[30m 622 \u001b[0m\n"
     ]
    }
   ],
   "source": [
    "heap.insert_value(1000)"
   ]
  },
  {
   "cell_type": "code",
   "execution_count": 10,
   "metadata": {},
   "outputs": [
    {
     "name": "stdout",
     "output_type": "stream",
     "text": [
      "                \u001b[46m\u001b[30m 1000 \u001b[0m\n",
      "          ┌───────┴────────┐\n",
      "        \u001b[46m\u001b[30m 799 \u001b[0m            \u001b[46m\u001b[30m 688 \u001b[0m   \n",
      "    ┌─────┴─────┐       ┌──┴──┐  \n",
      "  \u001b[46m\u001b[30m 689 \u001b[0m       \u001b[46m\u001b[30m 700 \u001b[0m    \u001b[46m\u001b[30m 77 \u001b[0m \u001b[46m\u001b[30m 365 \u001b[0m\n",
      "  ┌─┴──┐     ┌──┴──┐             \n",
      "\u001b[46m\u001b[30m 477 \u001b[0m \u001b[46m\u001b[30m 91 \u001b[0m \u001b[46m\u001b[30m 152 \u001b[0m \u001b[46m\u001b[30m 622 \u001b[0m\n"
     ]
    }
   ],
   "source": [
    "show_heap(heap.items)"
   ]
  },
  {
   "cell_type": "code",
   "execution_count": null,
   "metadata": {},
   "outputs": [],
   "source": []
  }
 ],
 "metadata": {
  "kernelspec": {
   "display_name": "base",
   "language": "python",
   "name": "python3"
  },
  "language_info": {
   "codemirror_mode": {
    "name": "ipython",
    "version": 3
   },
   "file_extension": ".py",
   "mimetype": "text/x-python",
   "name": "python",
   "nbconvert_exporter": "python",
   "pygments_lexer": "ipython3",
   "version": "3.11.1"
  }
 },
 "nbformat": 4,
 "nbformat_minor": 2
}
