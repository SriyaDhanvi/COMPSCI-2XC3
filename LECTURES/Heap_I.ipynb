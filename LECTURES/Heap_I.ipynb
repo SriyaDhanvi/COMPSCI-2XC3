{
 "cells": [
  {
   "cell_type": "code",
   "execution_count": 3,
   "metadata": {},
   "outputs": [
    {
     "name": "stdout",
     "output_type": "stream",
     "text": [
      "Requirement already satisfied: PrettyPrint in c:\\users\\sriya dhanvi\\appdata\\local\\programs\\python\\python311\\lib\\site-packages (0.1.5)\n",
      "Note: you may need to restart the kernel to use updated packages.\n"
     ]
    }
   ],
   "source": [
    "pip install PrettyPrint"
   ]
  },
  {
   "cell_type": "code",
   "execution_count": 1,
   "metadata": {},
   "outputs": [
    {
     "name": "stdout",
     "output_type": "stream",
     "text": [
      "Package                   Version\n",
      "------------------------- ---------------\n",
      "anyio                     4.2.0\n",
      "argon2-cffi               23.1.0\n",
      "argon2-cffi-bindings      21.2.0\n",
      "arrow                     1.3.0\n",
      "asttokens                 2.4.1\n",
      "async-lru                 2.0.4\n",
      "attrs                     23.2.0\n",
      "Babel                     2.14.0\n",
      "beautifulsoup4            4.12.2\n",
      "bleach                    6.1.0\n",
      "certifi                   2023.11.17\n",
      "cffi                      1.16.0\n",
      "charset-normalizer        3.3.2\n",
      "cmd2                      2.4.3\n",
      "colorama                  0.4.6\n",
      "comm                      0.2.1\n",
      "contourpy                 1.2.0\n",
      "cycler                    0.12.1\n",
      "debugpy                   1.8.0\n",
      "decorator                 5.1.1\n",
      "defusedxml                0.7.1\n",
      "executing                 2.0.1\n",
      "fastjsonschema            2.19.1\n",
      "fonttools                 4.47.2\n",
      "fqdn                      1.5.1\n",
      "idna                      3.6\n",
      "ipykernel                 6.28.0\n",
      "ipython                   8.20.0\n",
      "ipywidgets                8.1.1\n",
      "isoduration               20.11.0\n",
      "jedi                      0.19.1\n",
      "Jinja2                    3.1.3\n",
      "json5                     0.9.14\n",
      "jsonpointer               2.4\n",
      "jsonschema                4.20.0\n",
      "jsonschema-specifications 2023.12.1\n",
      "jupyter                   1.0.0\n",
      "jupyter_client            8.6.0\n",
      "jupyter-console           6.6.3\n",
      "jupyter_core              5.7.1\n",
      "jupyter-events            0.9.0\n",
      "jupyter-lsp               2.2.1\n",
      "jupyter_server            2.12.4\n",
      "jupyter_server_terminals  0.5.1\n",
      "jupyterlab                4.0.10\n",
      "jupyterlab_pygments       0.3.0\n",
      "jupyterlab_server         2.25.2\n",
      "jupyterlab-widgets        3.0.9\n",
      "kiwisolver                1.4.5\n",
      "MarkupSafe                2.1.3\n",
      "matplotlib                3.8.2\n",
      "matplotlib-inline         0.1.6\n",
      "mistune                   3.0.2\n",
      "nbclient                  0.9.0\n",
      "nbconvert                 7.14.1\n",
      "nbformat                  5.9.2\n",
      "nest-asyncio              1.5.8\n",
      "notebook                  7.0.6\n",
      "notebook_shim             0.2.3\n",
      "numpy                     1.26.3\n",
      "overrides                 7.4.0\n",
      "packaging                 23.2\n",
      "pandocfilters             1.5.0\n",
      "parso                     0.8.3\n",
      "pillow                    10.2.0\n",
      "pip                       23.3.2\n",
      "platformdirs              4.1.0\n",
      "prettyprint               0.1.5\n",
      "PrettyPrintTree           2.0.0\n",
      "prometheus-client         0.19.0\n",
      "prompt-toolkit            3.0.43\n",
      "psutil                    5.9.7\n",
      "pure-eval                 0.2.2\n",
      "pycparser                 2.21\n",
      "Pygments                  2.17.2\n",
      "pyparsing                 3.1.1\n",
      "pyperclip                 1.8.2\n",
      "pyreadline3               3.4.1\n",
      "python-dateutil           2.8.2\n",
      "python-json-logger        2.0.7\n",
      "pywin32                   306\n",
      "pywinpty                  2.0.12\n",
      "PyYAML                    6.0.1\n",
      "pyzmq                     25.1.2\n",
      "qtconsole                 5.5.1\n",
      "QtPy                      2.4.1\n",
      "referencing               0.32.1\n",
      "requests                  2.31.0\n",
      "rfc3339-validator         0.1.4\n",
      "rfc3986-validator         0.1.1\n",
      "rpds-py                   0.16.2\n",
      "Send2Trash                1.8.2\n",
      "setuptools                65.5.0\n",
      "six                       1.16.0\n",
      "sniffio                   1.3.0\n",
      "soupsieve                 2.5\n",
      "stack-data                0.6.3\n",
      "terminado                 0.18.0\n",
      "tinycss2                  1.2.1\n",
      "tornado                   6.4\n",
      "traitlets                 5.14.1\n",
      "types-python-dateutil     2.8.19.20240106\n",
      "uri-template              1.3.0\n",
      "urllib3                   2.1.0\n",
      "wcwidth                   0.2.13\n",
      "webcolors                 1.13\n",
      "webencodings              0.5.1\n",
      "websocket-client          1.7.0\n",
      "widgetsnbextension        4.0.9\n",
      "Note: you may need to restart the kernel to use updated packages.\n"
     ]
    }
   ],
   "source": [
    "pip list"
   ]
  },
  {
   "cell_type": "markdown",
   "metadata": {},
   "source": [
    "### Display Heap as Binary Tree"
   ]
  },
  {
   "cell_type": "code",
   "execution_count": 5,
   "metadata": {},
   "outputs": [],
   "source": [
    "class Tree:\n",
    "    def __init__(self, value):\n",
    "        self.val = value\n",
    "        self.children = []\n",
    "\n",
    "    def add_child(self, child):\n",
    "        self.children.append(child)\n",
    "        return child\n",
    "    \n",
    "    def get_children(self,):\n",
    "        return len(self.children)"
   ]
  },
  {
   "cell_type": "code",
   "execution_count": 6,
   "metadata": {},
   "outputs": [],
   "source": [
    "def show_heap(items):\n",
    "    pt = PrettyPrintTree(lambda x: x.children, lambda x: x.val,color=Back.CYAN+Fore.BLACK)\n",
    "    tree = Tree(items[0])\n",
    "    \n",
    "    child_nodes = [tree.add_child(Tree(items[1])),tree.add_child(Tree(items[2]))]\n",
    "    i=3\n",
    "    while i<len(items):\n",
    "        new_child_nodes=[]\n",
    "        for child_node in child_nodes:\n",
    "            if i<len(items):\n",
    "                new_child_nodes.append(child_node.add_child(Tree(items[i])))\n",
    "            if i+1<len(items):\n",
    "                new_child_nodes.append(child_node.add_child(Tree(items[i+1])))\n",
    "            i+=2\n",
    "        child_nodes = [node for node in new_child_nodes]\n",
    "    pt(tree)"
   ]
  },
  {
   "cell_type": "code",
   "execution_count": 7,
   "metadata": {},
   "outputs": [
    {
     "name": "stdout",
     "output_type": "stream",
     "text": [
      "             \u001b[46m\u001b[30m 1 \u001b[0m\n",
      "       ┌──────┴──────┐\n",
      "      \u001b[46m\u001b[30m 9 \u001b[0m           \u001b[46m\u001b[30m 3 \u001b[0m  \n",
      "   ┌───┴───┐       ┌─┴─┐ \n",
      "  \u001b[46m\u001b[30m 6 \u001b[0m     \u001b[46m\u001b[30m 5 \u001b[0m     \u001b[46m\u001b[30m 6 \u001b[0m \u001b[46m\u001b[30m 7 \u001b[0m\n",
      " ┌─┴─┐   ┌─┴──┐          \n",
      "\u001b[46m\u001b[30m 8 \u001b[0m \u001b[46m\u001b[30m 9 \u001b[0m \u001b[46m\u001b[30m 10 \u001b[0m \u001b[46m\u001b[30m 11 \u001b[0m\n"
     ]
    }
   ],
   "source": [
    "data=[1,9,3,6,5,6,7,8,9,10,11]\n",
    "show_heap(data)"
   ]
  },
  {
   "cell_type": "markdown",
   "metadata": {},
   "source": [
    "### Create random list"
   ]
  },
  {
   "cell_type": "code",
   "execution_count": 8,
   "metadata": {},
   "outputs": [],
   "source": [
    "class Heap:\n",
    "\n",
    "    def __init__(self, data):\n",
    "        self.items = data\n",
    "        self.length = len(data)\n",
    "        self.build_heap()\n",
    "    \n",
    "    def find_left_index(self,index):\n",
    "        return 2 * (index + 1) - 1\n",
    "\n",
    "    def find_right_index(self,index):\n",
    "        return 2 * (index + 1)\n",
    "\n",
    "    def find_parent_index(self,index):\n",
    "        return (index + 1) // 2 - 1  \n",
    "\n",
    "    def heapify(self,index):\n",
    "        largest_known_index = index\n",
    "        left_index = self.find_left_index(index)\n",
    "        right_index = self.find_right_index(index)\n",
    "\n",
    "        if left_index < self.length and self.items[left_index] > self.items[index]:\n",
    "            largest_known_index = left_index\n",
    "        if right_index < self.length and self.items[right_index] > self.items[largest_known_index]:\n",
    "            largest_known_index = right_index\n",
    "        if largest_known_index != index:\n",
    "            self.items[index], self.items[largest_known_index] = self.items[largest_known_index], self.items[index]\n",
    "            self.heapify(largest_known_index)\n",
    "\n",
    "    def build_heap(self,):\n",
    "        print (\"Before heapify:\")\n",
    "        show_heap(self.items)\n",
    "\n",
    "        for i in range(self.length // 2 - 1, -1, -1):\n",
    "            self.heapify(i)\n",
    "\n",
    "        print(\"\\n\")\n",
    "        print (\"After heapify:\")\n",
    "        show_heap(self.items)     \n",
    "\n",
    "    def bubble_up(self,index):\n",
    "        parent_index = self.find_parent_index(index)\n",
    "        \n",
    "        while index>0 and self.items[index] > self.items[parent_index]:\n",
    "            self.items[index],self.items[parent_index] = self.items[parent_index],self.items[index]\n",
    "            self.bubble_up(parent_index)\n",
    "\n",
    "    def insert_value(self,value):\n",
    "        if self.length == len(self.items):\n",
    "            self.items.append(value)\n",
    "        else:\n",
    "            self.items[self.length -1]\n",
    "        self.length +=1\n",
    "        #print(\"Before Bubble Up\")\n",
    "        #show_heap(self.items)\n",
    "        self.bubble_up(self.length-1)\n",
    "        #print(\"After Bubble Up\")\n",
    "        #show_heap(self.items)\n",
    "\n",
    "    def extract_max(self,):\n",
    "        self.items[0],self.items[self.length -1] = self.items[self.length-1],self.items[0]\n",
    "        max_value = self.items[self.length-1]\n",
    "        self.length -=1\n",
    "        self.heapify(0)\n",
    "        return max_value\n",
    "\n",
    "            "
   ]
  },
  {
   "cell_type": "code",
   "execution_count": 9,
   "metadata": {},
   "outputs": [
    {
     "data": {
      "text/plain": [
       "[105, 645, 541, 437, 497, 691, 500, 541, 739, 406]"
      ]
     },
     "execution_count": 9,
     "metadata": {},
     "output_type": "execute_result"
    }
   ],
   "source": [
    "def create_list_custom(length, max_value, item=None, item_index=None):\n",
    "    random_list = [random.randint(0,max_value) for i in range(length)]\n",
    "    if item!= None:\n",
    "        random_list.insert(item_index,item)\n",
    "    return random_list\n",
    "\n",
    "data = create_list_custom(10,1000)\n",
    "data"
   ]
  },
  {
   "cell_type": "code",
   "execution_count": 10,
   "metadata": {},
   "outputs": [
    {
     "name": "stdout",
     "output_type": "stream",
     "text": [
      "Before heapify:\n",
      "              \u001b[46m\u001b[30m 105 \u001b[0m\n",
      "         ┌──────┴──────┐\n",
      "       \u001b[46m\u001b[30m 645 \u001b[0m         \u001b[46m\u001b[30m 541 \u001b[0m   \n",
      "     ┌───┴────┐     ┌──┴──┐  \n",
      "   \u001b[46m\u001b[30m 437 \u001b[0m    \u001b[46m\u001b[30m 497 \u001b[0m \u001b[46m\u001b[30m 691 \u001b[0m \u001b[46m\u001b[30m 500 \u001b[0m\n",
      "  ┌──┴──┐     |              \n",
      "\u001b[46m\u001b[30m 541 \u001b[0m \u001b[46m\u001b[30m 739 \u001b[0m \u001b[46m\u001b[30m 406 \u001b[0m\n",
      "\n",
      "\n",
      "After heapify:\n",
      "              \u001b[46m\u001b[30m 739 \u001b[0m\n",
      "         ┌──────┴──────┐\n",
      "       \u001b[46m\u001b[30m 645 \u001b[0m         \u001b[46m\u001b[30m 691 \u001b[0m   \n",
      "     ┌───┴────┐     ┌──┴──┐  \n",
      "   \u001b[46m\u001b[30m 541 \u001b[0m    \u001b[46m\u001b[30m 497 \u001b[0m \u001b[46m\u001b[30m 541 \u001b[0m \u001b[46m\u001b[30m 500 \u001b[0m\n",
      "  ┌──┴──┐     |              \n",
      "\u001b[46m\u001b[30m 105 \u001b[0m \u001b[46m\u001b[30m 437 \u001b[0m \u001b[46m\u001b[30m 406 \u001b[0m\n"
     ]
    }
   ],
   "source": [
    "heap = Heap(data)"
   ]
  },
  {
   "cell_type": "code",
   "execution_count": 11,
   "metadata": {},
   "outputs": [],
   "source": [
    "heap.insert_value(1000)"
   ]
  },
  {
   "cell_type": "code",
   "execution_count": 12,
   "metadata": {},
   "outputs": [
    {
     "name": "stdout",
     "output_type": "stream",
     "text": [
      "                  \u001b[46m\u001b[30m 1000 \u001b[0m\n",
      "           ┌────────┴────────┐\n",
      "         \u001b[46m\u001b[30m 739 \u001b[0m             \u001b[46m\u001b[30m 691 \u001b[0m   \n",
      "     ┌─────┴─────┐        ┌──┴──┐  \n",
      "   \u001b[46m\u001b[30m 541 \u001b[0m       \u001b[46m\u001b[30m 645 \u001b[0m    \u001b[46m\u001b[30m 541 \u001b[0m \u001b[46m\u001b[30m 500 \u001b[0m\n",
      "  ┌──┴──┐     ┌──┴──┐              \n",
      "\u001b[46m\u001b[30m 105 \u001b[0m \u001b[46m\u001b[30m 437 \u001b[0m \u001b[46m\u001b[30m 406 \u001b[0m \u001b[46m\u001b[30m 497 \u001b[0m\n"
     ]
    }
   ],
   "source": [
    "show_heap(heap.items)"
   ]
  },
  {
   "cell_type": "code",
   "execution_count": null,
   "metadata": {},
   "outputs": [],
   "source": []
  }
 ],
 "metadata": {
  "kernelspec": {
   "display_name": "base",
   "language": "python",
   "name": "python3"
  },
  "language_info": {
   "codemirror_mode": {
    "name": "ipython",
    "version": 3
   },
   "file_extension": ".py",
   "mimetype": "text/x-python",
   "name": "python",
   "nbconvert_exporter": "python",
   "pygments_lexer": "ipython3",
   "version": "3.11.1"
  }
 },
 "nbformat": 4,
 "nbformat_minor": 2
}
