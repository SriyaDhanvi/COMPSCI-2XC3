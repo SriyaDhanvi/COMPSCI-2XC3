{
 "cells": [
  {
   "cell_type": "code",
   "execution_count": 1,
   "metadata": {},
   "outputs": [
    {
     "name": "stdout",
     "output_type": "stream",
     "text": [
      "Requirement already satisfied: PrettyPrint in c:\\users\\sriya dhanvi\\appdata\\local\\programs\\python\\python311\\lib\\site-packages (0.1.5)\n",
      "Note: you may need to restart the kernel to use updated packages.\n"
     ]
    }
   ],
   "source": [
    "pip install PrettyPrint"
   ]
  },
  {
   "cell_type": "code",
   "execution_count": 2,
   "metadata": {},
   "outputs": [
    {
     "ename": "ModuleNotFoundError",
     "evalue": "No module named 'PrettyPrint'",
     "output_type": "error",
     "traceback": [
      "\u001b[1;31m---------------------------------------------------------------------------\u001b[0m",
      "\u001b[1;31mModuleNotFoundError\u001b[0m                       Traceback (most recent call last)",
      "Cell \u001b[1;32mIn[2], line 4\u001b[0m\n\u001b[0;32m      2\u001b[0m \u001b[38;5;28;01mimport\u001b[39;00m \u001b[38;5;21;01mmath\u001b[39;00m\n\u001b[0;32m      3\u001b[0m \u001b[38;5;28;01mimport\u001b[39;00m \u001b[38;5;21;01mrandom\u001b[39;00m\n\u001b[1;32m----> 4\u001b[0m \u001b[38;5;28;01mfrom\u001b[39;00m \u001b[38;5;21;01mPrettyPrint\u001b[39;00m \u001b[38;5;28;01mimport\u001b[39;00m PrettyPrintTree\n\u001b[0;32m      5\u001b[0m \u001b[38;5;28;01mfrom\u001b[39;00m \u001b[38;5;21;01mcolorama\u001b[39;00m \u001b[38;5;28;01mimport\u001b[39;00m Back,Style,Fore\n",
      "\u001b[1;31mModuleNotFoundError\u001b[0m: No module named 'PrettyPrint'"
     ]
    }
   ],
   "source": [
    "import os\n",
    "import math\n",
    "import random\n",
    "from PrettyPrint import PrettyPrintTree\n",
    "from colorama import Back,Style,Fore\n"
   ]
  },
  {
   "cell_type": "markdown",
   "metadata": {},
   "source": [
    "### Display Heap as Binary Tree"
   ]
  },
  {
   "cell_type": "code",
   "execution_count": null,
   "metadata": {},
   "outputs": [],
   "source": [
    "class Tree:\n",
    "    def __init__(self, value):\n",
    "        self.val = value\n",
    "        self.children = []\n",
    "\n",
    "    def add_child(self, child):\n",
    "        self.children.append(child)\n",
    "        return child\n",
    "    \n",
    "    def get_children(self,):\n",
    "        return len(self.children)"
   ]
  },
  {
   "cell_type": "code",
   "execution_count": null,
   "metadata": {},
   "outputs": [],
   "source": [
    "def show_heap(items):\n",
    "    pt = PrettyPrintTree(lambda x: x.children, lambda x: x.val,color=Back.CYAN+Fore.BLACK)\n",
    "    tree = Tree(items[0])\n",
    "    \n",
    "    child_nodes = [tree.add_child(Tree(items[1])),tree.add_child(Tree(items[2]))]\n",
    "    i=3\n",
    "    while i<len(items):\n",
    "        new_child_nodes=[]\n",
    "        for child_node in child_nodes:\n",
    "            if i<len(items):\n",
    "                new_child_nodes.append(child_node.add_child(Tree(items[i])))\n",
    "            if i+1<len(items):\n",
    "                new_child_nodes.append(child_node.add_child(Tree(items[i+1])))\n",
    "            i+=2\n",
    "        child_nodes = [node for node in new_child_nodes]\n",
    "    pt(tree)"
   ]
  },
  {
   "cell_type": "code",
   "execution_count": null,
   "metadata": {},
   "outputs": [
    {
     "ename": "NameError",
     "evalue": "name 'PrettyPrintTree' is not defined",
     "output_type": "error",
     "traceback": [
      "\u001b[1;31m---------------------------------------------------------------------------\u001b[0m",
      "\u001b[1;31mNameError\u001b[0m                                 Traceback (most recent call last)",
      "Cell \u001b[1;32mIn[6], line 2\u001b[0m\n\u001b[0;32m      1\u001b[0m data\u001b[38;5;241m=\u001b[39m[\u001b[38;5;241m1\u001b[39m,\u001b[38;5;241m9\u001b[39m,\u001b[38;5;241m3\u001b[39m,\u001b[38;5;241m6\u001b[39m,\u001b[38;5;241m5\u001b[39m,\u001b[38;5;241m6\u001b[39m,\u001b[38;5;241m7\u001b[39m,\u001b[38;5;241m8\u001b[39m,\u001b[38;5;241m9\u001b[39m,\u001b[38;5;241m10\u001b[39m,\u001b[38;5;241m11\u001b[39m]\n\u001b[1;32m----> 2\u001b[0m \u001b[43mshow_heap\u001b[49m\u001b[43m(\u001b[49m\u001b[43mdata\u001b[49m\u001b[43m)\u001b[49m\n",
      "Cell \u001b[1;32mIn[5], line 2\u001b[0m, in \u001b[0;36mshow_heap\u001b[1;34m(items)\u001b[0m\n\u001b[0;32m      1\u001b[0m \u001b[38;5;28;01mdef\u001b[39;00m \u001b[38;5;21mshow_heap\u001b[39m(items):\n\u001b[1;32m----> 2\u001b[0m     pt \u001b[38;5;241m=\u001b[39m \u001b[43mPrettyPrintTree\u001b[49m(\u001b[38;5;28;01mlambda\u001b[39;00m x: x\u001b[38;5;241m.\u001b[39mchildren, \u001b[38;5;28;01mlambda\u001b[39;00m x: x\u001b[38;5;241m.\u001b[39mval,color\u001b[38;5;241m=\u001b[39mBack\u001b[38;5;241m.\u001b[39mCYAN\u001b[38;5;241m+\u001b[39mFore\u001b[38;5;241m.\u001b[39mBLACK)\n\u001b[0;32m      3\u001b[0m     tree \u001b[38;5;241m=\u001b[39m Tree(items[\u001b[38;5;241m0\u001b[39m])\n\u001b[0;32m      5\u001b[0m     child_nodes \u001b[38;5;241m=\u001b[39m [tree\u001b[38;5;241m.\u001b[39madd_child(Tree(items[\u001b[38;5;241m1\u001b[39m])),tree\u001b[38;5;241m.\u001b[39madd_child(Tree(items[\u001b[38;5;241m2\u001b[39m]))]\n",
      "\u001b[1;31mNameError\u001b[0m: name 'PrettyPrintTree' is not defined"
     ]
    }
   ],
   "source": [
    "data=[1,9,3,6,5,6,7,8,9,10,11]\n",
    "show_heap(data)"
   ]
  },
  {
   "cell_type": "markdown",
   "metadata": {},
   "source": [
    "### Create random list"
   ]
  },
  {
   "cell_type": "code",
   "execution_count": null,
   "metadata": {},
   "outputs": [],
   "source": [
    "class Heap:\n",
    "\n",
    "    def __init__(self, data):\n",
    "        self.items = data\n",
    "        self.length = len(data)\n",
    "        self.build_heap()\n",
    "    \n",
    "    def find_left_index(self,index):\n",
    "        return 2 * (index + 1) - 1\n",
    "\n",
    "    def find_right_index(self,index):\n",
    "        return 2 * (index + 1)\n",
    "\n",
    "    def find_parent_index(self,index):\n",
    "        return (index + 1) // 2 - 1  \n",
    "\n",
    "    def heapify(self,index):\n",
    "        largest_known_index = index\n",
    "        left_index = self.find_left_index(index)\n",
    "        right_index = self.find_right_index(index)\n",
    "\n",
    "        if left_index < self.length and self.items[left_index] > self.items[index]:\n",
    "            largest_known_index = left_index\n",
    "        if right_index < self.length and self.items[right_index] > self.items[largest_known_index]:\n",
    "            largest_known_index = right_index\n",
    "        if largest_known_index != index:\n",
    "            self.items[index], self.items[largest_known_index] = self.items[largest_known_index], self.items[index]\n",
    "            self.heapify(largest_known_index)\n",
    "\n",
    "    def build_heap(self,):\n",
    "        print (\"Before heapify:\")\n",
    "        show_heap(self.items)\n",
    "\n",
    "        for i in range(self.length // 2 - 1, -1, -1):\n",
    "            self.heapify(i)\n",
    "\n",
    "        print(\"\\n\")\n",
    "        print (\"After heapify:\")\n",
    "        show_heap(self.items)     \n",
    "\n",
    "    def bubble_up(self,index):\n",
    "        parent_index = self.find_parent_index(index)\n",
    "        \n",
    "        while index>0 and self.items[index] > self.items[parent_index]:\n",
    "            self.items[index],self.items[parent_index] = self.items[parent_index],self.items[index]\n",
    "            self.bubble_up(parent_index)\n",
    "\n",
    "    def insert_value(self,value):\n",
    "        if self.length == len(self.items):\n",
    "            self.items.append(value)\n",
    "        else:\n",
    "            self.items[self.length -1]\n",
    "        self.length +=1\n",
    "        #print(\"Before Bubble Up\")\n",
    "        #show_heap(self.items)\n",
    "        self.bubble_up(self.length-1)\n",
    "        #print(\"After Bubble Up\")\n",
    "        #show_heap(self.items)\n",
    "\n",
    "    def extract_max(self,):\n",
    "        self.items[0],self.items[self.length -1] = self.items[self.length-1],self.items[0]\n",
    "        max_value = self.items[self.length-1]\n",
    "        self.length -=1\n",
    "        self.heapify(0)\n",
    "        return max_value\n",
    "\n",
    "            "
   ]
  },
  {
   "cell_type": "code",
   "execution_count": null,
   "metadata": {},
   "outputs": [
    {
     "data": {
      "text/plain": [
       "[615, 522, 306, 712, 718, 623, 275, 669, 904, 549]"
      ]
     },
     "execution_count": 8,
     "metadata": {},
     "output_type": "execute_result"
    }
   ],
   "source": [
    "def create_list_custom(length, max_value, item=None, item_index=None):\n",
    "    random_list = [random.randint(0,max_value) for i in range(length)]\n",
    "    if item!= None:\n",
    "        random_list.insert(item_index,item)\n",
    "    return random_list\n",
    "\n",
    "data = create_list_custom(10,1000)\n",
    "data"
   ]
  },
  {
   "cell_type": "code",
   "execution_count": null,
   "metadata": {},
   "outputs": [
    {
     "name": "stdout",
     "output_type": "stream",
     "text": [
      "Before heapify:\n"
     ]
    },
    {
     "ename": "NameError",
     "evalue": "name 'PrettyPrintTree' is not defined",
     "output_type": "error",
     "traceback": [
      "\u001b[1;31m---------------------------------------------------------------------------\u001b[0m",
      "\u001b[1;31mNameError\u001b[0m                                 Traceback (most recent call last)",
      "Cell \u001b[1;32mIn[9], line 1\u001b[0m\n\u001b[1;32m----> 1\u001b[0m heap \u001b[38;5;241m=\u001b[39m \u001b[43mHeap\u001b[49m\u001b[43m(\u001b[49m\u001b[43mdata\u001b[49m\u001b[43m)\u001b[49m\n",
      "Cell \u001b[1;32mIn[7], line 6\u001b[0m, in \u001b[0;36mHeap.__init__\u001b[1;34m(self, data)\u001b[0m\n\u001b[0;32m      4\u001b[0m \u001b[38;5;28mself\u001b[39m\u001b[38;5;241m.\u001b[39mitems \u001b[38;5;241m=\u001b[39m data\n\u001b[0;32m      5\u001b[0m \u001b[38;5;28mself\u001b[39m\u001b[38;5;241m.\u001b[39mlength \u001b[38;5;241m=\u001b[39m \u001b[38;5;28mlen\u001b[39m(data)\n\u001b[1;32m----> 6\u001b[0m \u001b[38;5;28;43mself\u001b[39;49m\u001b[38;5;241;43m.\u001b[39;49m\u001b[43mbuild_heap\u001b[49m\u001b[43m(\u001b[49m\u001b[43m)\u001b[49m\n",
      "Cell \u001b[1;32mIn[7], line 32\u001b[0m, in \u001b[0;36mHeap.build_heap\u001b[1;34m(self)\u001b[0m\n\u001b[0;32m     30\u001b[0m \u001b[38;5;28;01mdef\u001b[39;00m \u001b[38;5;21mbuild_heap\u001b[39m(\u001b[38;5;28mself\u001b[39m,):\n\u001b[0;32m     31\u001b[0m     \u001b[38;5;28mprint\u001b[39m (\u001b[38;5;124m\"\u001b[39m\u001b[38;5;124mBefore heapify:\u001b[39m\u001b[38;5;124m\"\u001b[39m)\n\u001b[1;32m---> 32\u001b[0m     \u001b[43mshow_heap\u001b[49m\u001b[43m(\u001b[49m\u001b[38;5;28;43mself\u001b[39;49m\u001b[38;5;241;43m.\u001b[39;49m\u001b[43mitems\u001b[49m\u001b[43m)\u001b[49m\n\u001b[0;32m     34\u001b[0m     \u001b[38;5;28;01mfor\u001b[39;00m i \u001b[38;5;129;01min\u001b[39;00m \u001b[38;5;28mrange\u001b[39m(\u001b[38;5;28mself\u001b[39m\u001b[38;5;241m.\u001b[39mlength \u001b[38;5;241m/\u001b[39m\u001b[38;5;241m/\u001b[39m \u001b[38;5;241m2\u001b[39m \u001b[38;5;241m-\u001b[39m \u001b[38;5;241m1\u001b[39m, \u001b[38;5;241m-\u001b[39m\u001b[38;5;241m1\u001b[39m, \u001b[38;5;241m-\u001b[39m\u001b[38;5;241m1\u001b[39m):\n\u001b[0;32m     35\u001b[0m         \u001b[38;5;28mself\u001b[39m\u001b[38;5;241m.\u001b[39mheapify(i)\n",
      "Cell \u001b[1;32mIn[5], line 2\u001b[0m, in \u001b[0;36mshow_heap\u001b[1;34m(items)\u001b[0m\n\u001b[0;32m      1\u001b[0m \u001b[38;5;28;01mdef\u001b[39;00m \u001b[38;5;21mshow_heap\u001b[39m(items):\n\u001b[1;32m----> 2\u001b[0m     pt \u001b[38;5;241m=\u001b[39m \u001b[43mPrettyPrintTree\u001b[49m(\u001b[38;5;28;01mlambda\u001b[39;00m x: x\u001b[38;5;241m.\u001b[39mchildren, \u001b[38;5;28;01mlambda\u001b[39;00m x: x\u001b[38;5;241m.\u001b[39mval,color\u001b[38;5;241m=\u001b[39mBack\u001b[38;5;241m.\u001b[39mCYAN\u001b[38;5;241m+\u001b[39mFore\u001b[38;5;241m.\u001b[39mBLACK)\n\u001b[0;32m      3\u001b[0m     tree \u001b[38;5;241m=\u001b[39m Tree(items[\u001b[38;5;241m0\u001b[39m])\n\u001b[0;32m      5\u001b[0m     child_nodes \u001b[38;5;241m=\u001b[39m [tree\u001b[38;5;241m.\u001b[39madd_child(Tree(items[\u001b[38;5;241m1\u001b[39m])),tree\u001b[38;5;241m.\u001b[39madd_child(Tree(items[\u001b[38;5;241m2\u001b[39m]))]\n",
      "\u001b[1;31mNameError\u001b[0m: name 'PrettyPrintTree' is not defined"
     ]
    }
   ],
   "source": [
    "heap = Heap(data)"
   ]
  },
  {
   "cell_type": "code",
   "execution_count": null,
   "metadata": {},
   "outputs": [],
   "source": [
    "heap.insert_value(1000)"
   ]
  },
  {
   "cell_type": "code",
   "execution_count": null,
   "metadata": {},
   "outputs": [],
   "source": [
    "show_heap(heap.items)"
   ]
  },
  {
   "cell_type": "code",
   "execution_count": null,
   "metadata": {},
   "outputs": [],
   "source": []
  }
 ],
 "metadata": {
  "kernelspec": {
   "display_name": "base",
   "language": "python",
   "name": "python3"
  },
  "language_info": {
   "codemirror_mode": {
    "name": "ipython",
    "version": 3
   },
   "file_extension": ".py",
   "mimetype": "text/x-python",
   "name": "python",
   "nbconvert_exporter": "python",
   "pygments_lexer": "ipython3",
   "version": "3.11.1"
  }
 },
 "nbformat": 4,
 "nbformat_minor": 2
}
