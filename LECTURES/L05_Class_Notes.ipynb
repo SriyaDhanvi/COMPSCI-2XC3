{
 "cells": [
  {
   "cell_type": "code",
   "execution_count": 13,
   "metadata": {},
   "outputs": [],
   "source": [
    "import os\n",
    "import math\n",
    "import random\n",
    "from PrettyPrint import PrettyPrintTree\n",
    "from colorama import Back,Style,Fore\n"
   ]
  },
  {
   "cell_type": "markdown",
   "metadata": {},
   "source": [
    "### Display Heap as Binary Tree"
   ]
  },
  {
   "cell_type": "code",
   "execution_count": 14,
   "metadata": {},
   "outputs": [],
   "source": [
    "class Tree:\n",
    "    def __init__(self, value):\n",
    "        self.val = value\n",
    "        self.children = []\n",
    "\n",
    "    def add_child(self, child):\n",
    "        self.children.append(child)\n",
    "        return child\n",
    "    \n",
    "    def get_children(self,):\n",
    "        return len(self.children)"
   ]
  },
  {
   "cell_type": "code",
   "execution_count": 15,
   "metadata": {},
   "outputs": [],
   "source": [
    "def show_heap(items):\n",
    "    pt = PrettyPrintTree(lambda x: x.children, lambda x: x.val,color=Back.CYAN+Fore.BLACK)\n",
    "    tree = Tree(items[0])\n",
    "    \n",
    "    child_nodes = [tree.add_child(Tree(items[1])),tree.add_child(Tree(items[2]))]\n",
    "    i=3\n",
    "    while i<len(items):\n",
    "        new_child_nodes=[]\n",
    "        for child_node in child_nodes:\n",
    "            if i<len(items):\n",
    "                new_child_nodes.append(child_node.add_child(Tree(items[i])))\n",
    "            if i+1<len(items):\n",
    "                new_child_nodes.append(child_node.add_child(Tree(items[i+1])))\n",
    "            i+=2\n",
    "        child_nodes = [node for node in new_child_nodes]\n",
    "    pt(tree)"
   ]
  },
  {
   "cell_type": "code",
   "execution_count": 16,
   "metadata": {},
   "outputs": [
    {
     "name": "stdout",
     "output_type": "stream",
     "text": [
      "               \u001b[46m\u001b[30m 1 \u001b[0m\n",
      "       ┌────────┴────────┐\n",
      "      \u001b[46m\u001b[30m 9 \u001b[0m               \u001b[46m\u001b[30m 3 \u001b[0m    \n",
      "   ┌───┴───┐         ┌───┴───┐ \n",
      "  \u001b[46m\u001b[30m 6 \u001b[0m     \u001b[46m\u001b[30m 5 \u001b[0m       \u001b[46m\u001b[30m 6 \u001b[0m     \u001b[46m\u001b[30m 7 \u001b[0m\n",
      " ┌─┴─┐   ┌─┴──┐    ┌─┴──┐      \n",
      "\u001b[46m\u001b[30m 8 \u001b[0m \u001b[46m\u001b[30m 9 \u001b[0m \u001b[46m\u001b[30m 10 \u001b[0m \u001b[46m\u001b[30m 11 \u001b[0m \u001b[46m\u001b[30m 12 \u001b[0m \u001b[46m\u001b[30m 13 \u001b[0m\n"
     ]
    }
   ],
   "source": [
    "data=[1,9,3,6,5,6,7,8,9,10,11,12,13]\n",
    "show_heap(data)"
   ]
  },
  {
   "cell_type": "markdown",
   "metadata": {},
   "source": [
    "### Create random list"
   ]
  },
  {
   "cell_type": "code",
   "execution_count": 17,
   "metadata": {},
   "outputs": [],
   "source": [
    "class Heap:\n",
    "\n",
    "    def __init__(self, data):\n",
    "        self.items = data\n",
    "        self.length = len(data)\n",
    "        self.build_heap()\n",
    "    \n",
    "    def find_left_index(self,index):\n",
    "        return 2 * (index + 1) - 1\n",
    "\n",
    "    def find_right_index(self,index):\n",
    "        return 2 * (index + 1)\n",
    "    \n",
    "    def heapify(self,index):\n",
    "        largest_known_index = index\n",
    "        left_index = self.find_left_index(index)\n",
    "        right_index = self.find_right_index(index)\n",
    "\n",
    "        # condition:  item at left index is greater than item at current index, \n",
    "        # and left index is less than length\n",
    "        if left_index < self.length and self.items[left_index] > self.items[index]:\n",
    "            largest_known_index = left_index\n",
    "        #condition: item at right index is greater than item at largest_known index,\n",
    "        # and righ index is less than length\n",
    "        if right_index < self.length and self.items[right_index] > self.items[largest_known_index]:\n",
    "            largest_known_index = right_index\n",
    "            \n",
    "        if largest_known_index!=index:\n",
    "            self.items[index],self.items[largest_known_index]=self.items[largest_known_index],self.items[index]\n",
    "            self.heapify(largest_known_index)\n",
    "\n",
    "\n",
    "    # running heapify - top down   \n",
    "    def build_heap(self,):\n",
    "        for i in range(self.length // 2 - 1, -1, -1):\n",
    "            self.heapify(i)\n",
    "\n",
    "    # to print if pretty print does not work\n",
    "    def __str__(self):\n",
    "        height = math.ceil(math.log(self.length + 1, 2))\n",
    "        whitespace = 2 ** height\n",
    "        to_print = \"\"\n",
    "        for i in range(height):\n",
    "            for j in range(2 ** i - 1, min(2 ** (i + 1) - 1, self.length)):\n",
    "                to_print += \" \" * whitespace\n",
    "                to_print += str(self.items[j]) + \" \"\n",
    "            to_print += \"\\n\"\n",
    "            whitespace = whitespace // 2\n",
    "        print(to_print)"
   ]
  },
  {
   "cell_type": "code",
   "execution_count": 18,
   "metadata": {},
   "outputs": [
    {
     "data": {
      "text/plain": [
       "[449, 895, 553, 493, 595, 853, 803, 559, 826, 884]"
      ]
     },
     "execution_count": 18,
     "metadata": {},
     "output_type": "execute_result"
    }
   ],
   "source": [
    "def create_list_custom(length, max_value, item=None, item_index=None):\n",
    "    random_list = [random.randint(0,max_value) for i in range(length)]\n",
    "    if item!= None:\n",
    "        random_list.insert(item_index,item)\n",
    "    return random_list\n",
    "\n",
    "data = create_list_custom(10,1000)\n",
    "data"
   ]
  },
  {
   "cell_type": "code",
   "execution_count": 19,
   "metadata": {},
   "outputs": [
    {
     "name": "stdout",
     "output_type": "stream",
     "text": [
      "              \u001b[46m\u001b[30m 895 \u001b[0m\n",
      "         ┌──────┴──────┐\n",
      "       \u001b[46m\u001b[30m 884 \u001b[0m         \u001b[46m\u001b[30m 853 \u001b[0m   \n",
      "     ┌───┴────┐     ┌──┴──┐  \n",
      "   \u001b[46m\u001b[30m 826 \u001b[0m    \u001b[46m\u001b[30m 595 \u001b[0m \u001b[46m\u001b[30m 553 \u001b[0m \u001b[46m\u001b[30m 803 \u001b[0m\n",
      "  ┌──┴──┐     |              \n",
      "\u001b[46m\u001b[30m 559 \u001b[0m \u001b[46m\u001b[30m 493 \u001b[0m \u001b[46m\u001b[30m 449 \u001b[0m\n"
     ]
    }
   ],
   "source": [
    "heap = Heap(data)\n",
    "show_heap(data)"
   ]
  },
  {
   "cell_type": "code",
   "execution_count": 20,
   "metadata": {},
   "outputs": [
    {
     "data": {
      "text/plain": [
       "[594, 484, 615, 328, 861, 770, 564, 649, 145, 166]"
      ]
     },
     "execution_count": 20,
     "metadata": {},
     "output_type": "execute_result"
    }
   ],
   "source": [
    "data = create_list_custom(10,1000)\n",
    "data"
   ]
  },
  {
   "cell_type": "code",
   "execution_count": 21,
   "metadata": {},
   "outputs": [],
   "source": [
    "heap = Heap(data)"
   ]
  },
  {
   "cell_type": "code",
   "execution_count": 22,
   "metadata": {},
   "outputs": [
    {
     "name": "stdout",
     "output_type": "stream",
     "text": [
      "                861 \n",
      "        649         770 \n",
      "    594     484     615     564 \n",
      "  328   145   166 \n",
      "\n"
     ]
    }
   ],
   "source": [
    "heap.__str__()"
   ]
  },
  {
   "cell_type": "markdown",
   "metadata": {},
   "source": [
    "Binary trees are important because graphs or trees can be condensed into a binary tree to simplify the problem."
   ]
  },
  {
   "cell_type": "markdown",
   "metadata": {},
   "source": [
    "**Recursion**"
   ]
  },
  {
   "cell_type": "code",
   "execution_count": 24,
   "metadata": {},
   "outputs": [
    {
     "name": "stdout",
     "output_type": "stream",
     "text": [
      "[0, 1, 2, 3, 4, 5, 6, 7, 8, 9]\n"
     ]
    }
   ],
   "source": [
    "x = [ i for i in range(10)]\n",
    "print(x)"
   ]
  },
  {
   "cell_type": "code",
   "execution_count": 27,
   "metadata": {},
   "outputs": [],
   "source": [
    "def print_value(x):\n",
    "    #base case\n",
    "    if len(x) == 0:\n",
    "        return 0\n",
    "    \n",
    "    #task to do\n",
    "    print(x[0])\n",
    "\n",
    "    #recursive call\n",
    "    print_value(x[1:])"
   ]
  },
  {
   "cell_type": "code",
   "execution_count": 28,
   "metadata": {},
   "outputs": [
    {
     "name": "stdout",
     "output_type": "stream",
     "text": [
      "1\n",
      "2\n",
      "3\n",
      "4\n",
      "5\n"
     ]
    }
   ],
   "source": [
    "print_value([1,2,3,4,5])"
   ]
  },
  {
   "cell_type": "code",
   "execution_count": null,
   "metadata": {},
   "outputs": [],
   "source": [
    "def print_x(value):\n",
    "\n",
    "    # base case\n",
    "    if value > 10:\n",
    "        return\n",
    "    #task to do\n",
    "    print(value)"
   ]
  },
  {
   "cell_type": "code",
   "execution_count": 29,
   "metadata": {},
   "outputs": [],
   "source": [
    "def fib(num):\n",
    "\n",
    "    #base case\n",
    "    if num <= 1:\n",
    "        return num\n",
    "    return fib(num - 1) + fib (num - 2)\n",
    "\n"
   ]
  },
  {
   "cell_type": "code",
   "execution_count": 30,
   "metadata": {},
   "outputs": [
    {
     "data": {
      "text/plain": [
       "[0, 1, 1, 2, 3, 5, 8, 13, 21, 34, 55, 89, 144, 233]"
      ]
     },
     "execution_count": 30,
     "metadata": {},
     "output_type": "execute_result"
    }
   ],
   "source": [
    "[fib(i) for i in range(14)]"
   ]
  },
  {
   "cell_type": "markdown",
   "metadata": {},
   "source": [
    "Create a Binary Tree"
   ]
  },
  {
   "cell_type": "code",
   "execution_count": null,
   "metadata": {},
   "outputs": [],
   "source": [
    "class Tree:\n",
    "    def __init__(self, value):\n",
    "        self.value = value\n",
    "        self.right = None\n",
    "        self.left = None\n",
    "        "
   ]
  },
  {
   "cell_type": "markdown",
   "metadata": {},
   "source": [
    "### Add node via Recursion"
   ]
  },
  {
   "cell_type": "code",
   "execution_count": null,
   "metadata": {},
   "outputs": [],
   "source": [
    "def add_node(node, value):\n",
    "\n",
    "    #base condition - 1\n",
    "    if not node:  #not adding anything\n",
    "        return Tree(value)\n",
    "\n",
    "    #base condition - 2\n",
    "    if value >= node.value:\n",
    "        #task to do\n",
    "        # recursive call\n",
    "        node.right = add_node(node.right, value)\n",
    "    else:\n",
    "        if value < node.value:\n",
    "            node.left = add_node(node.left, value)\n",
    "    return node"
   ]
  }
 ],
 "metadata": {
  "kernelspec": {
   "display_name": "base",
   "language": "python",
   "name": "python3"
  },
  "language_info": {
   "codemirror_mode": {
    "name": "ipython",
    "version": 3
   },
   "file_extension": ".py",
   "mimetype": "text/x-python",
   "name": "python",
   "nbconvert_exporter": "python",
   "pygments_lexer": "ipython3",
   "version": "3.11.1"
  }
 },
 "nbformat": 4,
 "nbformat_minor": 2
}
