{
 "cells": [
  {
   "cell_type": "code",
   "execution_count": null,
   "id": "07a26a82",
   "metadata": {},
   "outputs": [],
   "source": [
    "import random\n",
    "import time\n",
    "import timeit \n",
    "import matplotlib.pyplot as plt\n",
    "import numpy as np\n",
    "import math"
   ]
  },
  {
   "cell_type": "markdown",
   "id": "a0de2054",
   "metadata": {},
   "source": [
    "![image info](lecture_problem_001.png)"
   ]
  },
  {
   "cell_type": "code",
   "execution_count": null,
   "id": "be0af523",
   "metadata": {},
   "outputs": [],
   "source": [
    "bottles_regions = [23, 87, 12, 98, 56]\n",
    "D = 1\n",
    "\n",
    "lowest_speed = 1\n",
    "highest_speed = max(bottles_regions)\n",
    "\n",
    "def is_this_speed_possible(speed):\n",
    "    days = 0\n",
    "    for bottles in bottles_regions:\n",
    "        days += math.ceil(bottles/speed)\n",
    "    return days > D \n",
    "\n",
    "bottles_regions.sort() #sort the list before binary search\n",
    "\n",
    "#need to minimize the number of random picks we make\n",
    "while lowest_speed < highest_speed:\n",
    "    mid = (lowest_speed + highest_speed) // 2\n",
    "\n",
    "    #instead of comparing against mid, we use an auxiliary function to reduce the numbe rof comparions\n",
    "    if is_this_speed_possible(mid):\n",
    "        lowest_speed = mid + 1\n",
    "    else:\n",
    "        highest_speed = mid - 1\n",
    "print(\"Lowest possible speed: \", lowest_speed)\n",
    "\n",
    "\"\"\"\n",
    "sorting was not necessary cuz it works in the same way without as well. But binary search doesn't work without sorted list.why?\n",
    "because we are traversing through the speeds sequentially so we don't need to sort anything.\n",
    "\"\"\"\n"
   ]
  },
  {
   "cell_type": "code",
   "execution_count": null,
   "id": "5325d17e",
   "metadata": {},
   "outputs": [],
   "source": [
    "def create_list_custom(length, max_value, item=None, item_index=None):\n",
    "    random_list = [random.randint(0,max_value) for i in range(length)]\n",
    "    if item!= None:\n",
    "        random_list.insert(item_index,item)\n",
    "    return random_list\n",
    "\n",
    "create_list_custom(10,1000,10,6)"
   ]
  },
  {
   "cell_type": "code",
   "execution_count": null,
   "id": "a42d000d",
   "metadata": {},
   "outputs": [],
   "source": [
    "def draw_show_plot(run_arr):\n",
    "    x = np.arange(0, len(run_arr),1)\n",
    "    fig=plt.figure(figsize=(20,8))\n",
    "    plt.bar(x,run_arr)\n",
    "    plt.axhline(np.mean(run_arr),color=\"red\",linestyle=\"--\",label=\"Avg\")\n",
    "    plt.xlabel(\"Iterations\")\n",
    "    plt.ylabel(\"Run time in ms order of 1e-6\")\n",
    "    plt.title(\"Run time for retrieval\")\n",
    "    plt.show()"
   ]
  },
  {
   "cell_type": "markdown",
   "id": "9c32424c",
   "metadata": {},
   "source": [
    "## Bubble Sort"
   ]
  },
  {
   "cell_type": "code",
   "execution_count": null,
   "id": "b5616ad3",
   "metadata": {},
   "outputs": [],
   "source": [
    "def bubble_sort(data):\n",
    "    for iteration in range(len(data)-1, 0, -1):\n",
    "        for index in range(iteration):\n",
    "            if data[index] > data[index+1]:\n",
    "                data[index],data[index+1]=data[index+1],data[index]"
   ]
  },
  {
   "cell_type": "code",
   "execution_count": null,
   "id": "5339bf9f",
   "metadata": {},
   "outputs": [],
   "source": [
    "def bubble_sort_II(data):\n",
    "    no_more_swap =True\n",
    "    while no_more_swap:\n",
    "        no_more_swap = False\n",
    "        for iteration in range(len(data)-1, 0, -1):\n",
    "            for index in range(iteration):\n",
    "                if data[index] > data[index+1]:\n",
    "                    data[index],data[index+1]=data[index+1],data[index]"
   ]
  },
  {
   "cell_type": "code",
   "execution_count": null,
   "id": "74e8fcd8",
   "metadata": {},
   "outputs": [],
   "source": [
    "runs = 100\n",
    "run_times = []\n",
    "my_list=create_list_custom(10,100)\n",
    "print(my_list)\n",
    "for _ in range(runs):\n",
    "    start = timeit.default_timer()\n",
    "    found = bubble_sort(my_list)\n",
    "    stop = timeit.default_timer()\n",
    "    run_times.append(stop-start)\n",
    "\n",
    "draw_show_plot(run_times)"
   ]
  },
  {
   "cell_type": "code",
   "execution_count": null,
   "id": "f45ad95b",
   "metadata": {},
   "outputs": [],
   "source": [
    "runs = 100\n",
    "run_times = []\n",
    "my_list=create_list_custom(10,100)\n",
    "print(my_list)\n",
    "for _ in range(runs):\n",
    "    start = timeit.default_timer()\n",
    "    found = bubble_sort_II(my_list)\n",
    "    stop = timeit.default_timer()\n",
    "    run_times.append(stop-start)\n",
    "\n",
    "draw_show_plot(run_times)"
   ]
  },
  {
   "cell_type": "markdown",
   "id": "a338c9ad",
   "metadata": {},
   "source": [
    "## Insertion Sort"
   ]
  },
  {
   "cell_type": "code",
   "execution_count": null,
   "id": "a32acaa6",
   "metadata": {},
   "outputs": [],
   "source": [
    "items=create_list_custom(10,100)\n",
    "items"
   ]
  },
  {
   "cell_type": "code",
   "execution_count": null,
   "id": "f7f05c03",
   "metadata": {},
   "outputs": [],
   "source": [
    "def insertion_sort_I(data):\n",
    "    for index in range(1, len(data)):\n",
    "        while index > 0 and data[index] < data[index-1]:\n",
    "            data[index],data[index-1]=data[index-1],data[index]\n",
    "            index -= 1"
   ]
  },
  {
   "cell_type": "markdown",
   "id": "e041c1c4",
   "metadata": {},
   "source": [
    "### Experiments"
   ]
  },
  {
   "cell_type": "code",
   "execution_count": null,
   "id": "8bb7ccdb",
   "metadata": {},
   "outputs": [],
   "source": [
    "runs = 100\n",
    "run_times = []\n",
    "my_list=create_list_custom(10,100)\n",
    "print(my_list)\n",
    "for _ in range(runs):\n",
    "    start = timeit.default_timer()\n",
    "    found = insertion_sort_I(my_list)\n",
    "    stop = timeit.default_timer()\n",
    "    run_times.append(stop-start)\n",
    "\n",
    "draw_show_plot(run_times)"
   ]
  }
 ],
 "metadata": {
  "kernelspec": {
   "display_name": "base",
   "language": "python",
   "name": "python3"
  },
  "language_info": {
   "codemirror_mode": {
    "name": "ipython",
    "version": 3
   },
   "file_extension": ".py",
   "mimetype": "text/x-python",
   "name": "python",
   "nbconvert_exporter": "python",
   "pygments_lexer": "ipython3",
   "version": "3.11.1"
  }
 },
 "nbformat": 4,
 "nbformat_minor": 5
}
