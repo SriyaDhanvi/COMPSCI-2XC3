{
 "cells": [
  {
   "cell_type": "code",
   "execution_count": 1,
   "metadata": {},
   "outputs": [],
   "source": [
    "import os\n",
    "import math\n",
    "import random\n",
    "from PrettyPrint import PrettyPrintTree\n",
    "from colorama import Back,Style,Fore\n"
   ]
  },
  {
   "cell_type": "markdown",
   "metadata": {},
   "source": [
    "### Display Heap as Binary Tree"
   ]
  },
  {
   "cell_type": "code",
   "execution_count": 2,
   "metadata": {},
   "outputs": [],
   "source": [
    "class Tree:\n",
    "    def __init__(self, value):\n",
    "        self.val = value\n",
    "        self.children = []\n",
    "\n",
    "    def add_child(self, child):\n",
    "        self.children.append(child)\n",
    "        return child\n",
    "    \n",
    "    def get_children(self,):\n",
    "        return len(self.children)"
   ]
  },
  {
   "cell_type": "code",
   "execution_count": 3,
   "metadata": {},
   "outputs": [],
   "source": [
    "def show_heap(items):\n",
    "    pt = PrettyPrintTree(lambda x: x.children, lambda x: x.val,color=Back.CYAN+Fore.BLACK)\n",
    "    tree = Tree(items[0])\n",
    "    \n",
    "    child_nodes = [tree.add_child(Tree(items[1])),tree.add_child(Tree(items[2]))]\n",
    "    i=3\n",
    "    while i<len(items):\n",
    "        new_child_nodes=[]\n",
    "        for child_node in child_nodes:\n",
    "            if i<len(items):\n",
    "                new_child_nodes.append(child_node.add_child(Tree(items[i])))\n",
    "            if i+1<len(items):\n",
    "                new_child_nodes.append(child_node.add_child(Tree(items[i+1])))\n",
    "            i+=2\n",
    "        child_nodes = [node for node in new_child_nodes]\n",
    "    pt(tree)"
   ]
  },
  {
   "cell_type": "code",
   "execution_count": 4,
   "metadata": {},
   "outputs": [
    {
     "name": "stdout",
     "output_type": "stream",
     "text": [
      "               \u001b[46m\u001b[30m 1 \u001b[0m\n",
      "       ┌────────┴────────┐\n",
      "      \u001b[46m\u001b[30m 9 \u001b[0m               \u001b[46m\u001b[30m 3 \u001b[0m    \n",
      "   ┌───┴───┐         ┌───┴───┐ \n",
      "  \u001b[46m\u001b[30m 6 \u001b[0m     \u001b[46m\u001b[30m 5 \u001b[0m       \u001b[46m\u001b[30m 6 \u001b[0m     \u001b[46m\u001b[30m 7 \u001b[0m\n",
      " ┌─┴─┐   ┌─┴──┐    ┌─┴──┐      \n",
      "\u001b[46m\u001b[30m 8 \u001b[0m \u001b[46m\u001b[30m 9 \u001b[0m \u001b[46m\u001b[30m 10 \u001b[0m \u001b[46m\u001b[30m 11 \u001b[0m \u001b[46m\u001b[30m 12 \u001b[0m \u001b[46m\u001b[30m 13 \u001b[0m\n"
     ]
    }
   ],
   "source": [
    "data=[1,9,3,6,5,6,7,8,9,10,11,12,13]\n",
    "show_heap(data)"
   ]
  },
  {
   "cell_type": "markdown",
   "metadata": {},
   "source": [
    "### Create random list"
   ]
  },
  {
   "cell_type": "code",
   "execution_count": 5,
   "metadata": {},
   "outputs": [],
   "source": [
    "class Heap:\n",
    "\n",
    "    def __init__(self, data):\n",
    "        self.items = data\n",
    "        self.length = len(data)\n",
    "        self.build_heap()\n",
    "    \n",
    "    def find_left_index(self,index):\n",
    "        return 2 * (index + 1) - 1\n",
    "\n",
    "    def find_right_index(self,index):\n",
    "        return 2 * (index + 1)\n",
    "    \n",
    "    def heapify(self,index):\n",
    "        largest_known_index = index\n",
    "        left_index = self.find_left_index(index)\n",
    "        right_index = self.find_right_index(index)\n",
    "\n",
    "        # condition:  item at left index is greater than item at current index, \n",
    "        # and left index is less than length\n",
    "        if left_index < self.length and self.items[left_index] > self.items[index]:\n",
    "            largest_known_index = left_index\n",
    "        #condition: item at right index is greater than item at largest_known index,\n",
    "        # and righ index is less than length\n",
    "        if right_index < self.length and self.items[right_index] > self.items[largest_known_index]:\n",
    "            largest_known_index = right_index\n",
    "            \n",
    "        if largest_known_index!=index:\n",
    "            self.items[index],self.items[largest_known_index]=self.items[largest_known_index],self.items[index]\n",
    "            self.heapify(largest_known_index)\n",
    "\n",
    "\n",
    "    # running heapify - top down   \n",
    "    def build_heap(self,):\n",
    "        for i in range(self.length // 2 - 1, -1, -1):\n",
    "            self.heapify(i)\n",
    "\n",
    "    # to print if pretty print does not work\n",
    "    def __str__(self):\n",
    "        height = math.ceil(math.log(self.length + 1, 2))\n",
    "        whitespace = 2 ** height\n",
    "        to_print = \"\"\n",
    "        for i in range(height):\n",
    "            for j in range(2 ** i - 1, min(2 ** (i + 1) - 1, self.length)):\n",
    "                to_print += \" \" * whitespace\n",
    "                to_print += str(self.items[j]) + \" \"\n",
    "            to_print += \"\\n\"\n",
    "            whitespace = whitespace // 2\n",
    "        print(to_print)"
   ]
  },
  {
   "cell_type": "code",
   "execution_count": 6,
   "metadata": {},
   "outputs": [
    {
     "data": {
      "text/plain": [
       "[238, 658, 267, 128, 931, 494, 172, 238, 956, 217]"
      ]
     },
     "execution_count": 6,
     "metadata": {},
     "output_type": "execute_result"
    }
   ],
   "source": [
    "def create_list_custom(length, max_value, item=None, item_index=None):\n",
    "    random_list = [random.randint(0,max_value) for i in range(length)]\n",
    "    if item!= None:\n",
    "        random_list.insert(item_index,item)\n",
    "    return random_list\n",
    "\n",
    "data = create_list_custom(10,1000)\n",
    "data"
   ]
  },
  {
   "cell_type": "code",
   "execution_count": 7,
   "metadata": {},
   "outputs": [
    {
     "name": "stdout",
     "output_type": "stream",
     "text": [
      "              \u001b[46m\u001b[30m 956 \u001b[0m\n",
      "         ┌──────┴──────┐\n",
      "       \u001b[46m\u001b[30m 931 \u001b[0m         \u001b[46m\u001b[30m 494 \u001b[0m   \n",
      "     ┌───┴────┐     ┌──┴──┐  \n",
      "   \u001b[46m\u001b[30m 658 \u001b[0m    \u001b[46m\u001b[30m 238 \u001b[0m \u001b[46m\u001b[30m 267 \u001b[0m \u001b[46m\u001b[30m 172 \u001b[0m\n",
      "  ┌──┴──┐     |              \n",
      "\u001b[46m\u001b[30m 238 \u001b[0m \u001b[46m\u001b[30m 128 \u001b[0m \u001b[46m\u001b[30m 217 \u001b[0m\n"
     ]
    }
   ],
   "source": [
    "heap = Heap(data)\n",
    "show_heap(data)"
   ]
  },
  {
   "cell_type": "code",
   "execution_count": 8,
   "metadata": {},
   "outputs": [
    {
     "data": {
      "text/plain": [
       "[121, 73, 142, 628, 215, 978, 885, 692, 528, 874]"
      ]
     },
     "execution_count": 8,
     "metadata": {},
     "output_type": "execute_result"
    }
   ],
   "source": [
    "data = create_list_custom(10,1000)\n",
    "data"
   ]
  },
  {
   "cell_type": "code",
   "execution_count": 9,
   "metadata": {},
   "outputs": [],
   "source": [
    "heap = Heap(data)"
   ]
  },
  {
   "cell_type": "code",
   "execution_count": 10,
   "metadata": {},
   "outputs": [
    {
     "name": "stdout",
     "output_type": "stream",
     "text": [
      "                978 \n",
      "        874         885 \n",
      "    692     215     142     121 \n",
      "  628   528   73 \n",
      "\n"
     ]
    }
   ],
   "source": [
    "heap.__str__()"
   ]
  },
  {
   "cell_type": "code",
   "execution_count": null,
   "metadata": {},
   "outputs": [],
   "source": []
  }
 ],
 "metadata": {
  "kernelspec": {
   "display_name": "base",
   "language": "python",
   "name": "python3"
  },
  "language_info": {
   "codemirror_mode": {
    "name": "ipython",
    "version": 3
   },
   "file_extension": ".py",
   "mimetype": "text/x-python",
   "name": "python",
   "nbconvert_exporter": "python",
   "pygments_lexer": "ipython3",
   "version": "3.11.1"
  }
 },
 "nbformat": 4,
 "nbformat_minor": 2
}
