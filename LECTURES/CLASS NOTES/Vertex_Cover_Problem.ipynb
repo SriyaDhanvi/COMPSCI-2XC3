{
 "cells": [
  {
   "cell_type": "code",
   "execution_count": 7,
   "metadata": {},
   "outputs": [],
   "source": [
    "import random\n",
    "import time\n",
    "import timeit \n",
    "import matplotlib.pyplot as plt\n",
    "import numpy as np\n",
    "import math"
   ]
  },
  {
   "cell_type": "markdown",
   "metadata": {},
   "source": [
    "Vertex Cover Problem"
   ]
  },
  {
   "cell_type": "code",
   "execution_count": 8,
   "metadata": {},
   "outputs": [],
   "source": [
    "class Graph:\n",
    "\n",
    "    # using hash map\n",
    "    def __init__(self, edges):\n",
    "        self.graph = {}\n",
    "        for x,y in edges:\n",
    "            if x not in self.graph.keys():\n",
    "                self.graph[x]=[]\n",
    "            self.graph[x].append(y)\n",
    "            \n",
    "            # making it undirected\n",
    "            if y not in self.graph.keys():\n",
    "                self.graph[y]=[]\n",
    "            self.graph[y].append(x)\n",
    "\n",
    "    def has_edge(self, src, dst):\n",
    "        value = True if src in self.graph[dst] or dst in self.graph[src] else False\n",
    "        return value\n",
    "    \n",
    "    # new function\n",
    "    def add_edge(self,src, dst):\n",
    "        if src not in self.graph.keys():\n",
    "            self.graph[src]=[]\n",
    "        self.graph[src].append(dst)\n",
    "\n",
    "    # get nodes connecteed to the edge\n",
    "    def get_edges(self, node):\n",
    "        return self.graph[node]\n",
    "\n",
    "    def get_graph_size(self,):\n",
    "        return len(self.graph)\n",
    "    \n",
    "    def get_nodes(self,):\n",
    "        return self.graph.keys()\n",
    "    \n",
    "    def get_graph(self,):\n",
    "        return self.graph"
   ]
  },
  {
   "cell_type": "code",
   "execution_count": 9,
   "metadata": {},
   "outputs": [],
   "source": [
    "def depth_first_search(G,node,end_point=None):\n",
    "    stack = [node]\n",
    "    graph = G.get_graph()\n",
    "    seen=set()\n",
    "\n",
    "    while len(stack) !=0:\n",
    "        node = stack.pop()\n",
    "        # search for neighbours in graph\n",
    "        if node not in seen:\n",
    "            seen.add(node)\n",
    "            print(\"Visited node:\" + str(node))\n",
    "            # if the given node has an edge\n",
    "            if node in graph.keys():\n",
    "                # iterate over edges of node\n",
    "                for nn in graph[node]:\n",
    "\n",
    "                    # limited traversal\n",
    "                    if nn == end_point:\n",
    "                        return True\n",
    "                    # add to stack\n",
    "                    stack.append(nn)\n",
    "\n",
    "#Breadth First Search\n",
    "def breadth_first_search(G, node):\n",
    "    stack = [node]\n",
    "    graph = G.get_graph()\n",
    "    seen=set()\n",
    "\n",
    "    seen.add(node)\n",
    "\n",
    "    while len(stack) > 0:\n",
    "        node = stack[0]\n",
    "        stack = stack[1:]\n",
    "        print(\"Visiting node: \" + str(node))\n",
    "        if node in graph.keys():\n",
    "            for nn in graph[node]:\n",
    "                #if node == nn:\n",
    "                #    return True\n",
    "                if nn not in seen:\n",
    "                    stack.append(nn)\n",
    "                    seen.add(nn)"
   ]
  },
  {
   "cell_type": "code",
   "execution_count": 14,
   "metadata": {},
   "outputs": [
    {
     "name": "stdout",
     "output_type": "stream",
     "text": [
      "{'A': ['C', 'E'], 'C': ['A', 'B', 'G'], 'B': ['C', 'G'], 'E': ['A', 'H'], 'G': ['C', 'B', 'G', 'G'], 'H': ['E', 'D'], 'D': ['H']}\n"
     ]
    }
   ],
   "source": [
    "graph = Graph([['A','C'],['C','B'],['A','E'],['C','G'],['E','H'],['H','D'],['B','G'],['G','G']])\n",
    "graph.get_graph()\n",
    "\n",
    "print(graph.get_graph())\n"
   ]
  },
  {
   "cell_type": "code",
   "execution_count": 15,
   "metadata": {},
   "outputs": [
    {
     "name": "stdout",
     "output_type": "stream",
     "text": [
      "Visiting node: A\n",
      "Visiting node: C\n",
      "Visiting node: E\n",
      "Visiting node: B\n",
      "Visiting node: G\n",
      "Visiting node: H\n",
      "Visiting node: D\n"
     ]
    }
   ],
   "source": [
    "breadth_first_search(graph,'A')\n",
    "#depth_first_search(graph,'G')"
   ]
  },
  {
   "cell_type": "code",
   "execution_count": 96,
   "metadata": {},
   "outputs": [],
   "source": [
    "graph.add_edge('D','C')"
   ]
  },
  {
   "cell_type": "code",
   "execution_count": 97,
   "metadata": {},
   "outputs": [
    {
     "data": {
      "text/plain": [
       "{'A': ['C', 'E'],\n",
       " 'C': ['A', 'B', 'G'],\n",
       " 'B': ['C'],\n",
       " 'E': ['A', 'H'],\n",
       " 'G': ['C'],\n",
       " 'H': ['E', 'D'],\n",
       " 'D': ['H', 'C']}"
      ]
     },
     "execution_count": 97,
     "metadata": {},
     "output_type": "execute_result"
    }
   ],
   "source": [
    "graph.get_graph()"
   ]
  },
  {
   "cell_type": "code",
   "execution_count": 67,
   "metadata": {},
   "outputs": [
    {
     "name": "stdout",
     "output_type": "stream",
     "text": [
      "Visiting node: A\n",
      "Visiting node: C\n",
      "Visiting node: E\n",
      "Visiting node: B\n",
      "Visiting node: G\n",
      "Visiting node: H\n",
      "Visiting node: D\n"
     ]
    }
   ],
   "source": [
    "breadth_first_search(graph,'A')"
   ]
  },
  {
   "cell_type": "code",
   "execution_count": null,
   "metadata": {},
   "outputs": [],
   "source": []
  },
  {
   "cell_type": "code",
   "execution_count": null,
   "metadata": {},
   "outputs": [],
   "source": []
  },
  {
   "cell_type": "code",
   "execution_count": null,
   "metadata": {},
   "outputs": [],
   "source": []
  },
  {
   "cell_type": "code",
   "execution_count": null,
   "metadata": {},
   "outputs": [],
   "source": []
  },
  {
   "cell_type": "code",
   "execution_count": null,
   "metadata": {},
   "outputs": [],
   "source": []
  },
  {
   "cell_type": "markdown",
   "metadata": {},
   "source": [
    "## Vertex Cover\n",
    "\n",
    "Set $V'$ is a vertex cover of an undirected graph $G= (V,E)$ if $V' \\subseteq V$ where every edge has at least one endpoint (either start node or end node). This means that if $(u,v)$ is an edge of G, then either $u \\in V'$  or $v \\in V'$ or both. \n",
    "\n",
    "The size of the vertex cover = ??\n",
    "\n",
    "Minimum vertex cover problem.... its a real problem\n",
    "\n"
   ]
  },
  {
   "cell_type": "code",
   "execution_count": 16,
   "metadata": {},
   "outputs": [
    {
     "data": {
      "text/plain": [
       "{'A': ['C', 'E'],\n",
       " 'C': ['A', 'B', 'G'],\n",
       " 'B': ['C'],\n",
       " 'E': ['A', 'H'],\n",
       " 'G': ['C'],\n",
       " 'H': ['E', 'D'],\n",
       " 'D': ['H']}"
      ]
     },
     "execution_count": 16,
     "metadata": {},
     "output_type": "execute_result"
    }
   ],
   "source": [
    "graph = Graph([['A','C'],['C','B'],['A','E'],['C','G'],['E','H'],['H','D']])\n",
    "graph.get_graph()"
   ]
  },
  {
   "cell_type": "markdown",
   "metadata": {},
   "source": [
    "![image info](graphs/graphs.001.png)"
   ]
  },
  {
   "cell_type": "markdown",
   "metadata": {},
   "source": [
    "Is $C = [A]$ a vertex cover?"
   ]
  },
  {
   "cell_type": "markdown",
   "metadata": {},
   "source": [
    "Is $C = [A,B,E]$ a vertex cover?"
   ]
  },
  {
   "cell_type": "markdown",
   "metadata": {},
   "source": [
    "Is $C = [A,B,C,D,E]$ a vertex cover?"
   ]
  },
  {
   "cell_type": "markdown",
   "metadata": {},
   "source": [
    "![image info](graphs/graphs.002.png)"
   ]
  },
  {
   "cell_type": "markdown",
   "metadata": {},
   "source": [
    "Is $C = [B]$ a vertex cover?"
   ]
  },
  {
   "cell_type": "markdown",
   "metadata": {},
   "source": [
    "Is $C = [A,B]$ a vertex cover"
   ]
  },
  {
   "cell_type": "markdown",
   "metadata": {},
   "source": [
    "Is $C = [B,F,c]$ a vertex cover"
   ]
  },
  {
   "cell_type": "code",
   "execution_count": 17,
   "metadata": {},
   "outputs": [
    {
     "data": {
      "text/plain": [
       "{'A': ['C', 'E'],\n",
       " 'C': ['A', 'B', 'G'],\n",
       " 'B': ['C'],\n",
       " 'E': ['A', 'H'],\n",
       " 'G': ['C'],\n",
       " 'H': ['E', 'D'],\n",
       " 'D': ['H']}"
      ]
     },
     "execution_count": 17,
     "metadata": {},
     "output_type": "execute_result"
    }
   ],
   "source": [
    "graph = Graph([['A','C'],['C','B'],['A','E'],['C','G'],['E','H'],['H','D']])\n",
    "graph.get_graph()"
   ]
  },
  {
   "cell_type": "code",
   "execution_count": 23,
   "metadata": {},
   "outputs": [
    {
     "name": "stdout",
     "output_type": "stream",
     "text": [
      "{'A': [], 'C': [], 'B': [], 'E': [], 'G': [], 'H': [], 'D': []}\n",
      "{'A': [], 'C': [], 'B': [], 'E': [], 'G': [], 'H': [], 'D': []}\n",
      "set ['C', 'E', 'H', 'B'] is vertex cover: True\n"
     ]
    }
   ],
   "source": [
    "vc_set=['C','E','H','B']\n",
    "\n",
    "G=graph.get_graph()\n",
    "working_copy = G.copy()\n",
    "\n",
    "print(G)\n",
    "\n",
    "for node in vc_set:\n",
    "    for n, edges in G.items():\n",
    "        if node in edges:\n",
    "            G[n].remove(node)\n",
    "\n",
    "for node in vc_set:\n",
    "    G[node]=[]\n",
    "\n",
    "is_vc = True\n",
    "\n",
    "for node,edges in G.items():\n",
    "    if len(edges)!=0:\n",
    "        is_vc=False\n",
    "        break\n",
    "    break\n",
    "\n",
    "print(working_copy)\n",
    "\n",
    "print(\"set\",vc_set,\"is vertex cover:\",is_vc )"
   ]
  },
  {
   "cell_type": "code",
   "execution_count": null,
   "metadata": {},
   "outputs": [],
   "source": []
  },
  {
   "cell_type": "code",
   "execution_count": null,
   "metadata": {},
   "outputs": [],
   "source": []
  },
  {
   "cell_type": "code",
   "execution_count": null,
   "metadata": {},
   "outputs": [],
   "source": []
  },
  {
   "cell_type": "code",
   "execution_count": 121,
   "metadata": {},
   "outputs": [
    {
     "name": "stdout",
     "output_type": "stream",
     "text": [
      "{'A': [], 'C': ['A', 'B', 'G'], 'B': [], 'E': ['A', 'H'], 'G': [], 'H': [], 'D': ['H']}\n",
      "Is ['C', 'D', 'E'] set a Vertex cover: True\n",
      "{'A': [], 'C': [], 'B': [], 'E': [], 'G': [], 'H': [], 'D': []}\n",
      "{'A': [], 'C': ['A', 'B', 'G'], 'B': [], 'E': ['A', 'H'], 'G': [], 'H': [], 'D': ['H']}\n"
     ]
    }
   ],
   "source": [
    "vc_set = ['C','D','E']\n",
    "\n",
    "# check if a given set is vertex cover\n",
    "original = graph.get_graph()\n",
    "analysis_graph = original.copy()\n",
    "\n",
    "# remove all edges\n",
    "for node in vc_set:\n",
    "    edges = analysis_graph[node]\n",
    "    for n in edges:\n",
    "        if node in analysis_graph[n]:\n",
    "            analysis_graph[n].remove(node)\n",
    "    \n",
    "for node in vc_set:\n",
    "    analysis_graph[node]=[]\n",
    "\n",
    "is_vc = True\n",
    "for k,v in analysis_graph.items():\n",
    "    if len(v)!=0:\n",
    "        is_vc = False\n",
    "        break\n",
    "print(\"Is\", vc_set,\"set a Vertex cover:\", is_vc)\n",
    "\n",
    "print(analysis_graph)\n"
   ]
  },
  {
   "cell_type": "code",
   "execution_count": 109,
   "metadata": {},
   "outputs": [],
   "source": [
    "# finding the minimum vertex cover"
   ]
  },
  {
   "cell_type": "code",
   "execution_count": null,
   "metadata": {},
   "outputs": [],
   "source": [
    "def draw_show_plot(run_arr):\n",
    "    x = np.arange(0, len(run_arr),1)\n",
    "    fig=plt.figure(figsize=(20,8))\n",
    "    plt.bar(x,run_arr)\n",
    "    plt.axhline(np.mean(run_arr),color=\"red\",linestyle=\"--\",label=\"Avg\")\n",
    "    plt.xlabel(\"Iterations\")\n",
    "    plt.ylabel(\"Run time in ms order of 1e-6\")\n",
    "    plt.title(\"Run time for retrieval\")\n",
    "    plt.show()"
   ]
  },
  {
   "cell_type": "code",
   "execution_count": null,
   "metadata": {},
   "outputs": [],
   "source": [
    "runs=20\n",
    "run_times=[]\n",
    "for _ in range(runs):\n",
    "    start = timeit.default_timer()\n",
    "    check_vc(graph)\n",
    "    stop = timeit.default_timer()\n",
    "    run_times.append(stop-start)\n",
    "\n",
    "draw_show_plot(run_times)"
   ]
  },
  {
   "cell_type": "code",
   "execution_count": 151,
   "metadata": {},
   "outputs": [
    {
     "name": "stdout",
     "output_type": "stream",
     "text": [
      "{'A': ['B'], 'B': ['A', 'F', 'E'], 'F': ['B', 'E'], 'E': ['B', 'F', 'C'], 'C': ['E']}\n",
      "{'A': [], 'B': [], 'F': ['E'], 'E': ['F', 'C'], 'C': ['E']}\n",
      "{'A': [], 'B': [], 'F': ['E'], 'E': ['F', 'C'], 'C': ['E']}\n",
      "{'A': [], 'B': [], 'F': [], 'E': [], 'C': []}\n",
      "{'A': [], 'B': [], 'F': [], 'E': [], 'C': []}\n",
      "['A', 'B', 'F', 'E']\n"
     ]
    }
   ],
   "source": [
    "#graph = Graph([['A','B'],['B','C'],['C','D'],['D','E'],['E','F'],['C','G'],['F','B']])\n",
    "graph = Graph([['A','B'],['B','F'],['B','E'],['F','E'],['E','C']])\n",
    "G = graph.get_graph()\n",
    "working_copy = G.copy()\n",
    "\n",
    "#empty set\n",
    "C = []\n",
    "\n",
    "for node,edges in working_copy.items():\n",
    "\n",
    "    # if the node has edges\n",
    "    if len(edges)!=0:\n",
    "        # append the start of the edge\n",
    "        C.append(node)\n",
    "        # append the end of the edge\n",
    "        C.append(edges[0])\n",
    "            \n",
    "        # delete all edges corresponding to these nodes from both of working copy\n",
    "        if edges[0] in working_copy.keys():\n",
    "            working_copy[edges[0]]=[]\n",
    "        if node in working_copy.keys():\n",
    "            working_copy[node]=[]\n",
    "\n",
    "        for v in working_copy.values():\n",
    "            if node in v:\n",
    "                v.remove(node)\n",
    "            if edges[0] in v:\n",
    "                v.remove(edges[0])\n",
    "\n",
    "print(C)"
   ]
  },
  {
   "cell_type": "code",
   "execution_count": null,
   "metadata": {},
   "outputs": [],
   "source": []
  }
 ],
 "metadata": {
  "kernelspec": {
   "display_name": "base",
   "language": "python",
   "name": "python3"
  },
  "language_info": {
   "codemirror_mode": {
    "name": "ipython",
    "version": 3
   },
   "file_extension": ".py",
   "mimetype": "text/x-python",
   "name": "python",
   "nbconvert_exporter": "python",
   "pygments_lexer": "ipython3",
   "version": "3.9.12"
  }
 },
 "nbformat": 4,
 "nbformat_minor": 2
}
