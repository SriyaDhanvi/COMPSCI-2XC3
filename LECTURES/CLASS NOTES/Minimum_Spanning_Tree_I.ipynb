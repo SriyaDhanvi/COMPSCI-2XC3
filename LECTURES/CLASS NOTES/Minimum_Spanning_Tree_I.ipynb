{
 "cells": [
  {
   "cell_type": "code",
   "execution_count": null,
   "metadata": {},
   "outputs": [],
   "source": [
    "import math"
   ]
  },
  {
   "cell_type": "markdown",
   "metadata": {},
   "source": [
    "## Problem"
   ]
  },
  {
   "cell_type": "markdown",
   "metadata": {},
   "source": [
    "Edna wants to find the optimum locations to setup medical emergency centers in flooded region"
   ]
  },
  {
   "cell_type": "markdown",
   "metadata": {},
   "source": [
    "![image info](mst/mst.001.png)"
   ]
  },
  {
   "cell_type": "markdown",
   "metadata": {},
   "source": [
    "### Solution"
   ]
  },
  {
   "cell_type": "markdown",
   "metadata": {},
   "source": [
    "#### Step 1: Get the lay of the land"
   ]
  },
  {
   "cell_type": "markdown",
   "metadata": {},
   "source": [
    "![image info](mst/mst.002.png)"
   ]
  },
  {
   "cell_type": "code",
   "execution_count": null,
   "metadata": {},
   "outputs": [],
   "source": [
    "connections = [[1,1,0,0,0,0,1,1],\n",
    "               [1,1,0,0,0,0,0,0],\n",
    "               [0,0,1,1,0,0,0,0],\n",
    "               [0,0,1,1,0,1,0,0],\n",
    "               [0,0,0,0,1,1,0,0],\n",
    "               [0,0,0,1,1,1,0,0],\n",
    "               [1,0,0,0,0,0,1,0],\n",
    "               [1,0,0,0,0,0,0,1]]"
   ]
  },
  {
   "cell_type": "markdown",
   "metadata": {},
   "source": [
    "#### Disjoint Set"
   ]
  },
  {
   "cell_type": "code",
   "execution_count": null,
   "metadata": {},
   "outputs": [],
   "source": [
    "class DisjointSet:\n",
    "\n",
    "    def __init__(self, values):\n",
    "        self.parents = {}\n",
    "        self.root = {}\n",
    "        for value in range(len(values)):\n",
    "            # parent node set to be themselves\n",
    "            self.parents[value] = value\n",
    "\n",
    "            # root is initially one because all nodes are individual \n",
    "            # and not yet connected\n",
    "            self.root[value] = 1\n",
    "\n",
    "    # function to find the root node of a value\n",
    "    def find(self, value):\n",
    "\n",
    "        # base condition \n",
    "        if self.parents[value] == value:\n",
    "            return value\n",
    "        \n",
    "        # recursive call\n",
    "        self.parents[value] = self.find(self.parents[value])\n",
    "        return self.parents[value]\n",
    "\n",
    "    # make a union of two nodes and bring them together\n",
    "    def union(self, node1, node2):\n",
    "        # find parent of node1\n",
    "        root1 = self.find(node1)\n",
    "        # find parent of node2\n",
    "        root2 = self.find(node2)\n",
    "\n",
    "        # if both nodes have the same root node then exit function\n",
    "        if root1 == root2:\n",
    "            return\n",
    "        \n",
    "        # if root of node1 is greater than equal to root of node2 \n",
    "        if self.root[root1] >= self.root[root2]:\n",
    "            # update the root of parent \n",
    "            self.parents[root2] = root1\n",
    "            # adjust the root\n",
    "            self.root[root1] += self.root[root2]\n",
    "        else:\n",
    "            # update the root of parent\n",
    "            self.parents[root1] = root2\n",
    "            # adjust the root\n",
    "            self.root[root2] += self.root[root1]\n"
   ]
  },
  {
   "cell_type": "code",
   "execution_count": null,
   "metadata": {},
   "outputs": [],
   "source": [
    "def find_clusters(connected_list):\n",
    "    # create a disjoint set with connected_list\n",
    "    number_of_nodes= len(connected_list)\n",
    "    ds = DisjointSet(connected_list)\n",
    "    for row in range(number_of_nodes):\n",
    "        for col in range(row+1,number_of_nodes):\n",
    "            if connected_list[row][col]==1:\n",
    "                ds.union(row,col)\n",
    "                a=[(ds.parents[i]) for i in range(number_of_nodes)]\n",
    "                b=[(ds.root[i]) for i in range(number_of_nodes)]\n",
    "                print(\"parent\",a)\n",
    "                print(\"root  \",b)\n",
    "\n",
    "find_clusters(connections)\n"
   ]
  },
  {
   "cell_type": "markdown",
   "metadata": {},
   "source": [
    "#### Maximum Independent Set"
   ]
  },
  {
   "cell_type": "markdown",
   "metadata": {},
   "source": [
    "Maximum number of nodes in a set that are not connected by two vertices.\n",
    "\n",
    "Formally, for a graph $G = (V,E)$ a S is an independent set where no two adjecent nodes are present. So essentially, there is no edge that connects any two vertices in that set."
   ]
  },
  {
   "cell_type": "markdown",
   "metadata": {},
   "source": [
    "![image info](mst/mst.007.png)"
   ]
  },
  {
   "cell_type": "markdown",
   "metadata": {},
   "source": [
    "Step 2: Find the minimum set of edges that connected ALL nodes. We want to minimize the cost."
   ]
  },
  {
   "cell_type": "markdown",
   "metadata": {},
   "source": [
    "#### Spanning Tree"
   ]
  },
  {
   "cell_type": "markdown",
   "metadata": {},
   "source": [
    "Spanning Tree is described as a set of edges that cover all vertices"
   ]
  },
  {
   "cell_type": "markdown",
   "metadata": {},
   "source": [
    "![image info](mst/mst.006.png)"
   ]
  },
  {
   "cell_type": "markdown",
   "metadata": {},
   "source": [
    "Is $ST = ((A,H),(B,C),(F,E))$ a Spanning Tree ?"
   ]
  },
  {
   "cell_type": "markdown",
   "metadata": {},
   "source": [
    "Is $ST = ((A,H),(B,C),(F,E),(B,E))$ a Spanning Tree ?"
   ]
  },
  {
   "cell_type": "markdown",
   "metadata": {},
   "source": [
    "Is $ST = ((A,H),(A,G),(B,C),(C,D),(D,G),(B,E),(D,F))$ a Spanning Tree ?"
   ]
  },
  {
   "cell_type": "markdown",
   "metadata": {},
   "source": [
    "#### Graphs aren't really uniform. Navigation has a cost"
   ]
  },
  {
   "cell_type": "markdown",
   "metadata": {},
   "source": [
    "![image info](mst/mst.008.png)"
   ]
  },
  {
   "cell_type": "markdown",
   "metadata": {},
   "source": [
    "![image info](mst/mst.005.png)"
   ]
  },
  {
   "cell_type": "markdown",
   "metadata": {},
   "source": [
    "Minimum Spanning Tree is a tree that has the minimum number of edges that cover all indices with minimum weight."
   ]
  },
  {
   "cell_type": "code",
   "execution_count": null,
   "metadata": {},
   "outputs": [],
   "source": [
    "class WeightedGraph:\n",
    "\n",
    "    def __init__(self, nodes):\n",
    "        self.graph = {}\n",
    "        self.weight = {}\n",
    "        for i in range(nodes):\n",
    "            self.graph[i] = []\n",
    "\n",
    "    def are_connected(self, node1, node2):\n",
    "        for node in self.adj[node1]:\n",
    "            if node == node2:\n",
    "                return True\n",
    "        return False\n",
    "\n",
    "    def connected_nodes(self, node):\n",
    "        return self.graph[node]\n",
    "\n",
    "    def add_node(self,):\n",
    "        #add a new node number = length of existing node\n",
    "        self.graph[len(self.graph)] = []\n",
    "\n",
    "    def add_edge(self, node1, node2, weight):\n",
    "        if node1 not in self.graph[node2]:\n",
    "            self.graph[node1].append(node2)\n",
    "            self.weight[(node1, node2)] = weight\n",
    "\n",
    "            #since it is undirected\n",
    "            self.graph[node2].append(node1)\n",
    "            self.weight[(node2, node1)] = weight\n",
    "\n",
    "    def number_of_nodes(self,):\n",
    "        return len(self.graph)\n",
    "\n",
    "    def has_edge(self, src, dst):\n",
    "        return dst in self.graph[src]\n",
    "\n",
    "    def get_weight(self,):\n",
    "        total = 0\n",
    "        for node1 in self.graph:\n",
    "            for node2 in self.graph[node1]:\n",
    "                total += self.weight[(node1, node2)]\n",
    "                \n",
    "        # because it is undirected\n",
    "        return total/2"
   ]
  },
  {
   "cell_type": "markdown",
   "metadata": {},
   "source": [
    "![image info](mst/mst.008.png)"
   ]
  },
  {
   "cell_type": "code",
   "execution_count": null,
   "metadata": {},
   "outputs": [],
   "source": [
    "g = WeightedGraph(8)\n",
    "edges = [(0,0),(0,1),(0,6),(0,7),\n",
    "         (1,0),(1,1),(1,2),(1,4),\n",
    "         (2,1),(2,2),(2,3),\n",
    "         (3,2),(3,3),(3,5),(3,6),\n",
    "         (4,)]\n",
    "\n",
    "g.add_edge(0,0)\n",
    "g.add_edge(0,0)"
   ]
  },
  {
   "cell_type": "markdown",
   "metadata": {},
   "source": [
    "#### Constructing minimum spanning tree: Prim's Algorithm"
   ]
  },
  {
   "cell_type": "code",
   "execution_count": null,
   "metadata": {},
   "outputs": [],
   "source": [
    "def prims(G):\n",
    "    mst = WeightedGraph(G.number_of_nodes())\n",
    "    visited_nodes = {}\n",
    "    for i in G.keys():\n",
    "        visited_nodes[i]=False\n",
    "\n",
    "    # initialize the tree with a single node, chosen arbitarily    \n",
    "    visited_nodes[0]=True\n",
    "\n",
    "    # find all the edges that connect the tree with the remaining vertices\n",
    "    for i in range(G.number_of_nodes()-1):\n",
    "        current_edge = (0,0,99999)\n",
    "        for start_node in G.graph:\n",
    "            for end_node in G.graph[start_node]:\n",
    "                # if the start node is visited but end node is not\n",
    "                if visited_nodes[start_node] and not visited_nodes[end_node]:\n",
    "                    # find the minimum weigthed edge - if the weight is less than current\n",
    "                    if G.weight[(start_node,end_node)] < current_edge[2]:\n",
    "                        current_edge = (start_node,end_node, G.weight[(start_node,end_node)])\n",
    "        \n",
    "        # mark the current node as visited\n",
    "        visited_nodes[current_edge[1]] = True\n",
    "\n",
    "        #add the node\n",
    "        mst.add_edge(current_edge[0],current_edge[1],current_edge[2])\n",
    "\n",
    "    return mst\n",
    "   "
   ]
  },
  {
   "cell_type": "markdown",
   "metadata": {},
   "source": [
    "### Prim's using min heap"
   ]
  },
  {
   "cell_type": "code",
   "execution_count": null,
   "metadata": {},
   "outputs": [],
   "source": [
    "class Item:\n",
    "    def __init__(self, key, value):\n",
    "        self.key = key\n",
    "        self.value = value\n",
    "    \n",
    "    def __str__(self):\n",
    "        return \"(key:\" + str(self.key) + \",value:\" + str(self.value) + \")\""
   ]
  },
  {
   "cell_type": "code",
   "execution_count": null,
   "metadata": {},
   "outputs": [],
   "source": [
    "nodes = [Item(1,'A'),Item(2,'B'),Item(3,'C'),Item(4,'D')]\n",
    "for n in nodes:\n",
    "    print(n)"
   ]
  },
  {
   "cell_type": "code",
   "execution_count": null,
   "metadata": {},
   "outputs": [],
   "source": [
    "class MinHeap:\n",
    "    def __init__(self, data):\n",
    "        self.items = data\n",
    "        self.length = len(data)\n",
    "        self.build_heap()\n",
    "\n",
    "        # add a map based on input node\n",
    "        self.map = {}\n",
    "        for i in range(self.length):\n",
    "            self.map[self.items[i].value] = i\n",
    "\n",
    "    def find_left_index(self,index):\n",
    "        return 2 * (index + 1) - 1\n",
    "\n",
    "    def find_right_index(self,index):\n",
    "        return 2 * (index + 1)\n",
    "\n",
    "    def find_parent_index(self,index):\n",
    "        return (index + 1) // 2 - 1  \n",
    "    \n",
    "    def sink_down(self, index):\n",
    "        smallest_known_index = index\n",
    "        left_index = self.find_left_index(index)\n",
    "        right_index = self.find_right_index(index)\n",
    "\n",
    "        if left_index < self.length and self.items[left_index].key < self.items[index].key:\n",
    "            smallest_known_index = left_index\n",
    "\n",
    "        if right_index < self.length and self.items[right_index].key < self.items[smallest_known_index].key:\n",
    "            smallest_known = right_index\n",
    "\n",
    "        if smallest_known != index:\n",
    "            self.items[index], self.items[smallest_known_index] = self.items[smallest_known_index], self.items[index]\n",
    "            \n",
    "            # update map\n",
    "            self.map[self.items[index].value] = index\n",
    "            self.map[self.items[smallest_known_index].value] = smallest_known_index\n",
    "\n",
    "            # recursive call\n",
    "            self.sink(smallest_known_index)\n",
    "\n",
    "    def build_heap(self,):\n",
    "        for i in range(self.length // 2 - 1, -1, -1):\n",
    "            self.sink_down(i) \n",
    "\n",
    "    def insert(self, node):\n",
    "        if len(self.items) == self.length:\n",
    "            self.items.append(node)\n",
    "        else:\n",
    "            self.items[self.length] = node\n",
    "        self.map[node.value] = self.length\n",
    "        self.length += 1\n",
    "        self.swim_up(self.length - 1)\n",
    "\n",
    "    def insert_nodes(self, node_list):\n",
    "        for node in node_list:\n",
    "            self.insert(node)\n",
    "\n",
    "    def swim_up(self, index):\n",
    "        while index > 0 and self.items[index].key < self.items[self.parent(index)].key:\n",
    "            #swap values\n",
    "            self.items[index], self.items[self.parent(index)] = self.data[self.parent(index)], self.items[index]\n",
    "            #update map\n",
    "            self.map[self.items[index].value] = index\n",
    "            self.map[self.items[self.parent(index)].value] = self.parent(index)\n",
    "            index = self.parent(index)\n",
    "\n",
    "    def get_min(self):\n",
    "        if len(self.items) > 0:\n",
    "            return self.items[0]\n",
    "\n",
    "    def extract_min(self,):\n",
    "        #xchange\n",
    "        self.items[0], self.items[self.length - 1] = self.items[self.length - 1], self.items[0]\n",
    "        #update map\n",
    "        self.map[self.data[self.length - 1].value] = self.length - 1\n",
    "        self.map[self.data[0].value] = 0\n",
    "\n",
    "        min_node = self.items[self.length - 1]\n",
    "        self.length -= 1\n",
    "        self.map.pop(min_node.value)\n",
    "        self.sink_down(0)\n",
    "        return min_node\n",
    "\n",
    "    def decrease_key(self, value, new_key):\n",
    "        if new_key >= self.items[self.map[value]].key:\n",
    "            return\n",
    "        index = self.map[value]\n",
    "        self.items[index].key = new_key\n",
    "        self.swim_up(index)\n",
    "\n",
    "    def get_element_from_value(self, value):\n",
    "        return self.items[self.map[value]]\n",
    "\n",
    "    def is_empty(self):\n",
    "        return self.length == 0\n"
   ]
  },
  {
   "cell_type": "code",
   "execution_count": null,
   "metadata": {},
   "outputs": [],
   "source": [
    "def prim_with_heap_1(G):\n",
    "    mst = WeightedGraph(G.number_of_nodes())\n",
    "    visited_nodes = {}\n",
    "    for i in G.keys():\n",
    "        visited_nodes[i]=False\n",
    "\n",
    "    # initialize the tree with a single node, chosen arbitarily    \n",
    "    visited_nodes[0]=True\n",
    "\n",
    "    # create an empty heap\n",
    "    Q = MinHeap([])\n",
    "\n",
    "    # add the first set of edges into the Q\n",
    "    for end_node in G.graph[0]:\n",
    "        Q.insert(Item((0,end_node),G.weight[(0,end_node)]))\n",
    "\n",
    "    # find all the edges that connect the tree with the remaining vertices\n",
    "    while not Q.is_empty():\n",
    "\n",
    "        # find the minimum weigthed edge - if the weight is less than current\n",
    "        min_edge = Q.extract_min().value\n",
    "        curr_edge = min_edge[1]\n",
    "        # if the start node is visited but end node is not\n",
    "        if not visited_nodes[curr_edge]:\n",
    "            # add the node\n",
    "            mst.add_edge(min_edge[0], curr_edge, G.weight[min_edge])\n",
    "            # adjust the heap\n",
    "            for end_node in G.graph[curr_edge]:\n",
    "                Q.insert(Item((curr_edge, end_node), G.weight[(curr_edge, end_node)]))\n",
    "\n",
    "            # mark the current node as visited\n",
    "            visited_nodes[curr_edge] = True\n",
    "    return mst"
   ]
  }
 ],
 "metadata": {
  "kernelspec": {
   "display_name": "base",
   "language": "python",
   "name": "python3"
  },
  "language_info": {
   "codemirror_mode": {
    "name": "ipython",
    "version": 3
   },
   "file_extension": ".py",
   "mimetype": "text/x-python",
   "name": "python",
   "nbconvert_exporter": "python",
   "pygments_lexer": "ipython3",
   "version": "3.9.12"
  }
 },
 "nbformat": 4,
 "nbformat_minor": 2
}
