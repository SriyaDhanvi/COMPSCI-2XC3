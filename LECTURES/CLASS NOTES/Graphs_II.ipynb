{
 "cells": [
  {
   "cell_type": "code",
   "execution_count": 1,
   "metadata": {},
   "outputs": [],
   "source": [
    "import random\n",
    "import timeit \n",
    "import matplotlib.pyplot as plt\n",
    "import numpy as np\n",
    "import math\n",
    "from PrettyPrint import PrettyPrintTree\n",
    "import colorama\n",
    "from colorama import Back,Style,Fore\n"
   ]
  },
  {
   "cell_type": "markdown",
   "metadata": {},
   "source": [
    "### Create a list of items"
   ]
  },
  {
   "cell_type": "code",
   "execution_count": 3,
   "metadata": {},
   "outputs": [
    {
     "data": {
      "text/plain": [
       "[824, 395, 21, 37, 780, 312, 10, 696, 923, 421, 192]"
      ]
     },
     "execution_count": 3,
     "metadata": {},
     "output_type": "execute_result"
    }
   ],
   "source": [
    "def create_list_custom(length, max_value, item=None, item_index=None):\n",
    "    random_list = [random.randint(0,max_value) for i in range(length)]\n",
    "    if item!= None:\n",
    "        random_list.insert(item_index,item)\n",
    "    return random_list\n",
    "\n",
    "create_list_custom(10,1000,10,6)"
   ]
  },
  {
   "cell_type": "markdown",
   "metadata": {},
   "source": [
    "### Draw Plot of Run times"
   ]
  },
  {
   "cell_type": "code",
   "execution_count": 4,
   "metadata": {},
   "outputs": [],
   "source": [
    "def draw_show_plot(run_arr):\n",
    "    x = np.arange(0, len(run_arr),1)\n",
    "    fig=plt.figure(figsize=(20,8))\n",
    "    plt.bar(x,run_arr)\n",
    "    plt.axhline(np.mean(run_arr),color=\"red\",linestyle=\"--\",label=\"Avg\")\n",
    "    plt.xlabel(\"Iterations\")\n",
    "    plt.ylabel(\"Run time in ms order of 1e-6\")\n",
    "    plt.title(\"Run time for retrieval\")\n",
    "    plt.show()"
   ]
  },
  {
   "cell_type": "markdown",
   "metadata": {},
   "source": [
    "### Create Graphs - I"
   ]
  },
  {
   "cell_type": "code",
   "execution_count": 2,
   "metadata": {},
   "outputs": [],
   "source": [
    "class GraphI:\n",
    "\n",
    "    # using hash map\n",
    "    def __init__(self, edges):\n",
    "        self.graph = {}\n",
    "        for x,y in edges:\n",
    "            if x not in self.graph.keys():\n",
    "                self.graph[x]=[]\n",
    "            self.graph[x].append(y)\n",
    "\n",
    "    def has_edge(self, src, dst):\n",
    "        return src in self.graph[dst]\n",
    "\n",
    "    def get_graph_size(self,):\n",
    "        return len(self.graph)\n",
    "    \n",
    "    def get_graph(self,):\n",
    "        return self.graph"
   ]
  },
  {
   "cell_type": "code",
   "execution_count": 13,
   "metadata": {},
   "outputs": [
    {
     "data": {
      "text/plain": [
       "{0: [1], 1: [2], 2: [0], 3: [1]}"
      ]
     },
     "execution_count": 13,
     "metadata": {},
     "output_type": "execute_result"
    }
   ],
   "source": [
    "graph = GraphI([[0,1],[1,2],[2,0],[3,1]])\n",
    "graph.get_graph()"
   ]
  },
  {
   "cell_type": "markdown",
   "metadata": {},
   "source": [
    "### Create Graphs - II"
   ]
  },
  {
   "cell_type": "code",
   "execution_count": 7,
   "metadata": {},
   "outputs": [],
   "source": [
    "class GraphII:\n",
    "\n",
    "    # using adjacency list\n",
    "    def __init__(self, nodes):\n",
    "        self.graph = []\n",
    "        # node numbered 0-1\n",
    "        for node in range(nodes):\n",
    "            self.graph.append([])\n",
    "        \n",
    "    def has_edge(self, src, dst):\n",
    "        return src in self.graph[dst]\n",
    "    \n",
    "    def add_edge(self,src,dst):\n",
    "        if not self.has_edge(src,dst):\n",
    "            self.graph[src].append(dst)\n",
    "            self.graph[dst].append(src)\n",
    "    \n",
    "    def get_graph(self,):\n",
    "        return self.graph"
   ]
  },
  {
   "cell_type": "code",
   "execution_count": 8,
   "metadata": {},
   "outputs": [
    {
     "data": {
      "text/plain": [
       "[[1, 2], [0, 2], [1, 0, 3], [2], [], []]"
      ]
     },
     "execution_count": 8,
     "metadata": {},
     "output_type": "execute_result"
    }
   ],
   "source": [
    "graph = GraphII(6)\n",
    "graph.add_edge(0,1)\n",
    "graph.add_edge(1,2)\n",
    "graph.add_edge(2,0)\n",
    "graph.add_edge(2,3)\n",
    "\n",
    "graph.get_graph()"
   ]
  },
  {
   "cell_type": "markdown",
   "metadata": {},
   "source": [
    "### Create Graphs - III"
   ]
  },
  {
   "cell_type": "markdown",
   "metadata": {},
   "source": [
    "Adjacency Matrices"
   ]
  },
  {
   "cell_type": "markdown",
   "metadata": {},
   "source": []
  },
  {
   "cell_type": "markdown",
   "metadata": {},
   "source": [
    "### Traversing a Graph"
   ]
  },
  {
   "cell_type": "code",
   "execution_count": null,
   "metadata": {},
   "outputs": [],
   "source": []
  },
  {
   "cell_type": "code",
   "execution_count": null,
   "metadata": {},
   "outputs": [],
   "source": []
  },
  {
   "cell_type": "code",
   "execution_count": null,
   "metadata": {},
   "outputs": [],
   "source": []
  },
  {
   "cell_type": "code",
   "execution_count": null,
   "metadata": {},
   "outputs": [],
   "source": []
  },
  {
   "cell_type": "code",
   "execution_count": null,
   "metadata": {},
   "outputs": [],
   "source": []
  },
  {
   "cell_type": "code",
   "execution_count": null,
   "metadata": {},
   "outputs": [],
   "source": []
  },
  {
   "cell_type": "markdown",
   "metadata": {},
   "source": [
    "##### Depth first search"
   ]
  },
  {
   "cell_type": "code",
   "execution_count": null,
   "metadata": {},
   "outputs": [],
   "source": [
    "def DFS(graph, node):\n",
    "    G=graph.get_graph()\n",
    "    stack = [node]\n",
    "\n",
    "    seen=set()\n",
    "\n",
    "    while len(stack)>=0:\n",
    "        node = stack.pop()\n",
    "\n",
    "        if node not in seen:\n",
    "            seen.add(node)\n",
    "\n",
    "        if nn in G"
   ]
  },
  {
   "cell_type": "code",
   "execution_count": null,
   "metadata": {},
   "outputs": [],
   "source": []
  },
  {
   "cell_type": "code",
   "execution_count": null,
   "metadata": {},
   "outputs": [],
   "source": []
  },
  {
   "cell_type": "code",
   "execution_count": null,
   "metadata": {},
   "outputs": [],
   "source": []
  },
  {
   "cell_type": "code",
   "execution_count": 3,
   "metadata": {},
   "outputs": [],
   "source": [
    "def depth_first_search(G,node,end_point=None):\n",
    "    stack = [node]\n",
    "    graph = G.get_graph()\n",
    "    seen=set()\n",
    "\n",
    "    while len(stack) !=0:\n",
    "        node = stack.pop()\n",
    "\n",
    "\n",
    "\n",
    "\n",
    "        # search for neighbours in graph\n",
    "        if node not in seen:\n",
    "            seen.add(node)\n",
    "\n",
    "\n",
    "\n",
    "\n",
    "            ## task to do with the present node\n",
    "            print(\"Visited node:\" + str(node))\n",
    "\n",
    "\n",
    "            ## class\n",
    "            # if the given node has an edge\n",
    "            if node in graph.keys():\n",
    "\n",
    "\n",
    "\n",
    "\n",
    "\n",
    "                ## depends on your individusl\n",
    "                \n",
    "                # iterate over edges of node\n",
    "                for nn in graph[node]:\n",
    "\n",
    "\n",
    "\n",
    "                    # limited traversal\n",
    "                    if nn == end_point:\n",
    "\n",
    "                        # return true \n",
    "                        return True\n",
    "\n",
    "\n",
    "                    # add to stack\n",
    "                    stack.append(nn)"
   ]
  },
  {
   "cell_type": "code",
   "execution_count": null,
   "metadata": {},
   "outputs": [],
   "source": []
  },
  {
   "cell_type": "code",
   "execution_count": 10,
   "metadata": {},
   "outputs": [
    {
     "name": "stdout",
     "output_type": "stream",
     "text": [
      "{'A': ['C', 'E'], 'C': ['B', 'G'], 'E': ['H'], 'H': ['D']}\n",
      "Visited node:A\n",
      "Visited node:E\n",
      "Visited node:H\n",
      "Visited node:D\n",
      "Visited node:C\n"
     ]
    },
    {
     "data": {
      "text/plain": [
       "True"
      ]
     },
     "execution_count": 10,
     "metadata": {},
     "output_type": "execute_result"
    }
   ],
   "source": [
    "#graph = GraphI([[0,1],[1,2],[2,0],[3,1]])\n",
    "graph = GraphI([['A','C'],['C','B'],['A','E'],['C','G'],['E','H'],['H','D']])\n",
    "graph.get_graph()\n",
    "\n",
    "print(graph.get_graph())\n",
    "\n",
    "depth_first_search(graph,'A','B')"
   ]
  },
  {
   "cell_type": "code",
   "execution_count": 7,
   "metadata": {},
   "outputs": [
    {
     "name": "stdout",
     "output_type": "stream",
     "text": [
      "Visited node:A\n",
      "Visited node:E\n",
      "Visited node:H\n",
      "Visited node:D\n",
      "Visited node:C\n",
      "Visited node:G\n",
      "Visited node:B\n"
     ]
    }
   ],
   "source": [
    "depth_first_search(graph,'A')"
   ]
  },
  {
   "cell_type": "markdown",
   "metadata": {},
   "source": [
    "##### Breadth First Search"
   ]
  },
  {
   "cell_type": "code",
   "execution_count": 20,
   "metadata": {},
   "outputs": [],
   "source": [
    "#Breadth First Search\n",
    "def breadth_first_search(G, node, endpoint=None):\n",
    "\n",
    "\n",
    "# how you navigate back\n",
    "    stack = [node]\n",
    "\n",
    "\n",
    "    graph = G.get_graph()\n",
    "\n",
    "    seen=set()\n",
    "\n",
    "\n",
    "\n",
    "    seen.add(node)\n",
    "\n",
    "\n",
    "\n",
    "    while len(stack) > 0:\n",
    "\n",
    "\n",
    "\n",
    "\n",
    "        if node == endpoint:\n",
    "                return True\n",
    "        \n",
    "        node = stack[0]\n",
    "        stack = stack[1:]\n",
    "\n",
    "\n",
    "\n",
    "\n",
    "        ## task to do with the node\n",
    "        print(\"Visiting node: \" + str(node))\n",
    "\n",
    "\n",
    "\n",
    "\n",
    "\n",
    "\n",
    "        if node in graph.keys():\n",
    "\n",
    "            \n",
    "\n",
    "            for nn in graph[node]:\n",
    "                \n",
    "           \n",
    "                if nn not in seen:\n",
    "                    stack.append(nn)\n",
    "                    seen.add(nn)"
   ]
  },
  {
   "cell_type": "code",
   "execution_count": 21,
   "metadata": {},
   "outputs": [
    {
     "name": "stdout",
     "output_type": "stream",
     "text": [
      "{'A': ['C', 'E'], 'C': ['B', 'G'], 'E': ['H'], 'H': ['D']}\n",
      "Visiting node: A\n",
      "Visiting node: C\n",
      "Visiting node: E\n",
      "Visiting node: B\n"
     ]
    },
    {
     "data": {
      "text/plain": [
       "True"
      ]
     },
     "execution_count": 21,
     "metadata": {},
     "output_type": "execute_result"
    }
   ],
   "source": [
    "#graph = GraphI([[0,1],[1,2],[2,0],[3,1]])\n",
    "graph = GraphI([['A','C'],['C','B'],['A','E'],['C','G'],['E','H'],['H','D']])\n",
    "graph.get_graph()\n",
    "\n",
    "print(graph.get_graph())\n",
    "\n",
    "breadth_first_search(graph,'A', 'B')"
   ]
  },
  {
   "cell_type": "code",
   "execution_count": null,
   "metadata": {},
   "outputs": [],
   "source": []
  }
 ],
 "metadata": {
  "kernelspec": {
   "display_name": "base",
   "language": "python",
   "name": "python3"
  },
  "language_info": {
   "codemirror_mode": {
    "name": "ipython",
    "version": 3
   },
   "file_extension": ".py",
   "mimetype": "text/x-python",
   "name": "python",
   "nbconvert_exporter": "python",
   "pygments_lexer": "ipython3",
   "version": "3.9.12"
  }
 },
 "nbformat": 4,
 "nbformat_minor": 2
}
