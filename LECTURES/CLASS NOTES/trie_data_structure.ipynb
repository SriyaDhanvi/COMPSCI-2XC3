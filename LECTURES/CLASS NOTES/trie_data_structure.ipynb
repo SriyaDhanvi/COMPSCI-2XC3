{
 "cells": [
  {
   "cell_type": "code",
   "execution_count": null,
   "metadata": {},
   "outputs": [],
   "source": [
    "import ipywidgets as widgets"
   ]
  },
  {
   "cell_type": "code",
   "execution_count": null,
   "metadata": {},
   "outputs": [],
   "source": [
    "words = [\"app\", \"abs\", \"act\", \"appear\", \"appraise\", \"absent\", \"absolute”\", \"action\"]\n",
    "result = []"
   ]
  },
  {
   "cell_type": "code",
   "execution_count": 34,
   "metadata": {},
   "outputs": [],
   "source": [
    "class Node_modifications:\n",
    "    def __init__(self,):\n",
    "        self.children={}\n",
    "        self.children = [None] * 52\n",
    "        \n",
    "        self.is_this_a_word=False"
   ]
  },
  {
   "cell_type": "code",
   "execution_count": null,
   "metadata": {},
   "outputs": [],
   "source": [
    "class Node:\n",
    "     def __init__(self,):\n",
    "        # only including English lower case words\n",
    "        self.children = {}\n",
    "        self.is_this_a_word = False"
   ]
  },
  {
   "cell_type": "code",
   "execution_count": null,
   "metadata": {},
   "outputs": [],
   "source": [
    "class Trie:\n",
    "    def __init__(self,):\n",
    "        # start with an empty node\n",
    "        self.root = Node()\n",
    "\n",
    "    def insert(self,word):\n",
    "        #start with root node\n",
    "        this_node = self.root\n",
    "\n",
    "        # go over all the characters in the word\n",
    "        for char in word:\n",
    "            if char not in this_node.children:\n",
    "                this_node.children[char] = Node()\n",
    "            this_node = this_node.children[char]\n",
    "\n",
    "        this_node.is_this_a_word = True\n",
    "\n",
    "    def search(self,prefix):\n",
    "        #start with root node\n",
    "        this_node = self.root\n",
    "\n",
    "        # go over all the characters in the word\n",
    "        for char in prefix:\n",
    "            if char not in this_node.children:\n",
    "                return None\n",
    "            this_node = this_node.children[char]\n",
    "\n",
    "        return this_node\n",
    "    \n",
    "    def word_exists(self,word):\n",
    "        #start with root node\n",
    "        this_node = self.root\n",
    "\n",
    "        # go over all the characters in the word\n",
    "        for char in word:\n",
    "            if char not in this_node.children:\n",
    "                return False\n",
    "            this_node = this_node.children[char]\n",
    "            if this_node.is_this_a_word:\n",
    "                return True\n",
    "        return False\n",
    "\n",
    "        "
   ]
  },
  {
   "cell_type": "code",
   "execution_count": null,
   "metadata": {},
   "outputs": [],
   "source": [
    "trie = Trie()\n",
    "trie.insert(\"discombobulate\")\n",
    "trie.insert(\"discord\")"
   ]
  },
  {
   "cell_type": "code",
   "execution_count": null,
   "metadata": {},
   "outputs": [],
   "source": [
    "trie.root.children[\"d\"].children[\"i\"].children[\"s\"].children[\"c\"].children[\"o\"].children"
   ]
  },
  {
   "cell_type": "code",
   "execution_count": null,
   "metadata": {},
   "outputs": [],
   "source": [
    "trie = Trie()\n",
    "\n",
    "trie.insert(\"apple\")\n",
    "trie.insert(\"appear\")\n",
    "#show_trie(trie)"
   ]
  },
  {
   "cell_type": "code",
   "execution_count": null,
   "metadata": {},
   "outputs": [],
   "source": [
    "trie.word_exists(\"apple\")"
   ]
  },
  {
   "cell_type": "code",
   "execution_count": null,
   "metadata": {},
   "outputs": [],
   "source": [
    "trie = Trie()\n",
    "words = [\"app\", \"abs\", \"act\", \"appear\", \"appraise\", \"absent\", \"absolute”\", \"action\"]\n",
    "for word in words:\n",
    "    trie.insert(word)\n",
    "\n",
    "result = []\n",
    "\n",
    "#spell check\n",
    "for word in words:\n",
    "    node =trie.root\n",
    "\n",
    "    prefix=\"\"  \n",
    "\n",
    "    for char in word:\n",
    "\n",
    "        prefix+=char\n",
    "        node=node.children[char]\n",
    "        \n",
    "        if node.is_this_a_word and prefix!=word:\n",
    "            result.append((prefix,word))\n",
    "            break\n",
    "\n",
    "print(result)"
   ]
  },
  {
   "cell_type": "code",
   "execution_count": null,
   "metadata": {},
   "outputs": [],
   "source": [
    "\n",
    "output_text = widgets.Text()\n",
    "input_text = widgets.Text()\n",
    "\n",
    "def get_result(in_text):\n",
    "    for i in result:\n",
    "        if in_text in i[0]:\n",
    "            return i[1]\n",
    "        \n",
    "def bind_input_to_output(sender):\n",
    "    output_text.value = get_result(input_text.value)\n",
    "\n",
    "# shows output on hitting enter\n",
    "input_text.on_submit(bind_input_to_output)\n",
    "input_text\n",
    "\n"
   ]
  },
  {
   "cell_type": "code",
   "execution_count": null,
   "metadata": {},
   "outputs": [],
   "source": [
    "output_text"
   ]
  }
 ],
 "metadata": {
  "kernelspec": {
   "display_name": "base",
   "language": "python",
   "name": "python3"
  },
  "language_info": {
   "codemirror_mode": {
    "name": "ipython",
    "version": 3
   },
   "file_extension": ".py",
   "mimetype": "text/x-python",
   "name": "python",
   "nbconvert_exporter": "python",
   "pygments_lexer": "ipython3",
   "version": "3.9.12"
  }
 },
 "nbformat": 4,
 "nbformat_minor": 2
}
