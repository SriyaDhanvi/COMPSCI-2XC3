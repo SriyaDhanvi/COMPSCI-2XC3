{
 "cells": [
  {
   "cell_type": "code",
   "execution_count": 2,
   "metadata": {},
   "outputs": [],
   "source": [
    "import random\n",
    "import timeit \n",
    "import matplotlib.pyplot as plt\n",
    "import numpy as np\n",
    "import math\n",
    "from PrettyPrint import PrettyPrintTree\n",
    "import colorama\n",
    "from colorama import Back,Style,Fore"
   ]
  },
  {
   "cell_type": "markdown",
   "metadata": {},
   "source": [
    "### Create a list of items"
   ]
  },
  {
   "cell_type": "code",
   "execution_count": 3,
   "metadata": {},
   "outputs": [
    {
     "data": {
      "text/plain": [
       "[890, 510, 313, 756, 647, 769, 10, 417, 598, 912, 784]"
      ]
     },
     "execution_count": 3,
     "metadata": {},
     "output_type": "execute_result"
    }
   ],
   "source": [
    "def create_list_custom(length, max_value, item=None, item_index=None):\n",
    "    random_list = [random.randint(0,max_value) for i in range(length)]\n",
    "    if item!= None:\n",
    "        random_list.insert(item_index,item)\n",
    "    return random_list\n",
    "\n",
    "create_list_custom(10,1000,10,6)"
   ]
  },
  {
   "cell_type": "markdown",
   "metadata": {},
   "source": [
    "### Draw Plot of Run times"
   ]
  },
  {
   "cell_type": "code",
   "execution_count": 4,
   "metadata": {},
   "outputs": [],
   "source": [
    "def draw_show_plot(run_arr):\n",
    "    x = np.arange(0, len(run_arr),1)\n",
    "    fig=plt.figure(figsize=(20,8))\n",
    "    plt.bar(x,run_arr)\n",
    "    plt.axhline(np.mean(run_arr),color=\"red\",linestyle=\"--\",label=\"Avg\")\n",
    "    plt.xlabel(\"Iterations\")\n",
    "    plt.ylabel(\"Run time in ms order of 1e-6\")\n",
    "    plt.title(\"Run time for retrieval\")\n",
    "    plt.show()"
   ]
  },
  {
   "cell_type": "markdown",
   "metadata": {},
   "source": [
    "### Recursion"
   ]
  },
  {
   "cell_type": "code",
   "execution_count": 5,
   "metadata": {},
   "outputs": [
    {
     "name": "stdout",
     "output_type": "stream",
     "text": [
      "[0, 1, 2, 3, 4, 5, 6, 7, 8, 9]\n"
     ]
    }
   ],
   "source": [
    "x = [i for i in range(10)]\n",
    "print(x)"
   ]
  },
  {
   "cell_type": "code",
   "execution_count": 10,
   "id": "3be12061",
   "metadata": {},
   "outputs": [],
   "source": [
    "def print_value(x):\n",
    "    #base condition\n",
    "    if len(x)==0:\n",
    "        return 0\n",
    "   \n",
    "    #task to do\n",
    "    print(x[0])\n",
    "    \n",
    "\n",
    "    # recursive call\n",
    "    print_value(x[1:])"
   ]
  },
  {
   "cell_type": "code",
   "execution_count": 11,
   "id": "270a4ac2",
   "metadata": {},
   "outputs": [
    {
     "name": "stdout",
     "output_type": "stream",
     "text": [
      "1\n",
      "2\n",
      "3\n",
      "4\n",
      "5\n"
     ]
    }
   ],
   "source": [
    "print_value([1,2,3,4,5])"
   ]
  },
  {
   "cell_type": "code",
   "execution_count": null,
   "id": "03b0e5d8",
   "metadata": {},
   "outputs": [],
   "source": []
  },
  {
   "cell_type": "code",
   "execution_count": null,
   "id": "9ac32b5c",
   "metadata": {},
   "outputs": [],
   "source": []
  },
  {
   "cell_type": "code",
   "execution_count": null,
   "id": "83132c6d",
   "metadata": {},
   "outputs": [],
   "source": []
  },
  {
   "cell_type": "code",
   "execution_count": 6,
   "metadata": {},
   "outputs": [],
   "source": [
    "def print_x(value):\n",
    "\n",
    "    ## end condition (base case)\n",
    "    if value >10:\n",
    "        return\n",
    "    ## action to perform\n",
    "    print(value)\n",
    "\n",
    "    ##recursive call\n",
    "    print_x(value+1)\n",
    "    return"
   ]
  },
  {
   "cell_type": "code",
   "execution_count": 7,
   "metadata": {},
   "outputs": [
    {
     "name": "stdout",
     "output_type": "stream",
     "text": [
      "1\n",
      "2\n",
      "3\n",
      "4\n",
      "5\n",
      "6\n",
      "7\n",
      "8\n",
      "9\n",
      "10\n"
     ]
    }
   ],
   "source": [
    "print_x(1)"
   ]
  },
  {
   "cell_type": "code",
   "execution_count": null,
   "id": "fd72a4c6",
   "metadata": {},
   "outputs": [],
   "source": []
  },
  {
   "cell_type": "code",
   "execution_count": 12,
   "metadata": {},
   "outputs": [],
   "source": [
    "def fibonacci(value):\n",
    "    if value <= 1:\n",
    "        return value\n",
    "    \n",
    "    return fibonacci(value-1)+fibonacci(value-2)\n",
    "    "
   ]
  },
  {
   "cell_type": "code",
   "execution_count": 14,
   "metadata": {},
   "outputs": [
    {
     "data": {
      "text/plain": [
       "[0, 1, 1, 2, 3, 5, 8, 13, 21, 34, 55, 89, 144, 233]"
      ]
     },
     "execution_count": 14,
     "metadata": {},
     "output_type": "execute_result"
    }
   ],
   "source": [
    "[fibonacci(i) for i in range(14)]"
   ]
  },
  {
   "cell_type": "markdown",
   "metadata": {},
   "source": [
    "### Create a Binary Tree"
   ]
  },
  {
   "cell_type": "code",
   "execution_count": 15,
   "id": "8bd35bbd",
   "metadata": {},
   "outputs": [],
   "source": [
    "class Tree:\n",
    "    def __init__(self,value):\n",
    "        self.value= value\n",
    "        self.right= None\n",
    "        self.left=None\n"
   ]
  },
  {
   "cell_type": "code",
   "execution_count": null,
   "id": "914d7c37",
   "metadata": {},
   "outputs": [],
   "source": []
  },
  {
   "cell_type": "code",
   "execution_count": null,
   "id": "b7bec75c",
   "metadata": {},
   "outputs": [],
   "source": []
  },
  {
   "cell_type": "code",
   "execution_count": null,
   "id": "6e198740",
   "metadata": {},
   "outputs": [],
   "source": []
  },
  {
   "cell_type": "code",
   "execution_count": null,
   "id": "a9b66af2",
   "metadata": {},
   "outputs": [],
   "source": []
  },
  {
   "cell_type": "code",
   "execution_count": 39,
   "metadata": {},
   "outputs": [],
   "source": [
    "class Tree:\n",
    "    def __init__(self, value):\n",
    "        self.value = value\n",
    "        self.left = None\n",
    "        self.right = None\n"
   ]
  },
  {
   "cell_type": "markdown",
   "metadata": {},
   "source": [
    "#### via Recursion"
   ]
  },
  {
   "cell_type": "code",
   "execution_count": null,
   "id": "f4266b4b",
   "metadata": {},
   "outputs": [],
   "source": [
    "def add_node(node,value):\n",
    "\n",
    "    # base condition\n",
    "\n",
    "\n",
    "    # task to do\n",
    "\n",
    "\n",
    "    # recursive call\n",
    "    add_node()\n",
    "    return 0"
   ]
  },
  {
   "cell_type": "code",
   "execution_count": null,
   "id": "4f6f77de",
   "metadata": {},
   "outputs": [],
   "source": []
  },
  {
   "cell_type": "code",
   "execution_count": null,
   "id": "b1c1292d",
   "metadata": {},
   "outputs": [],
   "source": []
  },
  {
   "cell_type": "code",
   "execution_count": null,
   "id": "d309c3ce",
   "metadata": {},
   "outputs": [],
   "source": []
  },
  {
   "cell_type": "code",
   "execution_count": null,
   "id": "9dcdc953",
   "metadata": {},
   "outputs": [],
   "source": [
    "Tree(0)"
   ]
  },
  {
   "cell_type": "code",
   "execution_count": 16,
   "metadata": {},
   "outputs": [],
   "source": [
    "## recursion\n",
    "def add_node(node,value):\n",
    "\n",
    "\n",
    "    # base condtion - 1\n",
    "    if not node:\n",
    "        return Tree(value)\n",
    "    \n",
    "\n",
    "    # base condtion - 2\n",
    "    if value >= node.value:\n",
    "\n",
    "        # task to do\n",
    "        #recursive call\n",
    "        node.right = add_node(node.right,value)\n",
    "    else:\n",
    "        #task to do\n",
    "\n",
    "        if value < node.value:\n",
    "            #recursive call\n",
    "            node.left = add_node(node.left,value)\n",
    "    return node\n",
    "\n",
    "\n"
   ]
  },
  {
   "cell_type": "code",
   "execution_count": 17,
   "metadata": {},
   "outputs": [
    {
     "data": {
      "text/plain": [
       "[15, 14, 5, 6, 91, 24, 81, 96, 26, 90]"
      ]
     },
     "execution_count": 17,
     "metadata": {},
     "output_type": "execute_result"
    }
   ],
   "source": [
    "items = create_list_custom(10,100)\n",
    "items"
   ]
  },
  {
   "cell_type": "code",
   "execution_count": 19,
   "metadata": {},
   "outputs": [
    {
     "name": "stdout",
     "output_type": "stream",
     "text": [
      "     \u001b[46m\u001b[30m 15 \u001b[0m\n",
      " ┌────┴─────┐\n",
      "\u001b[46m\u001b[30m 14 \u001b[0m       \u001b[46m\u001b[30m 91 \u001b[0m    \n",
      " |      ┌───┴───┐  \n",
      "\u001b[46m\u001b[30m 5 \u001b[0m    \u001b[46m\u001b[30m 24 \u001b[0m    \u001b[46m\u001b[30m 96 \u001b[0m\n",
      " |      |          \n",
      "\u001b[46m\u001b[30m 6 \u001b[0m    \u001b[46m\u001b[30m 81 \u001b[0m        \n",
      "      ┌─┴──┐       \n",
      "     \u001b[46m\u001b[30m 26 \u001b[0m \u001b[46m\u001b[30m 90 \u001b[0m\n"
     ]
    }
   ],
   "source": [
    "pt = PrettyPrintTree(lambda x: [x for x in [x.left,x.right] if x is not None] , \n",
    "                     lambda x: x.value,color=Back.CYAN+Fore.BLACK)\n",
    "\n",
    "\n",
    "root = Tree(items[0])\n",
    "for index in range(1,len(items)):\n",
    "        root = add_node(root, items[index])\n",
    "        \n",
    "pt(root)\n"
   ]
  },
  {
   "cell_type": "code",
   "execution_count": 65,
   "metadata": {},
   "outputs": [
    {
     "name": "stdout",
     "output_type": "stream",
     "text": [
      "         \u001b[46m\u001b[30m 70 \u001b[0m\n",
      "   ┌──────┴──────┐\n",
      "  \u001b[46m\u001b[30m 38 \u001b[0m          \u001b[46m\u001b[30m 73 \u001b[0m              \n",
      " ┌─┴──┐    ┌─────┴─────┐          \n",
      "\u001b[46m\u001b[30m 23 \u001b[0m \u001b[46m\u001b[30m \u001b[46m   \u001b[0m \u001b[46m\u001b[30m 71 \u001b[0m        \u001b[46m\u001b[30m 83 \u001b[0m        \n",
      "                  ┌────┴────┐     \n",
      "                 \u001b[46m\u001b[30m 78 \u001b[0m      \u001b[46m\u001b[30m 92 \u001b[0m   \n",
      "                ┌─┴──┐    ┌─┴──┐  \n",
      "               \u001b[46m\u001b[30m 76 \u001b[0m \u001b[46m\u001b[30m \u001b[46m   \u001b[0m \u001b[46m\u001b[30m \u001b[46m   \u001b[0m \u001b[46m\u001b[30m 92 \u001b[0m\n"
     ]
    }
   ],
   "source": [
    "pt =PrettyPrintTree(\n",
    "    lambda x: [] if x is None or x.left is x.right is None else [x.left, x.right],\n",
    "    lambda x: x.value if x else (colorama.Back.CYAN + '  ' ),\n",
    "    color=Back.CYAN+Fore.BLACK\n",
    ")\n",
    "\n",
    "root = Tree(items[0])\n",
    "for index in range(1,len(items)):\n",
    "        root = add_node(root, items[index])\n",
    "        \n",
    "pt(root)"
   ]
  },
  {
   "cell_type": "markdown",
   "metadata": {},
   "source": [
    "### via Iterations"
   ]
  },
  {
   "cell_type": "code",
   "execution_count": 66,
   "metadata": {},
   "outputs": [],
   "source": [
    "class TreeNode:\n",
    "    def __init__(self, val=0, left=None, right=None):\n",
    "        self.val = val\n",
    "        self.left = left\n",
    "        self.right = right\n",
    "        \n",
    "\n",
    "def add_node_(root):\n",
    "    if not root:\n",
    "        return 0\n",
    "    \n",
    "    stack = [(root, 1)]\n",
    "    ans = 0\n",
    "    \n",
    "    while stack:\n",
    "        node, depth = stack.pop()\n",
    "        ans = max(ans, depth)\n",
    "        if node.left:\n",
    "            stack.append((node.left, depth + 1))\n",
    "        if node.right:\n",
    "            stack.append((node.right, depth + 1))\n",
    "    \n",
    "    return ans"
   ]
  }
 ],
 "metadata": {
  "kernelspec": {
   "display_name": "base",
   "language": "python",
   "name": "python3"
  },
  "language_info": {
   "codemirror_mode": {
    "name": "ipython",
    "version": 3
   },
   "file_extension": ".py",
   "mimetype": "text/x-python",
   "name": "python",
   "nbconvert_exporter": "python",
   "pygments_lexer": "ipython3",
   "version": "3.9.12"
  }
 },
 "nbformat": 4,
 "nbformat_minor": 5
}
