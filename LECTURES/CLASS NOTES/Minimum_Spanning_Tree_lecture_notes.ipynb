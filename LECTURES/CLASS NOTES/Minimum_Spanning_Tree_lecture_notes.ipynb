{
 "cells": [
  {
   "cell_type": "code",
   "execution_count": 1,
   "metadata": {},
   "outputs": [],
   "source": [
    "import math"
   ]
  },
  {
   "cell_type": "markdown",
   "metadata": {},
   "source": [
    "## Problem"
   ]
  },
  {
   "cell_type": "markdown",
   "metadata": {},
   "source": [
    "Edna wants to find the optimum locations to setup medical emergency centers in flooded region"
   ]
  },
  {
   "cell_type": "markdown",
   "metadata": {},
   "source": [
    "![image info](mst/mst.001.png)"
   ]
  },
  {
   "cell_type": "markdown",
   "metadata": {},
   "source": [
    "### Solution"
   ]
  },
  {
   "cell_type": "markdown",
   "metadata": {},
   "source": [
    "#### Step 1: Get the lay of the land"
   ]
  },
  {
   "cell_type": "markdown",
   "metadata": {},
   "source": [
    "![image info](mst/mst.002.png)"
   ]
  },
  {
   "cell_type": "code",
   "execution_count": 2,
   "metadata": {},
   "outputs": [],
   "source": [
    "connections = [[1,1,0,0,0,0,1,1],\n",
    "               [1,1,0,0,0,0,0,0],\n",
    "               [0,0,1,1,0,0,0,0],\n",
    "               [0,0,1,1,0,1,0,0],\n",
    "               [0,0,0,0,1,1,0,0],\n",
    "               [0,0,0,1,1,1,0,0],\n",
    "               [1,0,0,0,0,0,1,0],\n",
    "               [1,0,0,0,0,0,0,1]]"
   ]
  },
  {
   "cell_type": "markdown",
   "metadata": {},
   "source": [
    "#### Disjoint Set"
   ]
  },
  {
   "cell_type": "code",
   "execution_count": 3,
   "metadata": {},
   "outputs": [],
   "source": [
    "class DisjointSet:\n",
    "\n",
    "    def __init__(self, values):\n",
    "        self.parents = {}\n",
    "        self.root = {}\n",
    "        for value in range(len(values)):\n",
    "            # parent node set to be themselves\n",
    "            self.parents[value] = value\n",
    "\n",
    "            # root is initially one because all nodes are individual \n",
    "            # and not yet connected\n",
    "            self.root[value] = 1\n",
    "\n",
    "    # function to find the root node of a value\n",
    "    def find(self, value):\n",
    "\n",
    "        # base condition \n",
    "        if self.parents[value] == value:\n",
    "            return value\n",
    "        \n",
    "        # recursive call\n",
    "        self.parents[value] = self.find(self.parents[value])\n",
    "        return self.parents[value]\n",
    "\n",
    "    # make a union of two nodes and bring them together\n",
    "    def union(self, node1, node2):\n",
    "        # find parent of node1\n",
    "        root1 = self.find(node1)\n",
    "        # find parent of node2\n",
    "        root2 = self.find(node2)\n",
    "\n",
    "        # if both nodes have the same root node then exit function\n",
    "        if root1 == root2:\n",
    "            return\n",
    "        \n",
    "        # if root of node1 is greater than equal to root of node2 \n",
    "        if self.root[root1] >= self.root[root2]:\n",
    "            # update the root of parent \n",
    "            self.parents[root2] = root1\n",
    "            # adjust the root\n",
    "            self.root[root1] += self.root[root2]\n",
    "        else:\n",
    "            # update the root of parent\n",
    "            self.parents[root1] = root2\n",
    "            # adjust the root\n",
    "            self.root[root2] += self.root[root1]\n"
   ]
  },
  {
   "cell_type": "code",
   "execution_count": 4,
   "metadata": {},
   "outputs": [
    {
     "name": "stdout",
     "output_type": "stream",
     "text": [
      "parent [0, 0, 2, 3, 4, 5, 6, 7]\n",
      "root   [2, 1, 1, 1, 1, 1, 1, 1]\n",
      "parent [0, 0, 2, 3, 4, 5, 0, 7]\n",
      "root   [3, 1, 1, 1, 1, 1, 1, 1]\n",
      "parent [0, 0, 2, 3, 4, 5, 0, 0]\n",
      "root   [4, 1, 1, 1, 1, 1, 1, 1]\n",
      "parent [0, 0, 2, 2, 4, 5, 0, 0]\n",
      "root   [4, 1, 2, 1, 1, 1, 1, 1]\n",
      "parent [0, 0, 2, 2, 4, 2, 0, 0]\n",
      "root   [4, 1, 3, 1, 1, 1, 1, 1]\n",
      "parent [0, 0, 2, 2, 2, 2, 0, 0]\n",
      "root   [4, 1, 4, 1, 1, 1, 1, 1]\n"
     ]
    }
   ],
   "source": [
    "def find_clusters(connected_list):\n",
    "\n",
    "\n",
    "    # create a disjoint set with connected_list\n",
    "    number_of_nodes= len(connected_list)\n",
    "    ds = DisjointSet(connected_list)\n",
    "    for row in range(number_of_nodes):\n",
    "        for col in range(row+1,number_of_nodes):\n",
    "            if connected_list[row][col]==1:\n",
    "                ds.union(row,col)\n",
    "\n",
    "                a=[(ds.parents[i]) for i in range(number_of_nodes)]\n",
    "                b=[(ds.root[i]) for i in range(number_of_nodes)]\n",
    "                print(\"parent\",a)\n",
    "                print(\"root  \",b)\n",
    "\n",
    "find_clusters(connections)\n"
   ]
  },
  {
   "cell_type": "markdown",
   "metadata": {},
   "source": [
    "\n",
    "#### Maximum Independent Set"
   ]
  },
  {
   "cell_type": "markdown",
   "metadata": {},
   "source": [
    "Maximum number of nodes in a set that are not connected by two vertices.\n",
    "\n",
    "Formally, for a graph $G = (V,E)$ a S is an independent set where no two adjecent nodes are present. So essentially, there is no edge that connects any two vertices in that set."
   ]
  },
  {
   "cell_type": "markdown",
   "metadata": {},
   "source": [
    "![image info](mst/mst.007.png)"
   ]
  },
  {
   "cell_type": "markdown",
   "metadata": {},
   "source": [
    "Step 2: Find the minimum set of edges that connected ALL nodes. We want to minimize the cost."
   ]
  },
  {
   "cell_type": "markdown",
   "metadata": {},
   "source": [
    "#### Spanning Tree"
   ]
  },
  {
   "cell_type": "markdown",
   "metadata": {},
   "source": [
    "Spanning Tree is described as a set of edges that cover all vertices"
   ]
  },
  {
   "cell_type": "markdown",
   "metadata": {},
   "source": [
    "![image info](mst/mst.006.png)"
   ]
  },
  {
   "cell_type": "markdown",
   "metadata": {},
   "source": [
    "Is $ST = ((A,H),(B,C),(F,E))$ a Spanning Tree ?"
   ]
  },
  {
   "cell_type": "markdown",
   "metadata": {},
   "source": [
    "Is $ST = ((A,H),(B,C),(F,E),(B,E))$ a Spanning Tree ?"
   ]
  },
  {
   "cell_type": "markdown",
   "metadata": {},
   "source": [
    "Is $ST = ((A,H),(A,G),(B,C),(C,D),(D,G),(B,E),(D,F))$ a Spanning Tree ?"
   ]
  },
  {
   "cell_type": "markdown",
   "metadata": {},
   "source": [
    "#### Graphs aren't really uniform. Navigation has a cost"
   ]
  },
  {
   "cell_type": "markdown",
   "metadata": {},
   "source": [
    "![image info](mst/mst.008.png)"
   ]
  },
  {
   "cell_type": "markdown",
   "metadata": {},
   "source": [
    "![image info](mst/mst.005.png)"
   ]
  },
  {
   "cell_type": "markdown",
   "metadata": {},
   "source": [
    "![image info](mst/mst.009.png)"
   ]
  },
  {
   "cell_type": "markdown",
   "metadata": {},
   "source": [
    "Minimum Spanning Tree is a tree that has the minimum number of edges that cover all indices with minimum weight."
   ]
  },
  {
   "cell_type": "code",
   "execution_count": 5,
   "metadata": {},
   "outputs": [],
   "source": [
    "class WeightedGraph:\n",
    "\n",
    "    def __init__(self, nodes):\n",
    "        self.graph = {}\n",
    "        self.weight = {}\n",
    "        for i in range(nodes):\n",
    "            self.graph[i] = []\n",
    "\n",
    "    def are_connected(self, node1, node2):\n",
    "        for node in self.adj[node1]:\n",
    "            if node == node2:\n",
    "                return True\n",
    "        return False\n",
    "\n",
    "    def connected_nodes(self, node):\n",
    "        return self.graph[node]\n",
    "\n",
    "    def add_node(self,):\n",
    "        #add a new node number = length of existing node\n",
    "        self.graph[len(self.graph)] = []\n",
    "\n",
    "    def add_edge(self, node1, node2, weight):\n",
    "        if node1 not in self.graph[node2]:\n",
    "            self.graph[node1].append(node2)\n",
    "            self.weight[(node1, node2)] = weight\n",
    "\n",
    "            #since it is undirected\n",
    "            self.graph[node2].append(node1)\n",
    "            self.weight[(node2, node1)] = weight\n",
    "\n",
    "    def number_of_nodes(self,):\n",
    "        return len(self.graph)\n",
    "\n",
    "    def has_edge(self, src, dst):\n",
    "        return dst in self.graph[src] \n",
    "\n",
    "    def get_weight(self,):\n",
    "        total = 0\n",
    "        for node1 in self.graph:\n",
    "            for node2 in self.graph[node1]:\n",
    "                total += self.weight[(node1, node2)]\n",
    "                \n",
    "        # because it is undirected\n",
    "        return total/2"
   ]
  },
  {
   "cell_type": "markdown",
   "metadata": {},
   "source": [
    "![image info](mst/mst.008.png)"
   ]
  },
  {
   "cell_type": "code",
   "execution_count": 6,
   "metadata": {},
   "outputs": [
    {
     "data": {
      "text/plain": [
       "{0: [1, 6, 7],\n",
       " 1: [0, 2, 4],\n",
       " 2: [1, 3],\n",
       " 3: [2, 5, 6],\n",
       " 4: [1, 5],\n",
       " 5: [3, 4],\n",
       " 6: [0, 3],\n",
       " 7: [0]}"
      ]
     },
     "execution_count": 6,
     "metadata": {},
     "output_type": "execute_result"
    }
   ],
   "source": [
    "g = WeightedGraph(8)\n",
    "edges = [(0,1,15),(0,6,15),(0,7,20),\n",
    "         (1,0,15),(1,2,30),(1,4,45),\n",
    "         (2,1,30),(2,3,20),\n",
    "         (3,2,20),(3,5,25),(3,6,30),\n",
    "         (4,1,45),(4,5,15),\n",
    "         (5,4,15),(5,3,25),\n",
    "         (6,0,15),(6,3,30),\n",
    "         (7,0,20)]\n",
    "\n",
    "for e in edges:\n",
    "    g.add_edge(e[0],e[1],e[2])\n",
    "\n",
    "g.graph"
   ]
  },
  {
   "cell_type": "code",
   "execution_count": 7,
   "metadata": {},
   "outputs": [
    {
     "ename": "SyntaxError",
     "evalue": "invalid syntax (573746214.py, line 10)",
     "output_type": "error",
     "traceback": [
      "\u001b[1;36m  Cell \u001b[1;32mIn[7], line 10\u001b[1;36m\u001b[0m\n\u001b[1;33m    for nodes in G.graph[]\u001b[0m\n\u001b[1;37m                         ^\u001b[0m\n\u001b[1;31mSyntaxError\u001b[0m\u001b[1;31m:\u001b[0m invalid syntax\n"
     ]
    }
   ],
   "source": [
    "def prims(G):\n",
    "    mst = WeightedGraph(G.number_of_nodes())\n",
    "\n",
    "    visited_nodes={}\n",
    "    for i in range(G.number_of_nodes()):\n",
    "        visited_nodes[i]=False\n",
    "\n",
    "\n",
    "    curr_edge=(0,1,99999999)\n",
    "    for nodes in G.graph[]"
   ]
  },
  {
   "cell_type": "code",
   "execution_count": null,
   "metadata": {},
   "outputs": [],
   "source": []
  },
  {
   "cell_type": "code",
   "execution_count": null,
   "metadata": {},
   "outputs": [],
   "source": []
  },
  {
   "cell_type": "markdown",
   "metadata": {},
   "source": [
    "#### Constructing minimum spanning tree: Prim's Algorithm"
   ]
  },
  {
   "cell_type": "code",
   "execution_count": 8,
   "metadata": {},
   "outputs": [],
   "source": [
    "def prims(G):\n",
    "    mst = WeightedGraph(G.number_of_nodes())\n",
    "    visited_nodes = {}\n",
    "    for i in G.graph.keys():\n",
    "        visited_nodes[i]=False\n",
    "\n",
    "    # initialize the tree with a single node, chosen arbitarily    \n",
    "    visited_nodes[0]=True\n",
    "\n",
    "    # find all the edges that connect the tree with the remaining vertices\n",
    "    for i in range(G.number_of_nodes()-1):\n",
    "        current_edge = (0,0,99999)\n",
    "        for start_node in G.graph:\n",
    "            for end_node in G.graph[start_node]:\n",
    "                # if the start node is visited but end node is not\n",
    "                if visited_nodes[start_node] and not visited_nodes[end_node]:\n",
    "                    # find the minimum weigthed edge - if the weight is less than current\n",
    "                    if G.weight[(start_node,end_node)] < current_edge[2]:\n",
    "                        current_edge = (start_node,end_node, G.weight[(start_node,end_node)])\n",
    "        \n",
    "        # mark the current node as visited\n",
    "        visited_nodes[current_edge[1]] = True\n",
    "\n",
    "        #add the node\n",
    "        mst.add_edge(current_edge[0],current_edge[1],current_edge[2])\n",
    "\n",
    "    return mst\n",
    "   "
   ]
  },
  {
   "cell_type": "code",
   "execution_count": 9,
   "metadata": {},
   "outputs": [],
   "source": [
    "mst = prims(g)"
   ]
  },
  {
   "cell_type": "code",
   "execution_count": 10,
   "metadata": {},
   "outputs": [
    {
     "data": {
      "text/plain": [
       "{0: [1, 6, 7],\n",
       " 1: [0, 2],\n",
       " 2: [1, 3],\n",
       " 3: [2, 5],\n",
       " 4: [5],\n",
       " 5: [3, 4],\n",
       " 6: [0],\n",
       " 7: [0]}"
      ]
     },
     "execution_count": 10,
     "metadata": {},
     "output_type": "execute_result"
    }
   ],
   "source": [
    "mst.graph"
   ]
  },
  {
   "cell_type": "markdown",
   "metadata": {},
   "source": [
    "### Prim's using min heap"
   ]
  },
  {
   "cell_type": "code",
   "execution_count": 11,
   "metadata": {},
   "outputs": [],
   "source": [
    "class Item:\n",
    "    def __init__(self, value, key):\n",
    "        self.key = key\n",
    "        self.value = value\n",
    "    \n",
    "    def __str__(self):\n",
    "        return \"(\" + str(self.key) + \",\" + str(self.value) + \")\""
   ]
  },
  {
   "cell_type": "code",
   "execution_count": 12,
   "metadata": {},
   "outputs": [
    {
     "name": "stdout",
     "output_type": "stream",
     "text": [
      "(A,(1, 2))\n",
      "(B,(22, 33))\n",
      "(C,3)\n",
      "(D,4)\n"
     ]
    }
   ],
   "source": [
    "nodes = [Item((1,2),'A'),Item((22,33),'B'),Item(3,'C'),Item(4,'D')]\n",
    "for n in nodes:\n",
    "    print(n)"
   ]
  },
  {
   "cell_type": "code",
   "execution_count": 13,
   "metadata": {},
   "outputs": [
    {
     "data": {
      "text/plain": [
       "{0: [1, 6, 7],\n",
       " 1: [0, 2, 4],\n",
       " 2: [1, 3],\n",
       " 3: [2, 5, 6],\n",
       " 4: [1, 5],\n",
       " 5: [3, 4],\n",
       " 6: [0, 3],\n",
       " 7: [0]}"
      ]
     },
     "execution_count": 13,
     "metadata": {},
     "output_type": "execute_result"
    }
   ],
   "source": [
    "g = WeightedGraph(8)\n",
    "edges = [(0,1,15),(0,6,15),(0,7,20),\n",
    "         (1,0,15),(1,2,30),(1,4,45),\n",
    "         (2,1,30),(2,3,20),\n",
    "         (3,2,20),(3,5,25),(3,6,30),\n",
    "         (4,1,45),(4,5,15),\n",
    "         (5,4,15),(5,3,25),\n",
    "         (6,0,15),(6,3,30),\n",
    "         (7,0,20)]\n",
    "\n",
    "for e in edges:\n",
    "    g.add_edge(e[0],e[1],e[2])\n",
    "\n",
    "g.graph"
   ]
  },
  {
   "cell_type": "code",
   "execution_count": 14,
   "metadata": {},
   "outputs": [],
   "source": [
    "class MinHeap:\n",
    "    def __init__(self, data):\n",
    "        self.items = data\n",
    "        self.length = len(data)\n",
    "        self.build_heap()\n",
    "\n",
    "        # add a map based on input node\n",
    "        self.map = {}\n",
    "        for i in range(self.length):\n",
    "            self.map[self.items[i].value] = i\n",
    "\n",
    "    def find_left_index(self,index):\n",
    "        return 2 * (index + 1) - 1\n",
    "\n",
    "    def find_right_index(self,index):\n",
    "        return 2 * (index + 1)\n",
    "\n",
    "    def find_parent_index(self,index):\n",
    "        return (index + 1) // 2 - 1  \n",
    "    \n",
    "    def sink_down(self, index):\n",
    "        smallest_known_index = index\n",
    "\n",
    "        if self.find_left_index(index) < self.length and self.items[self.find_left_index(index)].key < self.items[index].key:\n",
    "            smallest_known_index = self.find_left_index(index)\n",
    "\n",
    "        if self.find_right_index(index) < self.length and self.items[self.find_right_index(index)].key < self.items[smallest_known_index].key:\n",
    "            smallest_known_index = self.find_right_index(index)\n",
    "\n",
    "        if smallest_known_index != index:\n",
    "            self.items[index], self.items[smallest_known_index] = self.items[smallest_known_index], self.items[index]\n",
    "            \n",
    "            # update map\n",
    "            self.map[self.items[index].value] = index\n",
    "            self.map[self.items[smallest_known_index].value] = smallest_known_index\n",
    "\n",
    "            # recursive call\n",
    "            self.sink_down(smallest_known_index)\n",
    "\n",
    "    def build_heap(self,):\n",
    "        for i in range(self.length // 2 - 1, -1, -1):\n",
    "            self.sink_down(i) \n",
    "\n",
    "    def insert(self, node):\n",
    "        if len(self.items) == self.length:\n",
    "            self.items.append(node)\n",
    "        else:\n",
    "            self.items[self.length] = node\n",
    "        self.map[node.value] = self.length\n",
    "        self.length += 1\n",
    "        self.swim_up(self.length - 1)\n",
    "\n",
    "    def insert_nodes(self, node_list):\n",
    "        for node in node_list:\n",
    "            self.insert(node)\n",
    "\n",
    "    def swim_up(self, index):\n",
    "        \n",
    "        while index > 0 and self.items[self.find_parent_index(index)].key < self.items[self.find_parent_index(index)].key:\n",
    "            #swap values\n",
    "            self.items[index], self.items[self.find_parent_index(index)] = self.items[self.find_parent_index(index)], self.items[index]\n",
    "            #update map\n",
    "            self.map[self.items[index].value] = index\n",
    "            self.map[self.items[self.find_parent_index(index)].value] = self.find_parent_index(index)\n",
    "            index = self.find_parent_index(index)\n",
    "\n",
    "    def get_min(self):\n",
    "        if len(self.items) > 0:\n",
    "            return self.items[0]\n",
    "\n",
    "    def extract_min(self,):\n",
    "        #xchange\n",
    "        self.items[0], self.items[self.length - 1] = self.items[self.length - 1], self.items[0]\n",
    "        #update map\n",
    "        self.map[self.items[self.length - 1].value] = self.length - 1\n",
    "        self.map[self.items[0].value] = 0\n",
    "\n",
    "        min_node = self.items[self.length - 1]\n",
    "        self.length -= 1\n",
    "        self.map.pop(min_node.value)\n",
    "        self.sink_down(0)\n",
    "        return min_node\n",
    "\n",
    "    def decrease_key(self, value, new_key):\n",
    "        if new_key >= self.items[self.map[value]].key:\n",
    "            return\n",
    "        index = self.map[value]\n",
    "        self.items[index].key = new_key\n",
    "        self.swim_up(index)\n",
    "\n",
    "    def get_element_from_value(self, value):\n",
    "        return self.items[self.map[value]]\n",
    "\n",
    "    def is_empty(self):\n",
    "        return self.length == 0\n",
    "    \n",
    "    def __str__(self):\n",
    "        height = math.ceil(math.log(self.length + 1, 2))\n",
    "        whitespace = 2 ** height + height\n",
    "        s = \"\"\n",
    "        for i in range(height):\n",
    "            for j in range(2 ** i - 1, min(2 ** (i + 1) - 1, self.length)):\n",
    "                s += \" \" * whitespace\n",
    "                s += str(self.items[j]) + \" \"\n",
    "            s += \"\\n\"\n",
    "            whitespace = whitespace // 2\n",
    "        return s\n"
   ]
  },
  {
   "cell_type": "code",
   "execution_count": 15,
   "metadata": {},
   "outputs": [],
   "source": [
    "def prim_with_heap(G):\n",
    "    mst = WeightedGraph(G.number_of_nodes())\n",
    "\n",
    "    visited_nodes={}\n",
    "    for i in range(G.number_of_nodes()):\n",
    "        visited_nodes[i]=False\n",
    "\n",
    "    Q = MinHeap([])\n",
    "\n",
    "    for end_nodes in G.graph[0]:\n",
    "        Q.insert(Item((0, end_nodes),G.weight[(0, end_nodes)]))\n",
    "\n",
    "    while not Q.is_empty():\n",
    "        min_edge = Q.extract_min()\n",
    "\n",
    "        \n",
    "\n",
    "\n",
    "\n",
    "\n",
    "\n",
    "    \n"
   ]
  },
  {
   "cell_type": "code",
   "execution_count": 16,
   "metadata": {},
   "outputs": [],
   "source": [
    "prim_with_heap(g)"
   ]
  },
  {
   "cell_type": "code",
   "execution_count": null,
   "metadata": {},
   "outputs": [],
   "source": []
  },
  {
   "cell_type": "code",
   "execution_count": null,
   "metadata": {},
   "outputs": [],
   "source": []
  },
  {
   "cell_type": "code",
   "execution_count": null,
   "metadata": {},
   "outputs": [],
   "source": []
  },
  {
   "cell_type": "code",
   "execution_count": null,
   "metadata": {},
   "outputs": [],
   "source": []
  },
  {
   "cell_type": "code",
   "execution_count": null,
   "metadata": {},
   "outputs": [],
   "source": []
  },
  {
   "cell_type": "code",
   "execution_count": null,
   "metadata": {},
   "outputs": [],
   "source": []
  },
  {
   "cell_type": "code",
   "execution_count": null,
   "metadata": {},
   "outputs": [],
   "source": []
  },
  {
   "cell_type": "code",
   "execution_count": null,
   "metadata": {},
   "outputs": [],
   "source": []
  },
  {
   "cell_type": "code",
   "execution_count": 17,
   "metadata": {},
   "outputs": [],
   "source": [
    "def prim_with_heap_1(G):\n",
    "    mst = WeightedGraph(G.number_of_nodes())\n",
    "    visited_nodes = {}\n",
    "    for i in G.graph.keys():\n",
    "        visited_nodes[i]=False\n",
    "\n",
    "    # initialize the tree with a single node, chosen arbitarily    \n",
    "    visited_nodes[0]=True\n",
    "\n",
    "    # create an empty heap\n",
    "    Q = MinHeap([])\n",
    "\n",
    "    # add the first set of edges into the Q\n",
    "    for end_node in G.graph[0]:\n",
    "        Q.insert(Item((0,end_node),G.weight[(0,end_node)]))\n",
    "\n",
    "   \n",
    "\n",
    "    # find all the edges that connect the tree with the remaining vertices\n",
    "    while not Q.is_empty():\n",
    "\n",
    "        # find the minimum weigthed edge - if the weight is less than current\n",
    "        min_edge = Q.extract_min().value\n",
    "\n",
    "        print(Q)\n",
    "\n",
    "        curr_edge = min_edge[1]\n",
    "        # if the start node is visited but end node is not\n",
    "        if not visited_nodes[curr_edge]:\n",
    "            # add the node to mst\n",
    "            mst.add_edge(min_edge[0], curr_edge, G.weight[min_edge])\n",
    "\n",
    "\n",
    "\n",
    "            # adjust the heap\n",
    "            for end_node in G.graph[curr_edge]:\n",
    "                Q.insert(Item((curr_edge, end_node), G.weight[(curr_edge, end_node)]))\n",
    "\n",
    "            # mark the current node as visited\n",
    "            visited_nodes[curr_edge] = True\n",
    "    return mst"
   ]
  },
  {
   "cell_type": "code",
   "execution_count": 18,
   "metadata": {},
   "outputs": [
    {
     "name": "stdout",
     "output_type": "stream",
     "text": [
      "      (15,(0, 6)) \n",
      "   (20,(0, 7)) \n",
      "\n",
      "           (15,(1, 0)) \n",
      "     (20,(0, 7))      (45,(1, 4)) \n",
      "  (30,(1, 2)) \n",
      "\n",
      "           (20,(0, 7)) \n",
      "     (15,(6, 0))      (45,(1, 4)) \n",
      "  (30,(1, 2))   (30,(6, 3)) \n",
      "\n",
      "           (15,(6, 0)) \n",
      "     (30,(6, 3))      (45,(1, 4)) \n",
      "  (30,(1, 2)) \n",
      "\n",
      "           (20,(7, 0)) \n",
      "     (30,(6, 3))      (45,(1, 4)) \n",
      "  (30,(1, 2)) \n",
      "\n",
      "      (30,(1, 2)) \n",
      "   (30,(6, 3))    (45,(1, 4)) \n",
      "\n",
      "      (30,(6, 3)) \n",
      "   (45,(1, 4)) \n",
      "\n",
      "      (20,(2, 3)) \n",
      "   (45,(1, 4))    (30,(2, 1)) \n",
      "\n",
      "           (30,(3, 6)) \n",
      "     (45,(1, 4))      (30,(2, 1)) \n",
      "  (20,(3, 2))   (25,(3, 5)) \n",
      "\n",
      "           (25,(3, 5)) \n",
      "     (45,(1, 4))      (30,(2, 1)) \n",
      "  (20,(3, 2)) \n",
      "\n",
      "      (20,(3, 2)) \n",
      "   (45,(1, 4))    (30,(2, 1)) \n",
      "\n",
      "           (15,(5, 4)) \n",
      "     (45,(1, 4))      (30,(2, 1)) \n",
      "  (25,(5, 3)) \n",
      "\n",
      "      (25,(5, 3)) \n",
      "   (45,(1, 4))    (30,(2, 1)) \n",
      "\n",
      "           (15,(4, 5)) \n",
      "     (45,(1, 4))      (30,(2, 1)) \n",
      "  (45,(4, 1)) \n",
      "\n",
      "      (30,(2, 1)) \n",
      "   (45,(1, 4))    (45,(4, 1)) \n",
      "\n",
      "      (45,(4, 1)) \n",
      "   (45,(1, 4)) \n",
      "\n",
      "   (45,(1, 4)) \n",
      "\n",
      "\n"
     ]
    },
    {
     "data": {
      "text/plain": [
       "{0: [1, 6, 7],\n",
       " 1: [0, 2],\n",
       " 2: [1],\n",
       " 3: [6, 5],\n",
       " 4: [5],\n",
       " 5: [3, 4],\n",
       " 6: [0, 3],\n",
       " 7: [0]}"
      ]
     },
     "execution_count": 18,
     "metadata": {},
     "output_type": "execute_result"
    }
   ],
   "source": [
    "#g.graph\n",
    "mst = prim_with_heap_1(g)\n",
    "\n",
    "mst.graph"
   ]
  },
  {
   "cell_type": "code",
   "execution_count": null,
   "metadata": {},
   "outputs": [],
   "source": []
  },
  {
   "cell_type": "code",
   "execution_count": 19,
   "metadata": {},
   "outputs": [],
   "source": [
    "def prim_with_heap_2(G):\n",
    "    mst = WeightedGraph(G.number_of_nodes())\n",
    "    visited_nodes = {}\n",
    "    parent_nodes = {}\n",
    "    for i in range(G.number_of_nodes()):\n",
    "        visited_nodes[i]=False\n",
    "\n",
    "\n",
    "    # create an empty heap\n",
    "    Q = MinHeap([])\n",
    "\n",
    "    # insert 0th node with no connections and 0 weight\n",
    "    Q.insert(Item(0,0))\n",
    "\n",
    "    # initialize the keys to very high value and the all vertices are not part of mst yet\n",
    "    for i in range(1, G.number_of_nodes()):\n",
    "        Q.insert(Item(i, 99999))\n",
    "\n",
    "    # find all the edges that connect the tree with the remaining vertices\n",
    "    while not Q.is_empty():\n",
    "\n",
    "        print(Q)\n",
    "\n",
    "        # find the minimum weigthed edge - if the weight is less than current\n",
    "        min_node = Q.extract_min().value\n",
    "        visited_nodes[min_node] = True\n",
    "\n",
    "        if min_node!=0:\n",
    "             mst.add_edge(min_node, parent_nodes[min_node], G.weight[(min_node,parent_nodes[min_node])])\n",
    "\n",
    "        #loop through all adjacent nodes\n",
    "        for end_node in G.graph[min_node]:\n",
    "            # if the end node is not visited \n",
    "            if not visited_nodes[end_node]:\n",
    "                # get the value of in Item and compare against the weight\n",
    "                if G.weight[(min_node, end_node)] < Q.get_element_from_value(end_node).key:\n",
    "                    #decrease the key\n",
    "                    Q.decrease_key(end_node, G.weight[(min_node, end_node)])\n",
    "                    # update parent of current node\n",
    "                    parent_nodes[end_node] = min_node\n",
    "\n",
    "    return mst\n"
   ]
  },
  {
   "cell_type": "code",
   "execution_count": null,
   "metadata": {},
   "outputs": [
    {
     "name": "stdout",
     "output_type": "stream",
     "text": [
      "                    (0,0) \n",
      "          (99999,1)           (99999,2) \n",
      "     (99999,3)      (99999,4)      (99999,5)      (99999,6) \n",
      "  (99999,7) \n",
      "\n",
      "           (20,7) \n",
      "     (15,1)      (99999,2) \n",
      "  (99999,3)   (99999,4)   (99999,5)   (15,6) \n",
      "\n",
      "           (15,6) \n",
      "     (15,1)      (99999,2) \n",
      "  (99999,3)   (99999,4)   (99999,5) \n",
      "\n",
      "           (15,1) \n",
      "     (99999,5)      (99999,2) \n",
      "  (30,3)   (99999,4) \n",
      "\n",
      "           (45,4) \n",
      "     (99999,5)      (30,2) \n",
      "  (30,3) \n",
      "\n",
      "      (30,3) \n",
      "   (15,5)    (30,2) \n",
      "\n",
      "      (15,5) \n",
      "   (20,2) \n",
      "\n",
      "   (20,2) \n",
      "\n"
     ]
    },
    {
     "data": {
      "text/plain": [
       "{0: [7, 6, 1],\n",
       " 1: [0, 4],\n",
       " 2: [3],\n",
       " 3: [6, 2],\n",
       " 4: [1, 5],\n",
       " 5: [4],\n",
       " 6: [0, 3],\n",
       " 7: [0]}"
      ]
     },
     "execution_count": 150,
     "metadata": {},
     "output_type": "execute_result"
    }
   ],
   "source": [
    "#g.graph\n",
    "mst = prim_with_heap_2(g)\n",
    "\n",
    "mst.graph"
   ]
  },
  {
   "cell_type": "code",
   "execution_count": null,
   "metadata": {},
   "outputs": [],
   "source": []
  }
 ],
 "metadata": {
  "kernelspec": {
   "display_name": "base",
   "language": "python",
   "name": "python3"
  },
  "language_info": {
   "codemirror_mode": {
    "name": "ipython",
    "version": 3
   },
   "file_extension": ".py",
   "mimetype": "text/x-python",
   "name": "python",
   "nbconvert_exporter": "python",
   "pygments_lexer": "ipython3",
   "version": "3.11.1"
  }
 },
 "nbformat": 4,
 "nbformat_minor": 2
}
